{
 "cells": [
  {
   "cell_type": "markdown",
   "metadata": {},
   "source": [
    "# ***Organização Industrial - EAE0508***"
   ]
  },
  {
   "cell_type": "code",
   "execution_count": 16,
   "metadata": {},
   "outputs": [],
   "source": [
    "import pandas as pd\n",
    "import seaborn as sns\n",
    "import matplotlib.pyplot as plt\n",
    "import plotly.express as px\n",
    "import plotly.graph_objects as go\n",
    "import requests\n",
    "import os\n",
    "import trabalhodecurso\n",
    "\n",
    "from pathlib import Path\n",
    "from brfinance import CVMAsyncBackend\n",
    "from datetime import datetime, date\n",
    "from unidecode import unidecode\n",
    "from bs4 import BeautifulSoup"
   ]
  },
  {
   "cell_type": "markdown",
   "metadata": {},
   "source": [
    "### *Dados de Lojas*"
   ]
  },
  {
   "cell_type": "code",
   "execution_count": 17,
   "metadata": {},
   "outputs": [],
   "source": [
    "#r = requests.get('https://www.marisa.com.br/store-finder')\n",
    "#\n",
    "#soup = BeautifulSoup(r.text, 'html.parser')\n",
    "#\n",
    "#if soup.find(id='storelocator-query') is not None:\n",
    "#    print('Found')\n",
    "#else: \n",
    "#    print('Not found.')"
   ]
  },
  {
   "cell_type": "markdown",
   "metadata": {},
   "source": [
    "## *Análises*\n",
    "***"
   ]
  },
  {
   "cell_type": "code",
   "execution_count": 72,
   "metadata": {},
   "outputs": [],
   "source": [
    "demonstrativos = pd.read_excel('dados/demonstrativos.xlsx').sort_values(by='consolidado')\n",
    "financas = pd.read_excel('dados/indicadores-financeiros.xlsx').sort_values(by='consolidado')\n",
    "mercado = pd.read_excel('dados/indicadores-mercado.xlsx').sort_values(by='consolidado')\n",
    "lojas = pd.read_excel('dados/lojas-e-funcionarios.xlsx').sort_values(by='Ano')\n",
    "comercio = pd.read_excel('dados/pesquisa-comercio.xlsx')\n",
    "acoes = pd.read_excel('dados/preco-acao.xlsx')"
   ]
  },
  {
   "cell_type": "code",
   "execution_count": 19,
   "metadata": {},
   "outputs": [
    {
     "name": "stdout",
     "output_type": "stream",
     "text": [
      "<class 'pandas.core.frame.DataFrame'>\n",
      "Int64Index: 333 entries, 230 to 332\n",
      "Data columns (total 17 columns):\n",
      " #   Column                    Non-Null Count  Dtype  \n",
      "---  ------                    --------------  -----  \n",
      " 0   consolidado               333 non-null    object \n",
      " 1   ativo total               333 non-null    float64\n",
      " 2   ativo circulante          333 non-null    float64\n",
      " 3   ativo nao circulante      333 non-null    float64\n",
      " 4   imobilizado               333 non-null    float64\n",
      " 5   passivo e patrimonio liq  333 non-null    float64\n",
      " 6   passivo circulante        333 non-null    float64\n",
      " 7   passivo nao circulante    333 non-null    float64\n",
      " 8   patrim liq consolidado    333 non-null    float64\n",
      " 9   lucros acumulados         328 non-null    float64\n",
      " 10  +receita liquida operac   324 non-null    object \n",
      " 11  -custo produtos vendidos  325 non-null    object \n",
      " 12  lucro bruto               324 non-null    object \n",
      " 13  +despesas com vendas      325 non-null    object \n",
      " 14  lucro liquido             325 non-null    object \n",
      " 15  +receita bruta            326 non-null    object \n",
      " 16  empresa                   333 non-null    object \n",
      "dtypes: float64(9), object(8)\n",
      "memory usage: 46.8+ KB\n"
     ]
    }
   ],
   "source": [
    "demonstrativos.info()"
   ]
  },
  {
   "cell_type": "code",
   "execution_count": 20,
   "metadata": {},
   "outputs": [
    {
     "name": "stdout",
     "output_type": "stream",
     "text": [
      "<class 'pandas.core.frame.DataFrame'>\n",
      "Int64Index: 333 entries, 230 to 332\n",
      "Data columns (total 63 columns):\n",
      " #   Column                    Non-Null Count  Dtype  \n",
      "---  ------                    --------------  -----  \n",
      " 0   consolidado               333 non-null    object \n",
      " 1   lpa lucro por acao $      333 non-null    object \n",
      " 2   vpa valor patr por acao$  333 non-null    object \n",
      " 3   vendas por acao $         333 non-null    object \n",
      " 4   ebitda por acao $         333 non-null    object \n",
      " 5   divida total liquida $    333 non-null    float64\n",
      " 6   divida total bruta $      333 non-null    float64\n",
      " 7   divida bruta / atv tt %   333 non-null    float64\n",
      " 8   divida bruta / pat liq %  333 non-null    float64\n",
      " 9   divida liq / pat liq %    333 non-null    float64\n",
      " 10  estr cap (d/d+pat liq) %  333 non-null    float64\n",
      " 11  ebit / divida bruta %     333 non-null    object \n",
      " 12  ebit / divida liquida %   333 non-null    object \n",
      " 13  ebit / desp fin brut x    333 non-null    object \n",
      " 14  ebit / desp fin liq x     333 non-null    object \n",
      " 15  divida bruta / ebitda x   333 non-null    object \n",
      " 16  divida liq / ebitda x     333 non-null    object \n",
      " 17  ebitda / desp financ x    333 non-null    object \n",
      " 18  divida cp / divida tt %   333 non-null    float64\n",
      " 19  exigivel tt / ativo tt %  333 non-null    float64\n",
      " 20  exigivel tt / pat liq %   333 non-null    float64\n",
      " 21  exigivel tt / receita %   333 non-null    object \n",
      " 22  ativo fixo / pat liq %    333 non-null    float64\n",
      " 23  investimentos / pat lq %  333 non-null    object \n",
      " 24  divida liq /flx cx liv %  333 non-null    object \n",
      " 25  divida longo prazo %      333 non-null    float64\n",
      " 26  liquidez geral x          333 non-null    float64\n",
      " 27  liquidez corrente x       333 non-null    float64\n",
      " 28  liquidez seca x           333 non-null    float64\n",
      " 29  capital de giro $         333 non-null    float64\n",
      " 30  capital employed $        333 non-null    float64\n",
      " 31  prazo med estoques(dias)  333 non-null    object \n",
      " 32  prazo med forneced(dias)  333 non-null    object \n",
      " 33  prazo med recebim (dias)  333 non-null    object \n",
      " 34  ciclo financeiro (dias)   333 non-null    object \n",
      " 35  ciclo operacional (dias)  333 non-null    object \n",
      " 36  ebitda $                  333 non-null    object \n",
      " 37  lair + desp fin liq $     333 non-null    object \n",
      " 38  giro do ativo x           333 non-null    object \n",
      " 39  giro do pat liq x         333 non-null    object \n",
      " 40  margem bruta %            333 non-null    object \n",
      " 41  margem ebit (operac) %    333 non-null    object \n",
      " 42  margem liquida %          333 non-null    object \n",
      " 43  margem ebitda %           333 non-null    object \n",
      " 44  roa rentab do ativo %     333 non-null    object \n",
      " 45  roe rent pat(pat final)%  333 non-null    object \n",
      " 46  roe rent pat(pat medio)%  333 non-null    object \n",
      " 47  roe rent pat (pat inic)%  333 non-null    object \n",
      " 48  roic (ic fim) %           333 non-null    object \n",
      " 49  roic (ic medio) %         333 non-null    object \n",
      " 50  roic (ic inicial) %       333 non-null    object \n",
      " 51  invested capital $        333 non-null    float64\n",
      " 52  rentab invest subsid %    333 non-null    object \n",
      " 53  alavancagem financ x      333 non-null    object \n",
      " 54  alavancagem operac x      333 non-null    object \n",
      " 55  margem fluxo caixa livre  333 non-null    object \n",
      " 56  capex (incl invest) $     333 non-null    object \n",
      " 57  depreciacao e amortiz $   333 non-null    object \n",
      " 58  capex (inc inv)/deprec %  333 non-null    object \n",
      " 59  deprec / imob e intang %  333 non-null    object \n",
      " 60  fluxo de caixa livre $    333 non-null    object \n",
      " 61  empresa                   333 non-null    object \n",
      " 62  dados por acao            0 non-null      float64\n",
      "dtypes: float64(18), object(45)\n",
      "memory usage: 166.5+ KB\n"
     ]
    }
   ],
   "source": [
    "financas.info()"
   ]
  },
  {
   "cell_type": "code",
   "execution_count": 21,
   "metadata": {},
   "outputs": [
    {
     "name": "stdout",
     "output_type": "stream",
     "text": [
      "<class 'pandas.core.frame.DataFrame'>\n",
      "Int64Index: 409 entries, 204 to 408\n",
      "Data columns (total 17 columns):\n",
      " #   Column                    Non-Null Count  Dtype \n",
      "---  ------                    --------------  ----- \n",
      " 0   consolidado               409 non-null    object\n",
      " 1   meses                     409 non-null    int64 \n",
      " 2   preco / lucro x           409 non-null    object\n",
      " 3   preco / valor patrim x    409 non-null    object\n",
      " 4   price sales ratio x       409 non-null    object\n",
      " 5   preco / ebitda x          409 non-null    object\n",
      " 6   preco / flx cx livre x    409 non-null    object\n",
      " 7   lucro / preco %           409 non-null    object\n",
      " 8   valor de mercado $        409 non-null    object\n",
      " 9   enterprise value $        409 non-null    object\n",
      " 10  estr cap (d/d+val merc)%  409 non-null    object\n",
      " 11  ev / ebitda da empresa x  409 non-null    object\n",
      " 12  ev / ebitda da classe  x  409 non-null    object\n",
      " 13  ev / ebit da empresa   x  409 non-null    object\n",
      " 14  ev / ebit da classe    x  409 non-null    object\n",
      " 15  ev / vendas x             409 non-null    object\n",
      " 16  empresa                   409 non-null    object\n",
      "dtypes: int64(1), object(16)\n",
      "memory usage: 57.5+ KB\n"
     ]
    }
   ],
   "source": [
    "mercado.info()"
   ]
  },
  {
   "cell_type": "markdown",
   "metadata": {},
   "source": [
    "### Indicadores de Performance"
   ]
  },
  {
   "cell_type": "code",
   "execution_count": 64,
   "metadata": {},
   "outputs": [],
   "source": [
    "xaxis_attribs = dict(\n",
    "    showline=True,\n",
    "    showgrid=False,\n",
    "    tickfont=dict(family=\"Josefin Sans Bold\", size=20),\n",
    "    nticks=5,\n",
    "    gridcolor=\"LightGrey\",\n",
    ")\n",
    "\n",
    "yaxis_attribs = dict(\n",
    "    showline=True,\n",
    "    showgrid=True,\n",
    "    tickfont=dict(family=\"Josefin Sans Bold\", size=20),\n",
    "    nticks=10,\n",
    "    gridcolor=\"LightGrey\",\n",
    ")"
   ]
  },
  {
   "cell_type": "markdown",
   "metadata": {},
   "source": [
    "#### Margem Bruta \n",
    "***"
   ]
  },
  {
   "cell_type": "code",
   "execution_count": 56,
   "metadata": {},
   "outputs": [
    {
     "data": {
      "application/vnd.plotly.v1+json": {
       "config": {
        "plotlyServerURL": "https://plot.ly"
       },
       "data": [
        {
         "hovertemplate": "empresa=Lojas Renner<br>consolidado=%{x}<br>margem bruta %=%{y}<extra></extra>",
         "legendgroup": "Lojas Renner",
         "line": {
          "color": "#636efa",
          "dash": "solid",
          "width": 3
         },
         "marker": {
          "symbol": "circle"
         },
         "mode": "lines",
         "name": "Lojas Renner",
         "orientation": "v",
         "showlegend": true,
         "type": "scatter",
         "x": [
          "2010-03-31",
          "2010-06-30",
          "2010-09-30",
          "2010-12-31",
          "2011-03-31",
          "2011-06-30",
          "2011-09-30",
          "2011-12-31",
          "2012-03-31",
          "2012-06-30",
          "2012-09-30",
          "2012-12-31",
          "2013-03-31",
          "2013-06-30",
          "2013-09-30",
          "2013-12-31",
          "2014-03-31",
          "2014-06-30",
          "2014-09-30",
          "2014-12-31",
          "2015-03-31",
          "2015-06-30",
          "2015-09-30",
          "2015-12-31",
          "2016-03-31",
          "2016-06-30",
          "2016-09-30",
          "2016-12-31",
          "2017-03-31",
          "2017-06-30",
          "2017-09-30",
          "2017-12-31",
          "2018-03-31",
          "2018-06-30",
          "2018-09-30",
          "2018-12-31",
          "2019-03-31",
          "2019-06-30",
          "2019-09-30",
          "2019-12-31",
          "2020-03-31",
          "2020-06-30",
          "2020-09-30",
          "2020-12-31",
          "2021-03-31",
          "2021-06-30",
          "2021-09-30",
          "2021-12-31",
          "2022-03-31",
          "2022-06-30"
         ],
         "xaxis": "x",
         "y": [
          53.409207783,
          54.490994142,
          54.679048782,
          56.041060749,
          56.499113525,
          56.940921414,
          57.235600025,
          56.890212667,
          56.960272316,
          57.225311022,
          57.44471145,
          57.689511582,
          57.427307777,
          57.273003867,
          56.958804777,
          57.266731467,
          57.411579421,
          57.726180653,
          58.293648389,
          58.482082955,
          58.881685617,
          59.048502712,
          59.03501923,
          59.133098722,
          59.35431012,
          59.776621659,
          59.975307717,
          60.085997565,
          59.8730817,
          59.853822221,
          60.02727618,
          60.440726166,
          60.889709199,
          61.156330982,
          61.030254097,
          61.021764446,
          60.771235021,
          60.61723133,
          60.738676786,
          61.093544235,
          61.473506344,
          61.588768419,
          59.657994309,
          57.231086428,
          56.103578756,
          56.349892011,
          57.612136957,
          58.386655664,
          58.977863106,
          59.491630249
         ],
         "yaxis": "y"
        },
        {
         "hovertemplate": "empresa=Marisa<br>consolidado=%{x}<br>margem bruta %=%{y}<extra></extra>",
         "legendgroup": "Marisa",
         "line": {
          "color": "#EF553B",
          "dash": "solid",
          "width": 3
         },
         "marker": {
          "symbol": "circle"
         },
         "mode": "lines",
         "name": "Marisa",
         "orientation": "v",
         "showlegend": true,
         "type": "scatter",
         "x": [
          "2010-03-31",
          "2010-06-30",
          "2010-09-30",
          "2010-12-31",
          "2011-03-31",
          "2011-06-30",
          "2011-09-30",
          "2011-12-31",
          "2012-03-31",
          "2012-06-30",
          "2012-09-30",
          "2012-12-31",
          "2013-03-31",
          "2013-06-30",
          "2013-09-30",
          "2013-12-31",
          "2014-03-31",
          "2014-06-30",
          "2014-09-30",
          "2014-12-31",
          "2015-03-31",
          "2015-06-30",
          "2015-09-30",
          "2015-12-31",
          "2016-03-31",
          "2016-06-30",
          "2016-09-30",
          "2016-12-31",
          "2017-03-31",
          "2017-06-30",
          "2017-09-30",
          "2017-12-31",
          "2018-03-31",
          "2018-06-30",
          "2018-09-30",
          "2018-12-31",
          "2019-03-31",
          "2019-06-30",
          "2019-09-30",
          "2019-12-31",
          "2020-03-31",
          "2020-06-30",
          "2020-09-30",
          "2020-12-31",
          "2021-03-31",
          "2021-06-30",
          "2021-09-30",
          "2021-12-31",
          "2022-03-31",
          "2022-06-30"
         ],
         "xaxis": "x",
         "y": [
          49.98530183,
          50.394725417,
          49.862234333,
          49.920532181,
          49.981202476,
          50.137631937,
          50.208663201,
          48.872287849,
          48.050264987,
          47.187771373,
          47.626032619,
          48.990786088,
          49.296133901,
          49.063514175,
          48.251020759,
          46.41416343,
          47.142766452,
          46.404250214,
          45.979865115,
          46.827461518,
          45.680145346,
          45.046303878,
          44.819809914,
          43.501702736,
          43.917503778,
          44.007916998,
          45.054781748,
          45.998559303,
          46.720072678,
          48.186262931,
          47.286988954,
          47.811587031,
          47.512594812,
          47.388267855,
          46.700163736,
          44.652639348,
          44.59397144,
          43.704293523,
          44.516803826,
          46.19306264,
          45.060453108,
          42.425609193,
          39.750703142,
          37.309837213,
          39.379870626,
          42.230178165,
          45.24685489,
          46.767425027,
          44.228192848,
          44.439216782
         ],
         "yaxis": "y"
        },
        {
         "hovertemplate": "empresa=Riachuelo<br>consolidado=%{x}<br>margem bruta %=%{y}<extra></extra>",
         "legendgroup": "Riachuelo",
         "line": {
          "color": "#00cc96",
          "dash": "solid",
          "width": 3
         },
         "marker": {
          "symbol": "circle"
         },
         "mode": "lines",
         "name": "Riachuelo",
         "orientation": "v",
         "showlegend": true,
         "type": "scatter",
         "x": [
          "2010-03-31",
          "2010-06-30",
          "2010-09-30",
          "2010-12-31",
          "2011-03-31",
          "2011-06-30",
          "2011-09-30",
          "2011-12-31",
          "2012-03-31",
          "2012-06-30",
          "2012-09-30",
          "2012-12-31",
          "2013-03-31",
          "2013-06-30",
          "2013-09-30",
          "2013-12-31",
          "2014-03-31",
          "2014-06-30",
          "2014-09-30",
          "2014-12-31",
          "2015-03-31",
          "2015-06-30",
          "2015-09-30",
          "2015-12-31",
          "2016-03-31",
          "2016-06-30",
          "2016-09-30",
          "2016-12-31",
          "2017-03-31",
          "2017-06-30",
          "2017-09-30",
          "2017-12-31",
          "2018-03-31",
          "2018-06-30",
          "2018-09-30",
          "2018-12-31",
          "2019-03-31",
          "2019-06-30",
          "2019-09-30",
          "2019-12-31",
          "2020-03-31",
          "2020-06-30",
          "2020-09-30",
          "2020-12-31",
          "2021-03-31",
          "2021-06-30",
          "2021-09-30",
          "2021-12-31",
          "2022-03-31",
          "2022-06-30"
         ],
         "xaxis": "x",
         "y": [
          56.719717437,
          57.106403214,
          57.682212344,
          57.231294364,
          56.770490949,
          57.332491123,
          57.242567941,
          57.381031797,
          57.656620549,
          57.754205011,
          58.002292555,
          58.404650881,
          58.524456002,
          58.538053332,
          58.907350408,
          59.404068231,
          60.113801842,
          60.661297082,
          61.095381319,
          61.419665157,
          61.935859125,
          61.7150598,
          61.286560648,
          60.395663506,
          60.021385357,
          59.891338864,
          59.787127191,
          60.358599377,
          61.128523079,
          61.935175898,
          62.721714991,
          63.715566642,
          63.511424043,
          63.954538184,
          64.444722009,
          64.914364716,
          64.761128687,
          64.563975968,
          64.196781227,
          63.103396958,
          63.038804886,
          61.808098782,
          55.83684929,
          50.608898877,
          47.272458761,
          47.081833636,
          51.00968659,
          53.840680631,
          55.04528295,
          56.891596832
         ],
         "yaxis": "y"
        },
        {
         "hovertemplate": "empresa=C&A<br>consolidado=%{x}<br>margem bruta %=%{y}<extra></extra>",
         "legendgroup": "C&A",
         "line": {
          "color": "#ab63fa",
          "dash": "solid",
          "width": 3
         },
         "marker": {
          "symbol": "circle"
         },
         "mode": "lines",
         "name": "C&A",
         "orientation": "v",
         "showlegend": true,
         "type": "scatter",
         "x": [
          "2016-12-31",
          "2017-12-31",
          "2018-12-31",
          "2019-03-31",
          "2019-06-30",
          "2019-09-30",
          "2019-12-31",
          "2020-03-31",
          "2020-06-30",
          "2020-09-30",
          "2020-12-31",
          "2021-03-31",
          "2021-06-30",
          "2021-09-30",
          "2021-12-31",
          "2022-03-31",
          "2022-06-30"
         ],
         "xaxis": "x",
         "y": [
          41.936128939,
          48.088017142,
          49.341180251,
          "-",
          "-",
          "-",
          48.590832169,
          48.764826445,
          48.735617166,
          47.686140217,
          46.423534434,
          45.596481798,
          45.668480279,
          46.065007101,
          46.52071866,
          46.890173269,
          48.131444998
         ],
         "yaxis": "y"
        }
       ],
       "layout": {
        "height": 800,
        "legend": {
         "font": {
          "family": "Josefin Sans Bold",
          "size": 14
         },
         "title": {
          "font": {
           "family": "Josefin Sans Bold"
          },
          "text": "Empresa"
         },
         "tracegroupgap": 0,
         "x": 0.01,
         "xanchor": "left",
         "y": 0.99,
         "yanchor": "top"
        },
        "margin": {
         "t": 60
        },
        "plot_bgcolor": "white",
        "template": {
         "data": {
          "bar": [
           {
            "error_x": {
             "color": "#2a3f5f"
            },
            "error_y": {
             "color": "#2a3f5f"
            },
            "marker": {
             "line": {
              "color": "#E5ECF6",
              "width": 0.5
             },
             "pattern": {
              "fillmode": "overlay",
              "size": 10,
              "solidity": 0.2
             }
            },
            "type": "bar"
           }
          ],
          "barpolar": [
           {
            "marker": {
             "line": {
              "color": "#E5ECF6",
              "width": 0.5
             },
             "pattern": {
              "fillmode": "overlay",
              "size": 10,
              "solidity": 0.2
             }
            },
            "type": "barpolar"
           }
          ],
          "carpet": [
           {
            "aaxis": {
             "endlinecolor": "#2a3f5f",
             "gridcolor": "white",
             "linecolor": "white",
             "minorgridcolor": "white",
             "startlinecolor": "#2a3f5f"
            },
            "baxis": {
             "endlinecolor": "#2a3f5f",
             "gridcolor": "white",
             "linecolor": "white",
             "minorgridcolor": "white",
             "startlinecolor": "#2a3f5f"
            },
            "type": "carpet"
           }
          ],
          "choropleth": [
           {
            "colorbar": {
             "outlinewidth": 0,
             "ticks": ""
            },
            "type": "choropleth"
           }
          ],
          "contour": [
           {
            "colorbar": {
             "outlinewidth": 0,
             "ticks": ""
            },
            "colorscale": [
             [
              0,
              "#0d0887"
             ],
             [
              0.1111111111111111,
              "#46039f"
             ],
             [
              0.2222222222222222,
              "#7201a8"
             ],
             [
              0.3333333333333333,
              "#9c179e"
             ],
             [
              0.4444444444444444,
              "#bd3786"
             ],
             [
              0.5555555555555556,
              "#d8576b"
             ],
             [
              0.6666666666666666,
              "#ed7953"
             ],
             [
              0.7777777777777778,
              "#fb9f3a"
             ],
             [
              0.8888888888888888,
              "#fdca26"
             ],
             [
              1,
              "#f0f921"
             ]
            ],
            "type": "contour"
           }
          ],
          "contourcarpet": [
           {
            "colorbar": {
             "outlinewidth": 0,
             "ticks": ""
            },
            "type": "contourcarpet"
           }
          ],
          "heatmap": [
           {
            "colorbar": {
             "outlinewidth": 0,
             "ticks": ""
            },
            "colorscale": [
             [
              0,
              "#0d0887"
             ],
             [
              0.1111111111111111,
              "#46039f"
             ],
             [
              0.2222222222222222,
              "#7201a8"
             ],
             [
              0.3333333333333333,
              "#9c179e"
             ],
             [
              0.4444444444444444,
              "#bd3786"
             ],
             [
              0.5555555555555556,
              "#d8576b"
             ],
             [
              0.6666666666666666,
              "#ed7953"
             ],
             [
              0.7777777777777778,
              "#fb9f3a"
             ],
             [
              0.8888888888888888,
              "#fdca26"
             ],
             [
              1,
              "#f0f921"
             ]
            ],
            "type": "heatmap"
           }
          ],
          "heatmapgl": [
           {
            "colorbar": {
             "outlinewidth": 0,
             "ticks": ""
            },
            "colorscale": [
             [
              0,
              "#0d0887"
             ],
             [
              0.1111111111111111,
              "#46039f"
             ],
             [
              0.2222222222222222,
              "#7201a8"
             ],
             [
              0.3333333333333333,
              "#9c179e"
             ],
             [
              0.4444444444444444,
              "#bd3786"
             ],
             [
              0.5555555555555556,
              "#d8576b"
             ],
             [
              0.6666666666666666,
              "#ed7953"
             ],
             [
              0.7777777777777778,
              "#fb9f3a"
             ],
             [
              0.8888888888888888,
              "#fdca26"
             ],
             [
              1,
              "#f0f921"
             ]
            ],
            "type": "heatmapgl"
           }
          ],
          "histogram": [
           {
            "marker": {
             "pattern": {
              "fillmode": "overlay",
              "size": 10,
              "solidity": 0.2
             }
            },
            "type": "histogram"
           }
          ],
          "histogram2d": [
           {
            "colorbar": {
             "outlinewidth": 0,
             "ticks": ""
            },
            "colorscale": [
             [
              0,
              "#0d0887"
             ],
             [
              0.1111111111111111,
              "#46039f"
             ],
             [
              0.2222222222222222,
              "#7201a8"
             ],
             [
              0.3333333333333333,
              "#9c179e"
             ],
             [
              0.4444444444444444,
              "#bd3786"
             ],
             [
              0.5555555555555556,
              "#d8576b"
             ],
             [
              0.6666666666666666,
              "#ed7953"
             ],
             [
              0.7777777777777778,
              "#fb9f3a"
             ],
             [
              0.8888888888888888,
              "#fdca26"
             ],
             [
              1,
              "#f0f921"
             ]
            ],
            "type": "histogram2d"
           }
          ],
          "histogram2dcontour": [
           {
            "colorbar": {
             "outlinewidth": 0,
             "ticks": ""
            },
            "colorscale": [
             [
              0,
              "#0d0887"
             ],
             [
              0.1111111111111111,
              "#46039f"
             ],
             [
              0.2222222222222222,
              "#7201a8"
             ],
             [
              0.3333333333333333,
              "#9c179e"
             ],
             [
              0.4444444444444444,
              "#bd3786"
             ],
             [
              0.5555555555555556,
              "#d8576b"
             ],
             [
              0.6666666666666666,
              "#ed7953"
             ],
             [
              0.7777777777777778,
              "#fb9f3a"
             ],
             [
              0.8888888888888888,
              "#fdca26"
             ],
             [
              1,
              "#f0f921"
             ]
            ],
            "type": "histogram2dcontour"
           }
          ],
          "mesh3d": [
           {
            "colorbar": {
             "outlinewidth": 0,
             "ticks": ""
            },
            "type": "mesh3d"
           }
          ],
          "parcoords": [
           {
            "line": {
             "colorbar": {
              "outlinewidth": 0,
              "ticks": ""
             }
            },
            "type": "parcoords"
           }
          ],
          "pie": [
           {
            "automargin": true,
            "type": "pie"
           }
          ],
          "scatter": [
           {
            "fillpattern": {
             "fillmode": "overlay",
             "size": 10,
             "solidity": 0.2
            },
            "type": "scatter"
           }
          ],
          "scatter3d": [
           {
            "line": {
             "colorbar": {
              "outlinewidth": 0,
              "ticks": ""
             }
            },
            "marker": {
             "colorbar": {
              "outlinewidth": 0,
              "ticks": ""
             }
            },
            "type": "scatter3d"
           }
          ],
          "scattercarpet": [
           {
            "marker": {
             "colorbar": {
              "outlinewidth": 0,
              "ticks": ""
             }
            },
            "type": "scattercarpet"
           }
          ],
          "scattergeo": [
           {
            "marker": {
             "colorbar": {
              "outlinewidth": 0,
              "ticks": ""
             }
            },
            "type": "scattergeo"
           }
          ],
          "scattergl": [
           {
            "marker": {
             "colorbar": {
              "outlinewidth": 0,
              "ticks": ""
             }
            },
            "type": "scattergl"
           }
          ],
          "scattermapbox": [
           {
            "marker": {
             "colorbar": {
              "outlinewidth": 0,
              "ticks": ""
             }
            },
            "type": "scattermapbox"
           }
          ],
          "scatterpolar": [
           {
            "marker": {
             "colorbar": {
              "outlinewidth": 0,
              "ticks": ""
             }
            },
            "type": "scatterpolar"
           }
          ],
          "scatterpolargl": [
           {
            "marker": {
             "colorbar": {
              "outlinewidth": 0,
              "ticks": ""
             }
            },
            "type": "scatterpolargl"
           }
          ],
          "scatterternary": [
           {
            "marker": {
             "colorbar": {
              "outlinewidth": 0,
              "ticks": ""
             }
            },
            "type": "scatterternary"
           }
          ],
          "surface": [
           {
            "colorbar": {
             "outlinewidth": 0,
             "ticks": ""
            },
            "colorscale": [
             [
              0,
              "#0d0887"
             ],
             [
              0.1111111111111111,
              "#46039f"
             ],
             [
              0.2222222222222222,
              "#7201a8"
             ],
             [
              0.3333333333333333,
              "#9c179e"
             ],
             [
              0.4444444444444444,
              "#bd3786"
             ],
             [
              0.5555555555555556,
              "#d8576b"
             ],
             [
              0.6666666666666666,
              "#ed7953"
             ],
             [
              0.7777777777777778,
              "#fb9f3a"
             ],
             [
              0.8888888888888888,
              "#fdca26"
             ],
             [
              1,
              "#f0f921"
             ]
            ],
            "type": "surface"
           }
          ],
          "table": [
           {
            "cells": {
             "fill": {
              "color": "#EBF0F8"
             },
             "line": {
              "color": "white"
             }
            },
            "header": {
             "fill": {
              "color": "#C8D4E3"
             },
             "line": {
              "color": "white"
             }
            },
            "type": "table"
           }
          ]
         },
         "layout": {
          "annotationdefaults": {
           "arrowcolor": "#2a3f5f",
           "arrowhead": 0,
           "arrowwidth": 1
          },
          "autotypenumbers": "strict",
          "coloraxis": {
           "colorbar": {
            "outlinewidth": 0,
            "ticks": ""
           }
          },
          "colorscale": {
           "diverging": [
            [
             0,
             "#8e0152"
            ],
            [
             0.1,
             "#c51b7d"
            ],
            [
             0.2,
             "#de77ae"
            ],
            [
             0.3,
             "#f1b6da"
            ],
            [
             0.4,
             "#fde0ef"
            ],
            [
             0.5,
             "#f7f7f7"
            ],
            [
             0.6,
             "#e6f5d0"
            ],
            [
             0.7,
             "#b8e186"
            ],
            [
             0.8,
             "#7fbc41"
            ],
            [
             0.9,
             "#4d9221"
            ],
            [
             1,
             "#276419"
            ]
           ],
           "sequential": [
            [
             0,
             "#0d0887"
            ],
            [
             0.1111111111111111,
             "#46039f"
            ],
            [
             0.2222222222222222,
             "#7201a8"
            ],
            [
             0.3333333333333333,
             "#9c179e"
            ],
            [
             0.4444444444444444,
             "#bd3786"
            ],
            [
             0.5555555555555556,
             "#d8576b"
            ],
            [
             0.6666666666666666,
             "#ed7953"
            ],
            [
             0.7777777777777778,
             "#fb9f3a"
            ],
            [
             0.8888888888888888,
             "#fdca26"
            ],
            [
             1,
             "#f0f921"
            ]
           ],
           "sequentialminus": [
            [
             0,
             "#0d0887"
            ],
            [
             0.1111111111111111,
             "#46039f"
            ],
            [
             0.2222222222222222,
             "#7201a8"
            ],
            [
             0.3333333333333333,
             "#9c179e"
            ],
            [
             0.4444444444444444,
             "#bd3786"
            ],
            [
             0.5555555555555556,
             "#d8576b"
            ],
            [
             0.6666666666666666,
             "#ed7953"
            ],
            [
             0.7777777777777778,
             "#fb9f3a"
            ],
            [
             0.8888888888888888,
             "#fdca26"
            ],
            [
             1,
             "#f0f921"
            ]
           ]
          },
          "colorway": [
           "#636efa",
           "#EF553B",
           "#00cc96",
           "#ab63fa",
           "#FFA15A",
           "#19d3f3",
           "#FF6692",
           "#B6E880",
           "#FF97FF",
           "#FECB52"
          ],
          "font": {
           "color": "#2a3f5f"
          },
          "geo": {
           "bgcolor": "white",
           "lakecolor": "white",
           "landcolor": "#E5ECF6",
           "showlakes": true,
           "showland": true,
           "subunitcolor": "white"
          },
          "hoverlabel": {
           "align": "left"
          },
          "hovermode": "closest",
          "mapbox": {
           "style": "light"
          },
          "paper_bgcolor": "white",
          "plot_bgcolor": "#E5ECF6",
          "polar": {
           "angularaxis": {
            "gridcolor": "white",
            "linecolor": "white",
            "ticks": ""
           },
           "bgcolor": "#E5ECF6",
           "radialaxis": {
            "gridcolor": "white",
            "linecolor": "white",
            "ticks": ""
           }
          },
          "scene": {
           "xaxis": {
            "backgroundcolor": "#E5ECF6",
            "gridcolor": "white",
            "gridwidth": 2,
            "linecolor": "white",
            "showbackground": true,
            "ticks": "",
            "zerolinecolor": "white"
           },
           "yaxis": {
            "backgroundcolor": "#E5ECF6",
            "gridcolor": "white",
            "gridwidth": 2,
            "linecolor": "white",
            "showbackground": true,
            "ticks": "",
            "zerolinecolor": "white"
           },
           "zaxis": {
            "backgroundcolor": "#E5ECF6",
            "gridcolor": "white",
            "gridwidth": 2,
            "linecolor": "white",
            "showbackground": true,
            "ticks": "",
            "zerolinecolor": "white"
           }
          },
          "shapedefaults": {
           "line": {
            "color": "#2a3f5f"
           }
          },
          "ternary": {
           "aaxis": {
            "gridcolor": "white",
            "linecolor": "white",
            "ticks": ""
           },
           "baxis": {
            "gridcolor": "white",
            "linecolor": "white",
            "ticks": ""
           },
           "bgcolor": "#E5ECF6",
           "caxis": {
            "gridcolor": "white",
            "linecolor": "white",
            "ticks": ""
           }
          },
          "title": {
           "x": 0.05
          },
          "xaxis": {
           "automargin": true,
           "gridcolor": "white",
           "linecolor": "white",
           "ticks": "",
           "title": {
            "standoff": 15
           },
           "zerolinecolor": "white",
           "zerolinewidth": 2
          },
          "yaxis": {
           "automargin": true,
           "gridcolor": "white",
           "linecolor": "white",
           "ticks": "",
           "title": {
            "standoff": 15
           },
           "zerolinecolor": "white",
           "zerolinewidth": 2
          }
         }
        },
        "width": 1000,
        "xaxis": {
         "anchor": "y",
         "domain": [
          0,
          1
         ],
         "gridcolor": "LightGrey",
         "showgrid": false,
         "showline": true,
         "tickfont": {
          "family": "Josefin Sans Bold"
         },
         "title": {
          "text": ""
         }
        },
        "yaxis": {
         "anchor": "x",
         "domain": [
          0,
          1
         ],
         "gridcolor": "LightGrey",
         "nticks": 20,
         "showgrid": true,
         "showline": true,
         "tickfont": {
          "family": "Josefin Sans Bold"
         },
         "title": {
          "text": "Margem Bruta %"
         }
        }
       }
      }
     },
     "metadata": {},
     "output_type": "display_data"
    }
   ],
   "source": [
    "empresas = ['Lojas Renner', 'Riachuelo', 'Marisa', 'C&A']\n",
    "margem_bruta = financas.loc[(financas['consolidado'] >= '2010-01-01') \n",
    "                             & financas['empresa'].isin(empresas)]\n",
    "\n",
    "fig = px.line(margem_bruta, \n",
    "              x='consolidado', \n",
    "              y='margem bruta %', \n",
    "              color='empresa', \n",
    "              height=800, \n",
    "              width=1000,\n",
    "              markers=False)\n",
    "\n",
    "\n",
    "xaxis_attribs = dict(showline=True, showgrid=False, tickfont=dict(family='Josefin Sans Bold'), gridcolor='LightGrey')\n",
    "yaxis_attribs = dict(showline=True, showgrid=True, tickfont=dict(family='Josefin Sans Bold'), nticks=20, gridcolor='LightGrey')\n",
    "legend_attribs = dict(yanchor='top', \n",
    "                      xanchor='left', \n",
    "                      y=0.99, \n",
    "                      x=0.01, \n",
    "                      title_font_family='Josefin Sans Bold', \n",
    "                      font=dict(family='Josefin Sans Bold', size=14))\n",
    "\n",
    "fig.update_layout(\n",
    "    xaxis_title = '',\n",
    "    yaxis_title = 'Margem Bruta %',\n",
    "    plot_bgcolor = 'white',\n",
    "    legend_title_text='Empresa',\n",
    "    xaxis = xaxis_attribs,\n",
    "    yaxis = yaxis_attribs,\n",
    "    legend = legend_attribs\n",
    ")\n",
    "fig.update_traces(line=dict(width=3))\n",
    "\n",
    "fig.show()"
   ]
  },
  {
   "cell_type": "markdown",
   "metadata": {},
   "source": [
    "#### Lucro Bruto\n",
    "***"
   ]
  },
  {
   "cell_type": "code",
   "execution_count": 62,
   "metadata": {},
   "outputs": [
    {
     "data": {
      "application/vnd.plotly.v1+json": {
       "config": {
        "plotlyServerURL": "https://plot.ly"
       },
       "data": [
        {
         "hovertemplate": "variable=Lojas Renner<br>periodo=%{x}<br>value=%{y}<extra></extra>",
         "legendgroup": "Lojas Renner",
         "line": {
          "color": "#636efa",
          "dash": "solid",
          "width": 3
         },
         "marker": {
          "symbol": "circle"
         },
         "mode": "lines",
         "name": "Lojas Renner",
         "orientation": "v",
         "showlegend": true,
         "type": "scatter",
         "x": [
          "2017-03",
          "2017-06",
          "2017-09",
          "2017-12",
          "2018-03",
          "2018-06",
          "2018-09",
          "2018-12",
          "2019-03",
          "2019-06",
          "2019-09",
          "2019-12",
          "2020-03",
          "2020-06",
          "2020-09",
          "2020-12",
          "2021-03",
          "2021-06",
          "2021-09",
          "2021-12",
          "2022-03",
          "2022-06"
         ],
         "xaxis": "x",
         "y": [
          1120658.6546,
          1479573.3134,
          1371948.5908,
          1937142.6552,
          1301864.1386,
          1589558.1569,
          1451222.866,
          2159397.5061,
          1416701.9785,
          1723341.8218,
          1633381.7917,
          2361794.0805,
          1394102.0022,
          604474.45713,
          1090940.118,
          1978476.5883,
          1039486.1403,
          1626281.4433,
          1628411.2907,
          2364756.9018,
          1613053.7841,
          2182044.788
         ],
         "yaxis": "y"
        },
        {
         "hovertemplate": "variable=Riachuelo<br>periodo=%{x}<br>value=%{y}<extra></extra>",
         "legendgroup": "Riachuelo",
         "line": {
          "color": "#EF553B",
          "dash": "solid",
          "width": 3
         },
         "marker": {
          "symbol": "circle"
         },
         "mode": "lines",
         "name": "Riachuelo",
         "orientation": "v",
         "showlegend": true,
         "type": "scatter",
         "x": [
          "2017-03",
          "2017-06",
          "2017-09",
          "2017-12",
          "2018-03",
          "2018-06",
          "2018-09",
          "2018-12",
          "2019-03",
          "2019-06",
          "2019-09",
          "2019-12",
          "2020-03",
          "2020-06",
          "2020-09",
          "2020-12",
          "2021-03",
          "2021-06",
          "2021-09",
          "2021-12",
          "2022-03",
          "2022-06"
         ],
         "xaxis": "x",
         "y": [
          1109519.22,
          1354486.3808,
          1267853.4977,
          1663051.3164,
          1249738.627,
          1476200.756,
          1403626.1632,
          1777057.1838,
          1282375.8677,
          1472118.3434,
          1455768.243,
          1795537.9903,
          1236974.4089,
          603273.57727,
          688154.73836,
          1196693.2692,
          728286.75857,
          954596.31247,
          1065122.1423,
          1448896.7953,
          1016590.8733,
          1265266.5658
         ],
         "yaxis": "y"
        },
        {
         "hovertemplate": "variable=Marisa<br>periodo=%{x}<br>value=%{y}<extra></extra>",
         "legendgroup": "Marisa",
         "line": {
          "color": "#00cc96",
          "dash": "solid",
          "width": 3
         },
         "marker": {
          "symbol": "circle"
         },
         "mode": "lines",
         "name": "Marisa",
         "orientation": "v",
         "showlegend": true,
         "type": "scatter",
         "x": [
          "2017-03",
          "2017-06",
          "2017-09",
          "2017-12",
          "2018-03",
          "2018-06",
          "2018-09",
          "2018-12",
          "2019-03",
          "2019-06",
          "2019-09",
          "2019-12",
          "2020-03",
          "2020-06",
          "2020-09",
          "2020-12",
          "2021-03",
          "2021-06",
          "2021-09",
          "2021-12",
          "2022-03",
          "2022-06"
         ],
         "xaxis": "x",
         "y": [
          424636.78335,
          451418.77739,
          399865.58245,
          531117.9175,
          386033.84284,
          414816.35253,
          342430.43716,
          419927.27965,
          375930.97655,
          371222.91773,
          366536.23264,
          509071.36293,
          306159.9638,
          63169.160149,
          200371.87154,
          367840.78764,
          268358.71931,
          275118.29659,
          316233.88088,
          417602.7699,
          252589.42972,
          306219.50289
         ],
         "yaxis": "y"
        },
        {
         "hovertemplate": "variable=C&A<br>periodo=%{x}<br>value=%{y}<extra></extra>",
         "legendgroup": "C&A",
         "line": {
          "color": "#ab63fa",
          "dash": "solid",
          "width": 3
         },
         "marker": {
          "symbol": "circle"
         },
         "mode": "lines",
         "name": "C&A",
         "orientation": "v",
         "showlegend": true,
         "type": "scatter",
         "x": [
          "2017-03",
          "2017-06",
          "2017-09",
          "2017-12",
          "2018-03",
          "2018-06",
          "2018-09",
          "2018-12",
          "2019-03",
          "2019-06",
          "2019-09",
          "2019-12",
          "2020-03",
          "2020-06",
          "2020-09",
          "2020-12",
          "2021-03",
          "2021-06",
          "2021-09",
          "2021-12",
          "2022-03",
          "2022-06"
         ],
         "xaxis": "x",
         "y": [
          null,
          null,
          null,
          null,
          null,
          null,
          null,
          null,
          618502.03963,
          759628.87102,
          718093.42163,
          1031904.527,
          568984.14669,
          171860.18492,
          539173.33441,
          944456.69743,
          395168.29613,
          607260.40419,
          644169.14084,
          938004.85375,
          573971.15656,
          827777.33415
         ],
         "yaxis": "y"
        },
        {
         "hovertemplate": "variable=Arezzo<br>periodo=%{x}<br>value=%{y}<extra></extra>",
         "legendgroup": "Arezzo",
         "line": {
          "color": "#FFA15A",
          "dash": "solid",
          "width": 3
         },
         "marker": {
          "symbol": "circle"
         },
         "mode": "lines",
         "name": "Arezzo",
         "orientation": "v",
         "showlegend": true,
         "type": "scatter",
         "x": [
          "2017-03",
          "2017-06",
          "2017-09",
          "2017-12",
          "2018-03",
          "2018-06",
          "2018-09",
          "2018-12",
          "2019-03",
          "2019-06",
          "2019-09",
          "2019-12",
          "2020-03",
          "2020-06",
          "2020-09",
          "2020-12",
          "2021-03",
          "2021-06",
          "2021-09",
          "2021-12",
          "2022-03",
          "2022-06"
         ],
         "xaxis": "x",
         "y": [
          172337.26891,
          204043.83643,
          223201.36129,
          220331.88665,
          189124.99333,
          226389.30971,
          239715.01213,
          243904.38176,
          212829.95389,
          225853.26066,
          245234.9424,
          262047.03108,
          205900.80287,
          96166.363642,
          220974.27089,
          363292.08224,
          281376.86763,
          324395.72737,
          435386.52948,
          616643.47095,
          453921.73472,
          523122.42757
         ],
         "yaxis": "y"
        },
        {
         "hovertemplate": "variable=Grupo SOMA<br>periodo=%{x}<br>value=%{y}<extra></extra>",
         "legendgroup": "Grupo SOMA",
         "line": {
          "color": "#19d3f3",
          "dash": "solid",
          "width": 3
         },
         "marker": {
          "symbol": "circle"
         },
         "mode": "lines",
         "name": "Grupo SOMA",
         "orientation": "v",
         "showlegend": true,
         "type": "scatter",
         "x": [
          "2017-03",
          "2017-06",
          "2017-09",
          "2017-12",
          "2018-03",
          "2018-06",
          "2018-09",
          "2018-12",
          "2019-03",
          "2019-06",
          "2019-09",
          "2019-12",
          "2020-03",
          "2020-06",
          "2020-09",
          "2020-12",
          "2021-03",
          "2021-06",
          "2021-09",
          "2021-12",
          "2022-03",
          "2022-06"
         ],
         "xaxis": "x",
         "y": [
          null,
          null,
          null,
          null,
          null,
          null,
          null,
          null,
          null,
          null,
          null,
          null,
          207939.83862,
          96377.507354,
          236552.56182,
          348225.86001,
          257271.39554,
          401202.9254,
          447059.96369,
          638535.5888,
          569011.54015,
          707242.0621
         ],
         "yaxis": "y"
        },
        {
         "hovertemplate": "variable=Le Lis Blanc<br>periodo=%{x}<br>value=%{y}<extra></extra>",
         "legendgroup": "Le Lis Blanc",
         "line": {
          "color": "#FF6692",
          "dash": "solid",
          "width": 3
         },
         "marker": {
          "symbol": "circle"
         },
         "mode": "lines",
         "name": "Le Lis Blanc",
         "orientation": "v",
         "showlegend": true,
         "type": "scatter",
         "x": [
          "2017-03",
          "2017-06",
          "2017-09",
          "2017-12",
          "2018-03",
          "2018-06",
          "2018-09",
          "2018-12",
          "2019-03",
          "2019-06",
          "2019-09",
          "2019-12",
          "2020-03",
          "2020-06",
          "2020-09",
          "2020-12",
          "2021-03",
          "2021-06",
          "2021-09",
          "2021-12",
          "2022-03",
          "2022-06"
         ],
         "xaxis": "x",
         "y": [
          223036.47022,
          269443.73931,
          224900.814,
          227032.00112,
          247629.08601,
          281459.54689,
          240756.17429,
          233938.97811,
          212749.74594,
          186570.22422,
          162779.93269,
          -5371.4255529,
          158282.68853,
          21251.1348,
          70066.168753,
          98533.07046,
          92861.965775,
          113983.40103,
          137483.41192,
          150191.34897,
          134980.87151,
          170815.12302
         ],
         "yaxis": "y"
        }
       ],
       "layout": {
        "height": 800,
        "legend": {
         "font": {
          "family": "Josefin Sans Bold",
          "size": 20
         },
         "title": {
          "font": {
           "family": "Josefin Sans Bold"
          },
          "text": "Empresa"
         },
         "tracegroupgap": 0,
         "x": 0.01,
         "xanchor": "left",
         "y": 0.99,
         "yanchor": "top"
        },
        "margin": {
         "t": 60
        },
        "plot_bgcolor": "white",
        "template": {
         "data": {
          "bar": [
           {
            "error_x": {
             "color": "#2a3f5f"
            },
            "error_y": {
             "color": "#2a3f5f"
            },
            "marker": {
             "line": {
              "color": "#E5ECF6",
              "width": 0.5
             },
             "pattern": {
              "fillmode": "overlay",
              "size": 10,
              "solidity": 0.2
             }
            },
            "type": "bar"
           }
          ],
          "barpolar": [
           {
            "marker": {
             "line": {
              "color": "#E5ECF6",
              "width": 0.5
             },
             "pattern": {
              "fillmode": "overlay",
              "size": 10,
              "solidity": 0.2
             }
            },
            "type": "barpolar"
           }
          ],
          "carpet": [
           {
            "aaxis": {
             "endlinecolor": "#2a3f5f",
             "gridcolor": "white",
             "linecolor": "white",
             "minorgridcolor": "white",
             "startlinecolor": "#2a3f5f"
            },
            "baxis": {
             "endlinecolor": "#2a3f5f",
             "gridcolor": "white",
             "linecolor": "white",
             "minorgridcolor": "white",
             "startlinecolor": "#2a3f5f"
            },
            "type": "carpet"
           }
          ],
          "choropleth": [
           {
            "colorbar": {
             "outlinewidth": 0,
             "ticks": ""
            },
            "type": "choropleth"
           }
          ],
          "contour": [
           {
            "colorbar": {
             "outlinewidth": 0,
             "ticks": ""
            },
            "colorscale": [
             [
              0,
              "#0d0887"
             ],
             [
              0.1111111111111111,
              "#46039f"
             ],
             [
              0.2222222222222222,
              "#7201a8"
             ],
             [
              0.3333333333333333,
              "#9c179e"
             ],
             [
              0.4444444444444444,
              "#bd3786"
             ],
             [
              0.5555555555555556,
              "#d8576b"
             ],
             [
              0.6666666666666666,
              "#ed7953"
             ],
             [
              0.7777777777777778,
              "#fb9f3a"
             ],
             [
              0.8888888888888888,
              "#fdca26"
             ],
             [
              1,
              "#f0f921"
             ]
            ],
            "type": "contour"
           }
          ],
          "contourcarpet": [
           {
            "colorbar": {
             "outlinewidth": 0,
             "ticks": ""
            },
            "type": "contourcarpet"
           }
          ],
          "heatmap": [
           {
            "colorbar": {
             "outlinewidth": 0,
             "ticks": ""
            },
            "colorscale": [
             [
              0,
              "#0d0887"
             ],
             [
              0.1111111111111111,
              "#46039f"
             ],
             [
              0.2222222222222222,
              "#7201a8"
             ],
             [
              0.3333333333333333,
              "#9c179e"
             ],
             [
              0.4444444444444444,
              "#bd3786"
             ],
             [
              0.5555555555555556,
              "#d8576b"
             ],
             [
              0.6666666666666666,
              "#ed7953"
             ],
             [
              0.7777777777777778,
              "#fb9f3a"
             ],
             [
              0.8888888888888888,
              "#fdca26"
             ],
             [
              1,
              "#f0f921"
             ]
            ],
            "type": "heatmap"
           }
          ],
          "heatmapgl": [
           {
            "colorbar": {
             "outlinewidth": 0,
             "ticks": ""
            },
            "colorscale": [
             [
              0,
              "#0d0887"
             ],
             [
              0.1111111111111111,
              "#46039f"
             ],
             [
              0.2222222222222222,
              "#7201a8"
             ],
             [
              0.3333333333333333,
              "#9c179e"
             ],
             [
              0.4444444444444444,
              "#bd3786"
             ],
             [
              0.5555555555555556,
              "#d8576b"
             ],
             [
              0.6666666666666666,
              "#ed7953"
             ],
             [
              0.7777777777777778,
              "#fb9f3a"
             ],
             [
              0.8888888888888888,
              "#fdca26"
             ],
             [
              1,
              "#f0f921"
             ]
            ],
            "type": "heatmapgl"
           }
          ],
          "histogram": [
           {
            "marker": {
             "pattern": {
              "fillmode": "overlay",
              "size": 10,
              "solidity": 0.2
             }
            },
            "type": "histogram"
           }
          ],
          "histogram2d": [
           {
            "colorbar": {
             "outlinewidth": 0,
             "ticks": ""
            },
            "colorscale": [
             [
              0,
              "#0d0887"
             ],
             [
              0.1111111111111111,
              "#46039f"
             ],
             [
              0.2222222222222222,
              "#7201a8"
             ],
             [
              0.3333333333333333,
              "#9c179e"
             ],
             [
              0.4444444444444444,
              "#bd3786"
             ],
             [
              0.5555555555555556,
              "#d8576b"
             ],
             [
              0.6666666666666666,
              "#ed7953"
             ],
             [
              0.7777777777777778,
              "#fb9f3a"
             ],
             [
              0.8888888888888888,
              "#fdca26"
             ],
             [
              1,
              "#f0f921"
             ]
            ],
            "type": "histogram2d"
           }
          ],
          "histogram2dcontour": [
           {
            "colorbar": {
             "outlinewidth": 0,
             "ticks": ""
            },
            "colorscale": [
             [
              0,
              "#0d0887"
             ],
             [
              0.1111111111111111,
              "#46039f"
             ],
             [
              0.2222222222222222,
              "#7201a8"
             ],
             [
              0.3333333333333333,
              "#9c179e"
             ],
             [
              0.4444444444444444,
              "#bd3786"
             ],
             [
              0.5555555555555556,
              "#d8576b"
             ],
             [
              0.6666666666666666,
              "#ed7953"
             ],
             [
              0.7777777777777778,
              "#fb9f3a"
             ],
             [
              0.8888888888888888,
              "#fdca26"
             ],
             [
              1,
              "#f0f921"
             ]
            ],
            "type": "histogram2dcontour"
           }
          ],
          "mesh3d": [
           {
            "colorbar": {
             "outlinewidth": 0,
             "ticks": ""
            },
            "type": "mesh3d"
           }
          ],
          "parcoords": [
           {
            "line": {
             "colorbar": {
              "outlinewidth": 0,
              "ticks": ""
             }
            },
            "type": "parcoords"
           }
          ],
          "pie": [
           {
            "automargin": true,
            "type": "pie"
           }
          ],
          "scatter": [
           {
            "fillpattern": {
             "fillmode": "overlay",
             "size": 10,
             "solidity": 0.2
            },
            "type": "scatter"
           }
          ],
          "scatter3d": [
           {
            "line": {
             "colorbar": {
              "outlinewidth": 0,
              "ticks": ""
             }
            },
            "marker": {
             "colorbar": {
              "outlinewidth": 0,
              "ticks": ""
             }
            },
            "type": "scatter3d"
           }
          ],
          "scattercarpet": [
           {
            "marker": {
             "colorbar": {
              "outlinewidth": 0,
              "ticks": ""
             }
            },
            "type": "scattercarpet"
           }
          ],
          "scattergeo": [
           {
            "marker": {
             "colorbar": {
              "outlinewidth": 0,
              "ticks": ""
             }
            },
            "type": "scattergeo"
           }
          ],
          "scattergl": [
           {
            "marker": {
             "colorbar": {
              "outlinewidth": 0,
              "ticks": ""
             }
            },
            "type": "scattergl"
           }
          ],
          "scattermapbox": [
           {
            "marker": {
             "colorbar": {
              "outlinewidth": 0,
              "ticks": ""
             }
            },
            "type": "scattermapbox"
           }
          ],
          "scatterpolar": [
           {
            "marker": {
             "colorbar": {
              "outlinewidth": 0,
              "ticks": ""
             }
            },
            "type": "scatterpolar"
           }
          ],
          "scatterpolargl": [
           {
            "marker": {
             "colorbar": {
              "outlinewidth": 0,
              "ticks": ""
             }
            },
            "type": "scatterpolargl"
           }
          ],
          "scatterternary": [
           {
            "marker": {
             "colorbar": {
              "outlinewidth": 0,
              "ticks": ""
             }
            },
            "type": "scatterternary"
           }
          ],
          "surface": [
           {
            "colorbar": {
             "outlinewidth": 0,
             "ticks": ""
            },
            "colorscale": [
             [
              0,
              "#0d0887"
             ],
             [
              0.1111111111111111,
              "#46039f"
             ],
             [
              0.2222222222222222,
              "#7201a8"
             ],
             [
              0.3333333333333333,
              "#9c179e"
             ],
             [
              0.4444444444444444,
              "#bd3786"
             ],
             [
              0.5555555555555556,
              "#d8576b"
             ],
             [
              0.6666666666666666,
              "#ed7953"
             ],
             [
              0.7777777777777778,
              "#fb9f3a"
             ],
             [
              0.8888888888888888,
              "#fdca26"
             ],
             [
              1,
              "#f0f921"
             ]
            ],
            "type": "surface"
           }
          ],
          "table": [
           {
            "cells": {
             "fill": {
              "color": "#EBF0F8"
             },
             "line": {
              "color": "white"
             }
            },
            "header": {
             "fill": {
              "color": "#C8D4E3"
             },
             "line": {
              "color": "white"
             }
            },
            "type": "table"
           }
          ]
         },
         "layout": {
          "annotationdefaults": {
           "arrowcolor": "#2a3f5f",
           "arrowhead": 0,
           "arrowwidth": 1
          },
          "autotypenumbers": "strict",
          "coloraxis": {
           "colorbar": {
            "outlinewidth": 0,
            "ticks": ""
           }
          },
          "colorscale": {
           "diverging": [
            [
             0,
             "#8e0152"
            ],
            [
             0.1,
             "#c51b7d"
            ],
            [
             0.2,
             "#de77ae"
            ],
            [
             0.3,
             "#f1b6da"
            ],
            [
             0.4,
             "#fde0ef"
            ],
            [
             0.5,
             "#f7f7f7"
            ],
            [
             0.6,
             "#e6f5d0"
            ],
            [
             0.7,
             "#b8e186"
            ],
            [
             0.8,
             "#7fbc41"
            ],
            [
             0.9,
             "#4d9221"
            ],
            [
             1,
             "#276419"
            ]
           ],
           "sequential": [
            [
             0,
             "#0d0887"
            ],
            [
             0.1111111111111111,
             "#46039f"
            ],
            [
             0.2222222222222222,
             "#7201a8"
            ],
            [
             0.3333333333333333,
             "#9c179e"
            ],
            [
             0.4444444444444444,
             "#bd3786"
            ],
            [
             0.5555555555555556,
             "#d8576b"
            ],
            [
             0.6666666666666666,
             "#ed7953"
            ],
            [
             0.7777777777777778,
             "#fb9f3a"
            ],
            [
             0.8888888888888888,
             "#fdca26"
            ],
            [
             1,
             "#f0f921"
            ]
           ],
           "sequentialminus": [
            [
             0,
             "#0d0887"
            ],
            [
             0.1111111111111111,
             "#46039f"
            ],
            [
             0.2222222222222222,
             "#7201a8"
            ],
            [
             0.3333333333333333,
             "#9c179e"
            ],
            [
             0.4444444444444444,
             "#bd3786"
            ],
            [
             0.5555555555555556,
             "#d8576b"
            ],
            [
             0.6666666666666666,
             "#ed7953"
            ],
            [
             0.7777777777777778,
             "#fb9f3a"
            ],
            [
             0.8888888888888888,
             "#fdca26"
            ],
            [
             1,
             "#f0f921"
            ]
           ]
          },
          "colorway": [
           "#636efa",
           "#EF553B",
           "#00cc96",
           "#ab63fa",
           "#FFA15A",
           "#19d3f3",
           "#FF6692",
           "#B6E880",
           "#FF97FF",
           "#FECB52"
          ],
          "font": {
           "color": "#2a3f5f"
          },
          "geo": {
           "bgcolor": "white",
           "lakecolor": "white",
           "landcolor": "#E5ECF6",
           "showlakes": true,
           "showland": true,
           "subunitcolor": "white"
          },
          "hoverlabel": {
           "align": "left"
          },
          "hovermode": "closest",
          "mapbox": {
           "style": "light"
          },
          "paper_bgcolor": "white",
          "plot_bgcolor": "#E5ECF6",
          "polar": {
           "angularaxis": {
            "gridcolor": "white",
            "linecolor": "white",
            "ticks": ""
           },
           "bgcolor": "#E5ECF6",
           "radialaxis": {
            "gridcolor": "white",
            "linecolor": "white",
            "ticks": ""
           }
          },
          "scene": {
           "xaxis": {
            "backgroundcolor": "#E5ECF6",
            "gridcolor": "white",
            "gridwidth": 2,
            "linecolor": "white",
            "showbackground": true,
            "ticks": "",
            "zerolinecolor": "white"
           },
           "yaxis": {
            "backgroundcolor": "#E5ECF6",
            "gridcolor": "white",
            "gridwidth": 2,
            "linecolor": "white",
            "showbackground": true,
            "ticks": "",
            "zerolinecolor": "white"
           },
           "zaxis": {
            "backgroundcolor": "#E5ECF6",
            "gridcolor": "white",
            "gridwidth": 2,
            "linecolor": "white",
            "showbackground": true,
            "ticks": "",
            "zerolinecolor": "white"
           }
          },
          "shapedefaults": {
           "line": {
            "color": "#2a3f5f"
           }
          },
          "ternary": {
           "aaxis": {
            "gridcolor": "white",
            "linecolor": "white",
            "ticks": ""
           },
           "baxis": {
            "gridcolor": "white",
            "linecolor": "white",
            "ticks": ""
           },
           "bgcolor": "#E5ECF6",
           "caxis": {
            "gridcolor": "white",
            "linecolor": "white",
            "ticks": ""
           }
          },
          "title": {
           "x": 0.05
          },
          "xaxis": {
           "automargin": true,
           "gridcolor": "white",
           "linecolor": "white",
           "ticks": "",
           "title": {
            "standoff": 15
           },
           "zerolinecolor": "white",
           "zerolinewidth": 2
          },
          "yaxis": {
           "automargin": true,
           "gridcolor": "white",
           "linecolor": "white",
           "ticks": "",
           "title": {
            "standoff": 15
           },
           "zerolinecolor": "white",
           "zerolinewidth": 2
          }
         }
        },
        "width": 1500,
        "xaxis": {
         "anchor": "y",
         "domain": [
          0,
          1
         ],
         "gridcolor": "LightGrey",
         "nticks": 10,
         "showgrid": false,
         "showline": true,
         "tickfont": {
          "family": "Josefin Sans Bold",
          "size": 20
         },
         "title": {
          "text": ""
         }
        },
        "yaxis": {
         "anchor": "x",
         "domain": [
          0,
          1
         ],
         "gridcolor": "LightGrey",
         "nticks": 10,
         "showgrid": true,
         "showline": true,
         "tickfont": {
          "family": "Josefin Sans Bold",
          "size": 20
         },
         "title": {
          "text": "Lucro Bruto $"
         }
        }
       }
      }
     },
     "metadata": {},
     "output_type": "display_data"
    }
   ],
   "source": [
    "empresas = [\n",
    "    \"Lojas Renner\",\n",
    "    \"Riachuelo\",\n",
    "    \"Marisa\",\n",
    "    \"C&A\",\n",
    "    \"Arezzo\",\n",
    "    \"Grupo SOMA\",\n",
    "    \"Le Lis Blanc\",\n",
    "]\n",
    "lucro_bruto = demonstrativos.loc[\n",
    "    (demonstrativos[\"consolidado\"] >= \"2017-01-01\")\n",
    "    & demonstrativos[\"empresa\"].isin(empresas)\n",
    "]\n",
    "\n",
    "lucro_bruto = lucro_bruto.assign(periodo=lucro_bruto[\"consolidado\"].str.slice(0, 7))\n",
    "lucro_bruto = lucro_bruto.pivot_table(\n",
    "    index=[\"periodo\"], columns=\"empresa\", values=\"lucro bruto\"\n",
    ")\n",
    "lucro_bruto = lucro_bruto.assign(total=lucro_bruto[empresas].sum(axis=1))\n",
    "\n",
    "fig = px.line(\n",
    "    lucro_bruto, x=lucro_bruto.index, y=empresas, height=800, width=1500, markers=False\n",
    ")\n",
    "\n",
    "legend_attribs = dict(\n",
    "    yanchor=\"top\",\n",
    "    xanchor=\"left\",\n",
    "    y=0.99,\n",
    "    x=0.01,\n",
    "    title_font_family=\"Josefin Sans Bold\",\n",
    "    font=dict(family=\"Josefin Sans Bold\", size=20),\n",
    ")\n",
    "\n",
    "fig.update_layout(\n",
    "    xaxis_title=\"\",\n",
    "    yaxis_title=\"Lucro Bruto $\",\n",
    "    plot_bgcolor=\"white\",\n",
    "    legend_title_text=\"Empresa\",\n",
    "    xaxis=xaxis_attribs,\n",
    "    yaxis=yaxis_attribs,\n",
    "    legend=legend_attribs,\n",
    ")\n",
    "fig.update_traces(line=dict(width=3))\n",
    "\n",
    "fig.show()"
   ]
  },
  {
   "cell_type": "markdown",
   "metadata": {},
   "source": [
    "#### Número de Lojas\n",
    "***"
   ]
  },
  {
   "cell_type": "code",
   "execution_count": 71,
   "metadata": {},
   "outputs": [
    {
     "data": {
      "application/vnd.plotly.v1+json": {
       "config": {
        "plotlyServerURL": "https://plot.ly"
       },
       "data": [
        {
         "hovertemplate": "Companhia=Marisa<br>Ano=%{x}<br>N Lojas =%{y}<extra></extra>",
         "legendgroup": "Marisa",
         "line": {
          "color": "#636efa",
          "dash": "solid",
          "width": 3
         },
         "marker": {
          "symbol": "circle"
         },
         "mode": "lines",
         "name": "Marisa",
         "orientation": "v",
         "showlegend": true,
         "type": "scatter",
         "x": [
          2017,
          2018,
          2019,
          2020,
          2021
         ],
         "xaxis": "x",
         "y": [
          388,
          371,
          354,
          345,
          344
         ],
         "yaxis": "y"
        },
        {
         "hovertemplate": "Companhia=C&A<br>Ano=%{x}<br>N Lojas =%{y}<extra></extra>",
         "legendgroup": "C&A",
         "line": {
          "color": "#EF553B",
          "dash": "solid",
          "width": 3
         },
         "marker": {
          "symbol": "circle"
         },
         "mode": "lines",
         "name": "C&A",
         "orientation": "v",
         "showlegend": true,
         "type": "scatter",
         "x": [
          2017,
          2018,
          2019,
          2020,
          2021
         ],
         "xaxis": "x",
         "y": [
          276,
          279,
          287,
          295,
          319
         ],
         "yaxis": "y"
        },
        {
         "hovertemplate": "Companhia=Grupo SOMA<br>Ano=%{x}<br>N Lojas =%{y}<extra></extra>",
         "legendgroup": "Grupo SOMA",
         "line": {
          "color": "#00cc96",
          "dash": "solid",
          "width": 3
         },
         "marker": {
          "symbol": "circle"
         },
         "mode": "lines",
         "name": "Grupo SOMA",
         "orientation": "v",
         "showlegend": true,
         "type": "scatter",
         "x": [
          2017,
          2018,
          2019,
          2020,
          2021
         ],
         "xaxis": "x",
         "y": [
          185,
          202,
          221,
          264,
          1076
         ],
         "yaxis": "y"
        },
        {
         "hovertemplate": "Companhia=Riachuelo<br>Ano=%{x}<br>N Lojas =%{y}<extra></extra>",
         "legendgroup": "Riachuelo",
         "line": {
          "color": "#ab63fa",
          "dash": "solid",
          "width": 3
         },
         "marker": {
          "symbol": "circle"
         },
         "mode": "lines",
         "name": "Riachuelo",
         "orientation": "v",
         "showlegend": true,
         "type": "scatter",
         "x": [
          2017,
          2018,
          2019,
          2020,
          2021
         ],
         "xaxis": "x",
         "y": [
          302,
          312,
          321,
          332,
          364
         ],
         "yaxis": "y"
        },
        {
         "hovertemplate": "Companhia=Lojas Renner<br>Ano=%{x}<br>N Lojas =%{y}<extra></extra>",
         "legendgroup": "Lojas Renner",
         "line": {
          "color": "#FFA15A",
          "dash": "solid",
          "width": 3
         },
         "marker": {
          "symbol": "circle"
         },
         "mode": "lines",
         "name": "Lojas Renner",
         "orientation": "v",
         "showlegend": true,
         "type": "scatter",
         "x": [
          2017,
          2018,
          2019,
          2020,
          2021
         ],
         "xaxis": "x",
         "y": [
          512,
          556,
          603,
          606,
          636
         ],
         "yaxis": "y"
        },
        {
         "hovertemplate": "Companhia=Le Lis Blanc<br>Ano=%{x}<br>N Lojas =%{y}<extra></extra>",
         "legendgroup": "Le Lis Blanc",
         "line": {
          "color": "#19d3f3",
          "dash": "solid",
          "width": 3
         },
         "marker": {
          "symbol": "circle"
         },
         "mode": "lines",
         "name": "Le Lis Blanc",
         "orientation": "v",
         "showlegend": true,
         "type": "scatter",
         "x": [
          2017,
          2018,
          2019,
          2020,
          2021
         ],
         "xaxis": "x",
         "y": [
          286,
          257,
          255,
          239,
          208
         ],
         "yaxis": "y"
        },
        {
         "hovertemplate": "Companhia=Arezzo<br>Ano=%{x}<br>N Lojas =%{y}<extra></extra>",
         "legendgroup": "Arezzo",
         "line": {
          "color": "#FF6692",
          "dash": "solid",
          "width": 3
         },
         "marker": {
          "symbol": "circle"
         },
         "mode": "lines",
         "name": "Arezzo",
         "orientation": "v",
         "showlegend": true,
         "type": "scatter",
         "x": [
          2017,
          2018,
          2019,
          2020,
          2021
         ],
         "xaxis": "x",
         "y": [
          618,
          685,
          752,
          891,
          941
         ],
         "yaxis": "y"
        }
       ],
       "layout": {
        "font": {
         "family": "Josefin Sans Bold",
         "size": 20
        },
        "height": 800,
        "legend": {
         "font": {
          "family": "Josefin Sans Bold",
          "size": 20
         },
         "title": {
          "font": {
           "family": "Josefin Sans Bold"
          },
          "text": "Empresa"
         },
         "tracegroupgap": 0,
         "x": 0.01,
         "xanchor": "left",
         "y": 0.99,
         "yanchor": "top"
        },
        "margin": {
         "t": 60
        },
        "plot_bgcolor": "white",
        "template": {
         "data": {
          "bar": [
           {
            "error_x": {
             "color": "#2a3f5f"
            },
            "error_y": {
             "color": "#2a3f5f"
            },
            "marker": {
             "line": {
              "color": "#E5ECF6",
              "width": 0.5
             },
             "pattern": {
              "fillmode": "overlay",
              "size": 10,
              "solidity": 0.2
             }
            },
            "type": "bar"
           }
          ],
          "barpolar": [
           {
            "marker": {
             "line": {
              "color": "#E5ECF6",
              "width": 0.5
             },
             "pattern": {
              "fillmode": "overlay",
              "size": 10,
              "solidity": 0.2
             }
            },
            "type": "barpolar"
           }
          ],
          "carpet": [
           {
            "aaxis": {
             "endlinecolor": "#2a3f5f",
             "gridcolor": "white",
             "linecolor": "white",
             "minorgridcolor": "white",
             "startlinecolor": "#2a3f5f"
            },
            "baxis": {
             "endlinecolor": "#2a3f5f",
             "gridcolor": "white",
             "linecolor": "white",
             "minorgridcolor": "white",
             "startlinecolor": "#2a3f5f"
            },
            "type": "carpet"
           }
          ],
          "choropleth": [
           {
            "colorbar": {
             "outlinewidth": 0,
             "ticks": ""
            },
            "type": "choropleth"
           }
          ],
          "contour": [
           {
            "colorbar": {
             "outlinewidth": 0,
             "ticks": ""
            },
            "colorscale": [
             [
              0,
              "#0d0887"
             ],
             [
              0.1111111111111111,
              "#46039f"
             ],
             [
              0.2222222222222222,
              "#7201a8"
             ],
             [
              0.3333333333333333,
              "#9c179e"
             ],
             [
              0.4444444444444444,
              "#bd3786"
             ],
             [
              0.5555555555555556,
              "#d8576b"
             ],
             [
              0.6666666666666666,
              "#ed7953"
             ],
             [
              0.7777777777777778,
              "#fb9f3a"
             ],
             [
              0.8888888888888888,
              "#fdca26"
             ],
             [
              1,
              "#f0f921"
             ]
            ],
            "type": "contour"
           }
          ],
          "contourcarpet": [
           {
            "colorbar": {
             "outlinewidth": 0,
             "ticks": ""
            },
            "type": "contourcarpet"
           }
          ],
          "heatmap": [
           {
            "colorbar": {
             "outlinewidth": 0,
             "ticks": ""
            },
            "colorscale": [
             [
              0,
              "#0d0887"
             ],
             [
              0.1111111111111111,
              "#46039f"
             ],
             [
              0.2222222222222222,
              "#7201a8"
             ],
             [
              0.3333333333333333,
              "#9c179e"
             ],
             [
              0.4444444444444444,
              "#bd3786"
             ],
             [
              0.5555555555555556,
              "#d8576b"
             ],
             [
              0.6666666666666666,
              "#ed7953"
             ],
             [
              0.7777777777777778,
              "#fb9f3a"
             ],
             [
              0.8888888888888888,
              "#fdca26"
             ],
             [
              1,
              "#f0f921"
             ]
            ],
            "type": "heatmap"
           }
          ],
          "heatmapgl": [
           {
            "colorbar": {
             "outlinewidth": 0,
             "ticks": ""
            },
            "colorscale": [
             [
              0,
              "#0d0887"
             ],
             [
              0.1111111111111111,
              "#46039f"
             ],
             [
              0.2222222222222222,
              "#7201a8"
             ],
             [
              0.3333333333333333,
              "#9c179e"
             ],
             [
              0.4444444444444444,
              "#bd3786"
             ],
             [
              0.5555555555555556,
              "#d8576b"
             ],
             [
              0.6666666666666666,
              "#ed7953"
             ],
             [
              0.7777777777777778,
              "#fb9f3a"
             ],
             [
              0.8888888888888888,
              "#fdca26"
             ],
             [
              1,
              "#f0f921"
             ]
            ],
            "type": "heatmapgl"
           }
          ],
          "histogram": [
           {
            "marker": {
             "pattern": {
              "fillmode": "overlay",
              "size": 10,
              "solidity": 0.2
             }
            },
            "type": "histogram"
           }
          ],
          "histogram2d": [
           {
            "colorbar": {
             "outlinewidth": 0,
             "ticks": ""
            },
            "colorscale": [
             [
              0,
              "#0d0887"
             ],
             [
              0.1111111111111111,
              "#46039f"
             ],
             [
              0.2222222222222222,
              "#7201a8"
             ],
             [
              0.3333333333333333,
              "#9c179e"
             ],
             [
              0.4444444444444444,
              "#bd3786"
             ],
             [
              0.5555555555555556,
              "#d8576b"
             ],
             [
              0.6666666666666666,
              "#ed7953"
             ],
             [
              0.7777777777777778,
              "#fb9f3a"
             ],
             [
              0.8888888888888888,
              "#fdca26"
             ],
             [
              1,
              "#f0f921"
             ]
            ],
            "type": "histogram2d"
           }
          ],
          "histogram2dcontour": [
           {
            "colorbar": {
             "outlinewidth": 0,
             "ticks": ""
            },
            "colorscale": [
             [
              0,
              "#0d0887"
             ],
             [
              0.1111111111111111,
              "#46039f"
             ],
             [
              0.2222222222222222,
              "#7201a8"
             ],
             [
              0.3333333333333333,
              "#9c179e"
             ],
             [
              0.4444444444444444,
              "#bd3786"
             ],
             [
              0.5555555555555556,
              "#d8576b"
             ],
             [
              0.6666666666666666,
              "#ed7953"
             ],
             [
              0.7777777777777778,
              "#fb9f3a"
             ],
             [
              0.8888888888888888,
              "#fdca26"
             ],
             [
              1,
              "#f0f921"
             ]
            ],
            "type": "histogram2dcontour"
           }
          ],
          "mesh3d": [
           {
            "colorbar": {
             "outlinewidth": 0,
             "ticks": ""
            },
            "type": "mesh3d"
           }
          ],
          "parcoords": [
           {
            "line": {
             "colorbar": {
              "outlinewidth": 0,
              "ticks": ""
             }
            },
            "type": "parcoords"
           }
          ],
          "pie": [
           {
            "automargin": true,
            "type": "pie"
           }
          ],
          "scatter": [
           {
            "fillpattern": {
             "fillmode": "overlay",
             "size": 10,
             "solidity": 0.2
            },
            "type": "scatter"
           }
          ],
          "scatter3d": [
           {
            "line": {
             "colorbar": {
              "outlinewidth": 0,
              "ticks": ""
             }
            },
            "marker": {
             "colorbar": {
              "outlinewidth": 0,
              "ticks": ""
             }
            },
            "type": "scatter3d"
           }
          ],
          "scattercarpet": [
           {
            "marker": {
             "colorbar": {
              "outlinewidth": 0,
              "ticks": ""
             }
            },
            "type": "scattercarpet"
           }
          ],
          "scattergeo": [
           {
            "marker": {
             "colorbar": {
              "outlinewidth": 0,
              "ticks": ""
             }
            },
            "type": "scattergeo"
           }
          ],
          "scattergl": [
           {
            "marker": {
             "colorbar": {
              "outlinewidth": 0,
              "ticks": ""
             }
            },
            "type": "scattergl"
           }
          ],
          "scattermapbox": [
           {
            "marker": {
             "colorbar": {
              "outlinewidth": 0,
              "ticks": ""
             }
            },
            "type": "scattermapbox"
           }
          ],
          "scatterpolar": [
           {
            "marker": {
             "colorbar": {
              "outlinewidth": 0,
              "ticks": ""
             }
            },
            "type": "scatterpolar"
           }
          ],
          "scatterpolargl": [
           {
            "marker": {
             "colorbar": {
              "outlinewidth": 0,
              "ticks": ""
             }
            },
            "type": "scatterpolargl"
           }
          ],
          "scatterternary": [
           {
            "marker": {
             "colorbar": {
              "outlinewidth": 0,
              "ticks": ""
             }
            },
            "type": "scatterternary"
           }
          ],
          "surface": [
           {
            "colorbar": {
             "outlinewidth": 0,
             "ticks": ""
            },
            "colorscale": [
             [
              0,
              "#0d0887"
             ],
             [
              0.1111111111111111,
              "#46039f"
             ],
             [
              0.2222222222222222,
              "#7201a8"
             ],
             [
              0.3333333333333333,
              "#9c179e"
             ],
             [
              0.4444444444444444,
              "#bd3786"
             ],
             [
              0.5555555555555556,
              "#d8576b"
             ],
             [
              0.6666666666666666,
              "#ed7953"
             ],
             [
              0.7777777777777778,
              "#fb9f3a"
             ],
             [
              0.8888888888888888,
              "#fdca26"
             ],
             [
              1,
              "#f0f921"
             ]
            ],
            "type": "surface"
           }
          ],
          "table": [
           {
            "cells": {
             "fill": {
              "color": "#EBF0F8"
             },
             "line": {
              "color": "white"
             }
            },
            "header": {
             "fill": {
              "color": "#C8D4E3"
             },
             "line": {
              "color": "white"
             }
            },
            "type": "table"
           }
          ]
         },
         "layout": {
          "annotationdefaults": {
           "arrowcolor": "#2a3f5f",
           "arrowhead": 0,
           "arrowwidth": 1
          },
          "autotypenumbers": "strict",
          "coloraxis": {
           "colorbar": {
            "outlinewidth": 0,
            "ticks": ""
           }
          },
          "colorscale": {
           "diverging": [
            [
             0,
             "#8e0152"
            ],
            [
             0.1,
             "#c51b7d"
            ],
            [
             0.2,
             "#de77ae"
            ],
            [
             0.3,
             "#f1b6da"
            ],
            [
             0.4,
             "#fde0ef"
            ],
            [
             0.5,
             "#f7f7f7"
            ],
            [
             0.6,
             "#e6f5d0"
            ],
            [
             0.7,
             "#b8e186"
            ],
            [
             0.8,
             "#7fbc41"
            ],
            [
             0.9,
             "#4d9221"
            ],
            [
             1,
             "#276419"
            ]
           ],
           "sequential": [
            [
             0,
             "#0d0887"
            ],
            [
             0.1111111111111111,
             "#46039f"
            ],
            [
             0.2222222222222222,
             "#7201a8"
            ],
            [
             0.3333333333333333,
             "#9c179e"
            ],
            [
             0.4444444444444444,
             "#bd3786"
            ],
            [
             0.5555555555555556,
             "#d8576b"
            ],
            [
             0.6666666666666666,
             "#ed7953"
            ],
            [
             0.7777777777777778,
             "#fb9f3a"
            ],
            [
             0.8888888888888888,
             "#fdca26"
            ],
            [
             1,
             "#f0f921"
            ]
           ],
           "sequentialminus": [
            [
             0,
             "#0d0887"
            ],
            [
             0.1111111111111111,
             "#46039f"
            ],
            [
             0.2222222222222222,
             "#7201a8"
            ],
            [
             0.3333333333333333,
             "#9c179e"
            ],
            [
             0.4444444444444444,
             "#bd3786"
            ],
            [
             0.5555555555555556,
             "#d8576b"
            ],
            [
             0.6666666666666666,
             "#ed7953"
            ],
            [
             0.7777777777777778,
             "#fb9f3a"
            ],
            [
             0.8888888888888888,
             "#fdca26"
            ],
            [
             1,
             "#f0f921"
            ]
           ]
          },
          "colorway": [
           "#636efa",
           "#EF553B",
           "#00cc96",
           "#ab63fa",
           "#FFA15A",
           "#19d3f3",
           "#FF6692",
           "#B6E880",
           "#FF97FF",
           "#FECB52"
          ],
          "font": {
           "color": "#2a3f5f"
          },
          "geo": {
           "bgcolor": "white",
           "lakecolor": "white",
           "landcolor": "#E5ECF6",
           "showlakes": true,
           "showland": true,
           "subunitcolor": "white"
          },
          "hoverlabel": {
           "align": "left"
          },
          "hovermode": "closest",
          "mapbox": {
           "style": "light"
          },
          "paper_bgcolor": "white",
          "plot_bgcolor": "#E5ECF6",
          "polar": {
           "angularaxis": {
            "gridcolor": "white",
            "linecolor": "white",
            "ticks": ""
           },
           "bgcolor": "#E5ECF6",
           "radialaxis": {
            "gridcolor": "white",
            "linecolor": "white",
            "ticks": ""
           }
          },
          "scene": {
           "xaxis": {
            "backgroundcolor": "#E5ECF6",
            "gridcolor": "white",
            "gridwidth": 2,
            "linecolor": "white",
            "showbackground": true,
            "ticks": "",
            "zerolinecolor": "white"
           },
           "yaxis": {
            "backgroundcolor": "#E5ECF6",
            "gridcolor": "white",
            "gridwidth": 2,
            "linecolor": "white",
            "showbackground": true,
            "ticks": "",
            "zerolinecolor": "white"
           },
           "zaxis": {
            "backgroundcolor": "#E5ECF6",
            "gridcolor": "white",
            "gridwidth": 2,
            "linecolor": "white",
            "showbackground": true,
            "ticks": "",
            "zerolinecolor": "white"
           }
          },
          "shapedefaults": {
           "line": {
            "color": "#2a3f5f"
           }
          },
          "ternary": {
           "aaxis": {
            "gridcolor": "white",
            "linecolor": "white",
            "ticks": ""
           },
           "baxis": {
            "gridcolor": "white",
            "linecolor": "white",
            "ticks": ""
           },
           "bgcolor": "#E5ECF6",
           "caxis": {
            "gridcolor": "white",
            "linecolor": "white",
            "ticks": ""
           }
          },
          "title": {
           "x": 0.05
          },
          "xaxis": {
           "automargin": true,
           "gridcolor": "white",
           "linecolor": "white",
           "ticks": "",
           "title": {
            "standoff": 15
           },
           "zerolinecolor": "white",
           "zerolinewidth": 2
          },
          "yaxis": {
           "automargin": true,
           "gridcolor": "white",
           "linecolor": "white",
           "ticks": "",
           "title": {
            "standoff": 15
           },
           "zerolinecolor": "white",
           "zerolinewidth": 2
          }
         }
        },
        "width": 1500,
        "xaxis": {
         "anchor": "y",
         "domain": [
          0,
          1
         ],
         "gridcolor": "LightGrey",
         "nticks": 5,
         "showgrid": false,
         "showline": true,
         "tickfont": {
          "family": "Josefin Sans Bold",
          "size": 20
         },
         "title": {
          "text": ""
         }
        },
        "yaxis": {
         "anchor": "x",
         "domain": [
          0,
          1
         ],
         "gridcolor": "LightGrey",
         "nticks": 20,
         "showgrid": true,
         "showline": true,
         "tickfont": {
          "family": "Josefin Sans Bold",
          "size": 20
         },
         "title": {
          "text": "Número de Lojas"
         }
        }
       }
      }
     },
     "metadata": {},
     "output_type": "display_data"
    }
   ],
   "source": [
    "empresas = [\n",
    "    \"Lojas Renner\",\n",
    "    \"Riachuelo\",\n",
    "    \"Marisa\",\n",
    "    \"C&A\",\n",
    "    \"Arezzo\",\n",
    "    \"Grupo SOMA\",\n",
    "    \"Le Lis Blanc\",\n",
    "]\n",
    "n_lojas = lojas.loc[(lojas[\"Companhia\"].isin(empresas)) & (lojas[\"Ano\"] > 2016)]\n",
    "\n",
    "fig = px.line(\n",
    "    n_lojas,\n",
    "    x=\"Ano\",\n",
    "    y=\"N Lojas \",\n",
    "    color=\"Companhia\",\n",
    "    height=800,\n",
    "    width=1500,\n",
    "    markers=False,\n",
    ")\n",
    "\n",
    "xaxis_attribs = dict(\n",
    "    showline=True,\n",
    "    showgrid=False,\n",
    "    tickfont=dict(family=\"Josefin Sans Bold\", size=20),\n",
    "    nticks=5,\n",
    "    gridcolor=\"LightGrey\",\n",
    ")\n",
    "\n",
    "legend_attribs = dict(\n",
    "    yanchor=\"top\",\n",
    "    xanchor=\"left\",\n",
    "    y=0.99,\n",
    "    x=0.01,\n",
    "    title_font_family=\"Josefin Sans Bold\",\n",
    "    font=dict(family=\"Josefin Sans Bold\", size=20),\n",
    ")\n",
    "\n",
    "fig.update_layout(\n",
    "    xaxis_title=\"\",\n",
    "    yaxis_title=\"Número de Lojas\",\n",
    "    plot_bgcolor=\"white\",\n",
    "    legend_title_text=\"Empresa\",\n",
    "    xaxis=xaxis_attribs,\n",
    "    yaxis=yaxis_attribs,\n",
    "    legend=legend_attribs,\n",
    "    font=dict(family=\"Josefin Sans Bold\", size=20),\n",
    ")\n",
    "fig.update_traces(line=dict(width=3))\n",
    "\n",
    "fig.show()"
   ]
  },
  {
   "cell_type": "markdown",
   "metadata": {},
   "source": [
    "#### Prazo Médio de Estoque\n",
    "***"
   ]
  },
  {
   "cell_type": "code",
   "execution_count": 68,
   "metadata": {},
   "outputs": [
    {
     "data": {
      "application/vnd.plotly.v1+json": {
       "config": {
        "plotlyServerURL": "https://plot.ly"
       },
       "data": [
        {
         "hovertemplate": "empresa=Lojas Renner<br>consolidado=%{x}<br>prazo med estoques(dias)=%{y}<extra></extra>",
         "legendgroup": "Lojas Renner",
         "line": {
          "color": "#636efa",
          "dash": "solid",
          "width": 3
         },
         "marker": {
          "symbol": "circle"
         },
         "mode": "lines",
         "name": "Lojas Renner",
         "orientation": "v",
         "showlegend": true,
         "type": "scatter",
         "x": [
          "2010-03-31",
          "2010-06-30",
          "2010-09-30",
          "2010-12-31",
          "2011-03-31",
          "2011-06-30",
          "2011-09-30",
          "2011-12-31",
          "2012-03-31",
          "2012-06-30",
          "2012-09-30",
          "2012-12-31",
          "2013-03-31",
          "2013-06-30",
          "2013-09-30",
          "2013-12-31",
          "2014-03-31",
          "2014-06-30",
          "2014-09-30",
          "2014-12-31",
          "2015-03-31",
          "2015-06-30",
          "2015-09-30",
          "2015-12-31",
          "2016-03-31",
          "2016-06-30",
          "2016-09-30",
          "2016-12-31",
          "2017-03-31",
          "2017-06-30",
          "2017-09-30",
          "2017-12-31",
          "2018-03-31",
          "2018-06-30",
          "2018-09-30",
          "2018-12-31",
          "2019-03-31",
          "2019-06-30",
          "2019-09-30",
          "2019-12-31",
          "2020-03-31",
          "2020-06-30",
          "2020-09-30",
          "2020-12-31",
          "2021-03-31",
          "2021-06-30",
          "2021-09-30",
          "2021-12-31",
          "2022-03-31",
          "2022-06-30"
         ],
         "xaxis": "x",
         "y": [
          89.238569609,
          89.064384933,
          94.933499762,
          82.137550756,
          110.01415936,
          94.718258853,
          108.06002726,
          103.85091922,
          117.60361642,
          116.04641302,
          122.13833506,
          100.01184644,
          113.18031187,
          111.75665674,
          116.27821622,
          97.728616223,
          109.88411737,
          103.63916825,
          119.98861422,
          101.77130681,
          113.22265307,
          105.51931912,
          112.77899526,
          89.239676477,
          96.112242399,
          99.123830202,
          111.60690963,
          109.36181862,
          124.79631355,
          115.29513078,
          120.273934,
          112.85337122,
          131.76996366,
          128.23926,
          139.23676426,
          121.69515335,
          131.72556251,
          117.1064774,
          123.62062039,
          108.51625282,
          137.39091716,
          183.22661625,
          177.89727035,
          154.30045571,
          199.19422064,
          148.73265742,
          147.42581886,
          131.71587965,
          149.478106,
          130.22432681
         ],
         "yaxis": "y"
        },
        {
         "hovertemplate": "empresa=Arezzo<br>consolidado=%{x}<br>prazo med estoques(dias)=%{y}<extra></extra>",
         "legendgroup": "Arezzo",
         "line": {
          "color": "#EF553B",
          "dash": "solid",
          "width": 3
         },
         "marker": {
          "symbol": "circle"
         },
         "mode": "lines",
         "name": "Arezzo",
         "orientation": "v",
         "showlegend": true,
         "type": "scatter",
         "x": [
          "2010-03-31",
          "2010-06-30",
          "2010-09-30",
          "2010-12-31",
          "2011-03-31",
          "2011-06-30",
          "2011-09-30",
          "2011-12-31",
          "2012-03-31",
          "2012-06-30",
          "2012-09-30",
          "2012-12-31",
          "2013-03-31",
          "2013-06-30",
          "2013-09-30",
          "2013-12-31",
          "2014-03-31",
          "2014-06-30",
          "2014-09-30",
          "2014-12-31",
          "2015-03-31",
          "2015-06-30",
          "2015-09-30",
          "2015-12-31",
          "2016-03-31",
          "2016-06-30",
          "2016-09-30",
          "2016-12-31",
          "2017-03-31",
          "2017-06-30",
          "2017-09-30",
          "2017-12-31",
          "2018-03-31",
          "2018-06-30",
          "2018-09-30",
          "2018-12-31",
          "2019-03-31",
          "2019-06-30",
          "2019-09-30",
          "2019-12-31",
          "2020-03-31",
          "2020-06-30",
          "2020-09-30",
          "2020-12-31",
          "2021-03-31",
          "2021-06-30",
          "2021-09-30",
          "2021-12-31",
          "2022-03-31",
          "2022-06-30"
         ],
         "xaxis": "x",
         "y": [
          "-",
          "-",
          "-",
          51.753892505,
          65.278218414,
          65.691043762,
          67.223235955,
          51.972637824,
          58.106031193,
          54.698905489,
          64.298066437,
          56.565909232,
          62.741877645,
          61.709555035,
          67.170185165,
          57.032171118,
          67.629945574,
          77.961016687,
          72.290823358,
          58.526465764,
          70.011693126,
          65.412538294,
          66.272059036,
          59.725249667,
          67.892589949,
          71.219369355,
          67.488436213,
          57.65581986,
          60.279284043,
          61.348050383,
          57.726205482,
          55.457726692,
          61.250633947,
          65.537573958,
          66.999635353,
          66.55738388,
          69.936980989,
          69.097180775,
          74.650622481,
          71.518215554,
          101.14531466,
          127.34404925,
          115.06739623,
          125.29934348,
          141.9437707,
          121.99481855,
          133.20745371,
          117.08166714,
          131.33183395,
          139.48232474
         ],
         "yaxis": "y"
        },
        {
         "hovertemplate": "empresa=Marisa<br>consolidado=%{x}<br>prazo med estoques(dias)=%{y}<extra></extra>",
         "legendgroup": "Marisa",
         "line": {
          "color": "#00cc96",
          "dash": "solid",
          "width": 3
         },
         "marker": {
          "symbol": "circle"
         },
         "mode": "lines",
         "name": "Marisa",
         "orientation": "v",
         "showlegend": true,
         "type": "scatter",
         "x": [
          "2010-03-31",
          "2010-06-30",
          "2010-09-30",
          "2010-12-31",
          "2011-03-31",
          "2011-06-30",
          "2011-09-30",
          "2011-12-31",
          "2012-03-31",
          "2012-06-30",
          "2012-09-30",
          "2012-12-31",
          "2013-03-31",
          "2013-06-30",
          "2013-09-30",
          "2013-12-31",
          "2014-03-31",
          "2014-06-30",
          "2014-09-30",
          "2014-12-31",
          "2015-03-31",
          "2015-06-30",
          "2015-09-30",
          "2015-12-31",
          "2016-03-31",
          "2016-06-30",
          "2016-09-30",
          "2016-12-31",
          "2017-03-31",
          "2017-06-30",
          "2017-09-30",
          "2017-12-31",
          "2018-03-31",
          "2018-06-30",
          "2018-09-30",
          "2018-12-31",
          "2019-03-31",
          "2019-06-30",
          "2019-09-30",
          "2019-12-31",
          "2020-03-31",
          "2020-06-30",
          "2020-09-30",
          "2020-12-31",
          "2021-03-31",
          "2021-06-30",
          "2021-09-30",
          "2021-12-31",
          "2022-03-31",
          "2022-06-30"
         ],
         "xaxis": "x",
         "y": [
          97.403926246,
          78.578103192,
          88.735440792,
          80.361561572,
          103.93590811,
          98.767013528,
          106.11621616,
          80.860128194,
          108.15809297,
          98.021549871,
          109.51439556,
          90.158632394,
          120.30681937,
          97.380408035,
          96.906368828,
          74.248964176,
          128.26168195,
          105.45257762,
          98.086275128,
          75.422864871,
          113.64980844,
          95.37774933,
          91.567163807,
          66.359446077,
          89.15203084,
          69.468727046,
          85.449441613,
          79.040651198,
          97.47585585,
          108.96648473,
          106.9014687,
          100.36411904,
          116.08666603,
          103.783714,
          90.575628163,
          85.01858651,
          106.88357073,
          100.61720681,
          104.34720968,
          102.51904808,
          123.58715891,
          124.01114444,
          92.906742505,
          73.781259227,
          138.97604159,
          109.65457586,
          116.53688736,
          98.900845829,
          105.66231527,
          85.851061182
         ],
         "yaxis": "y"
        },
        {
         "hovertemplate": "empresa=Riachuelo<br>consolidado=%{x}<br>prazo med estoques(dias)=%{y}<extra></extra>",
         "legendgroup": "Riachuelo",
         "line": {
          "color": "#ab63fa",
          "dash": "solid",
          "width": 3
         },
         "marker": {
          "symbol": "circle"
         },
         "mode": "lines",
         "name": "Riachuelo",
         "orientation": "v",
         "showlegend": true,
         "type": "scatter",
         "x": [
          "2010-03-31",
          "2010-06-30",
          "2010-09-30",
          "2010-12-31",
          "2011-03-31",
          "2011-06-30",
          "2011-09-30",
          "2011-12-31",
          "2012-03-31",
          "2012-06-30",
          "2012-09-30",
          "2012-12-31",
          "2013-03-31",
          "2013-06-30",
          "2013-09-30",
          "2013-12-31",
          "2014-03-31",
          "2014-06-30",
          "2014-09-30",
          "2014-12-31",
          "2015-03-31",
          "2015-06-30",
          "2015-09-30",
          "2015-12-31",
          "2016-03-31",
          "2016-06-30",
          "2016-09-30",
          "2016-12-31",
          "2017-03-31",
          "2017-06-30",
          "2017-09-30",
          "2017-12-31",
          "2018-03-31",
          "2018-06-30",
          "2018-09-30",
          "2018-12-31",
          "2019-03-31",
          "2019-06-30",
          "2019-09-30",
          "2019-12-31",
          "2020-03-31",
          "2020-06-30",
          "2020-09-30",
          "2020-12-31",
          "2021-03-31",
          "2021-06-30",
          "2021-09-30",
          "2021-12-31",
          "2022-03-31",
          "2022-06-30"
         ],
         "xaxis": "x",
         "y": [
          141.12902565,
          145.60392449,
          161.12821975,
          138.17997294,
          145.05180018,
          163.72407399,
          175.72883013,
          154.81660535,
          160.09748382,
          156.92250505,
          161.50956752,
          131.20457447,
          162.98159188,
          163.37561423,
          152.68070495,
          121.74905638,
          147.58226871,
          143.17039746,
          169.08163486,
          152.76901621,
          187.37491328,
          188.24253539,
          164.21327572,
          122.94518626,
          143.96432325,
          141.63615861,
          135.87398666,
          101.56557078,
          118.80535498,
          118.35441251,
          123.31929734,
          112.42387128,
          138.76501727,
          146.61792029,
          152.24684134,
          132.21237549,
          149.05392212,
          135.92092924,
          149.89535957,
          131.43141577,
          162.21065671,
          154.5671495,
          134.93036064,
          121.7143813,
          162.30786372,
          129.00359542,
          145.32524909,
          137.44183451,
          159.5392079,
          146.5740394
         ],
         "yaxis": "y"
        },
        {
         "hovertemplate": "empresa=C&A<br>consolidado=%{x}<br>prazo med estoques(dias)=%{y}<extra></extra>",
         "legendgroup": "C&A",
         "line": {
          "color": "#FFA15A",
          "dash": "solid",
          "width": 3
         },
         "marker": {
          "symbol": "circle"
         },
         "mode": "lines",
         "name": "C&A",
         "orientation": "v",
         "showlegend": true,
         "type": "scatter",
         "x": [
          "2016-12-31",
          "2017-12-31",
          "2018-12-31",
          "2019-03-31",
          "2019-06-30",
          "2019-09-30",
          "2019-12-31",
          "2020-03-31",
          "2020-06-30",
          "2020-09-30",
          "2020-12-31",
          "2021-03-31",
          "2021-06-30",
          "2021-09-30",
          "2021-12-31",
          "2022-03-31",
          "2022-06-30"
         ],
         "xaxis": "x",
         "y": [
          69.588782704,
          66.024524834,
          67.484293431,
          "-",
          "-",
          "-",
          72.172774667,
          105.6586804,
          134.19490477,
          129.3276106,
          105.42807919,
          159.95200197,
          119.90151919,
          116.95190779,
          110.93913887,
          119.14418986,
          110.62772521
         ],
         "yaxis": "y"
        }
       ],
       "layout": {
        "height": 800,
        "legend": {
         "font": {
          "family": "Josefin Sans Bold",
          "size": 20
         },
         "title": {
          "font": {
           "family": "Josefin Sans Bold"
          },
          "text": "Empresa"
         },
         "tracegroupgap": 0,
         "x": 0.01,
         "xanchor": "left",
         "y": 0.99,
         "yanchor": "top"
        },
        "margin": {
         "t": 60
        },
        "plot_bgcolor": "white",
        "template": {
         "data": {
          "bar": [
           {
            "error_x": {
             "color": "#2a3f5f"
            },
            "error_y": {
             "color": "#2a3f5f"
            },
            "marker": {
             "line": {
              "color": "#E5ECF6",
              "width": 0.5
             },
             "pattern": {
              "fillmode": "overlay",
              "size": 10,
              "solidity": 0.2
             }
            },
            "type": "bar"
           }
          ],
          "barpolar": [
           {
            "marker": {
             "line": {
              "color": "#E5ECF6",
              "width": 0.5
             },
             "pattern": {
              "fillmode": "overlay",
              "size": 10,
              "solidity": 0.2
             }
            },
            "type": "barpolar"
           }
          ],
          "carpet": [
           {
            "aaxis": {
             "endlinecolor": "#2a3f5f",
             "gridcolor": "white",
             "linecolor": "white",
             "minorgridcolor": "white",
             "startlinecolor": "#2a3f5f"
            },
            "baxis": {
             "endlinecolor": "#2a3f5f",
             "gridcolor": "white",
             "linecolor": "white",
             "minorgridcolor": "white",
             "startlinecolor": "#2a3f5f"
            },
            "type": "carpet"
           }
          ],
          "choropleth": [
           {
            "colorbar": {
             "outlinewidth": 0,
             "ticks": ""
            },
            "type": "choropleth"
           }
          ],
          "contour": [
           {
            "colorbar": {
             "outlinewidth": 0,
             "ticks": ""
            },
            "colorscale": [
             [
              0,
              "#0d0887"
             ],
             [
              0.1111111111111111,
              "#46039f"
             ],
             [
              0.2222222222222222,
              "#7201a8"
             ],
             [
              0.3333333333333333,
              "#9c179e"
             ],
             [
              0.4444444444444444,
              "#bd3786"
             ],
             [
              0.5555555555555556,
              "#d8576b"
             ],
             [
              0.6666666666666666,
              "#ed7953"
             ],
             [
              0.7777777777777778,
              "#fb9f3a"
             ],
             [
              0.8888888888888888,
              "#fdca26"
             ],
             [
              1,
              "#f0f921"
             ]
            ],
            "type": "contour"
           }
          ],
          "contourcarpet": [
           {
            "colorbar": {
             "outlinewidth": 0,
             "ticks": ""
            },
            "type": "contourcarpet"
           }
          ],
          "heatmap": [
           {
            "colorbar": {
             "outlinewidth": 0,
             "ticks": ""
            },
            "colorscale": [
             [
              0,
              "#0d0887"
             ],
             [
              0.1111111111111111,
              "#46039f"
             ],
             [
              0.2222222222222222,
              "#7201a8"
             ],
             [
              0.3333333333333333,
              "#9c179e"
             ],
             [
              0.4444444444444444,
              "#bd3786"
             ],
             [
              0.5555555555555556,
              "#d8576b"
             ],
             [
              0.6666666666666666,
              "#ed7953"
             ],
             [
              0.7777777777777778,
              "#fb9f3a"
             ],
             [
              0.8888888888888888,
              "#fdca26"
             ],
             [
              1,
              "#f0f921"
             ]
            ],
            "type": "heatmap"
           }
          ],
          "heatmapgl": [
           {
            "colorbar": {
             "outlinewidth": 0,
             "ticks": ""
            },
            "colorscale": [
             [
              0,
              "#0d0887"
             ],
             [
              0.1111111111111111,
              "#46039f"
             ],
             [
              0.2222222222222222,
              "#7201a8"
             ],
             [
              0.3333333333333333,
              "#9c179e"
             ],
             [
              0.4444444444444444,
              "#bd3786"
             ],
             [
              0.5555555555555556,
              "#d8576b"
             ],
             [
              0.6666666666666666,
              "#ed7953"
             ],
             [
              0.7777777777777778,
              "#fb9f3a"
             ],
             [
              0.8888888888888888,
              "#fdca26"
             ],
             [
              1,
              "#f0f921"
             ]
            ],
            "type": "heatmapgl"
           }
          ],
          "histogram": [
           {
            "marker": {
             "pattern": {
              "fillmode": "overlay",
              "size": 10,
              "solidity": 0.2
             }
            },
            "type": "histogram"
           }
          ],
          "histogram2d": [
           {
            "colorbar": {
             "outlinewidth": 0,
             "ticks": ""
            },
            "colorscale": [
             [
              0,
              "#0d0887"
             ],
             [
              0.1111111111111111,
              "#46039f"
             ],
             [
              0.2222222222222222,
              "#7201a8"
             ],
             [
              0.3333333333333333,
              "#9c179e"
             ],
             [
              0.4444444444444444,
              "#bd3786"
             ],
             [
              0.5555555555555556,
              "#d8576b"
             ],
             [
              0.6666666666666666,
              "#ed7953"
             ],
             [
              0.7777777777777778,
              "#fb9f3a"
             ],
             [
              0.8888888888888888,
              "#fdca26"
             ],
             [
              1,
              "#f0f921"
             ]
            ],
            "type": "histogram2d"
           }
          ],
          "histogram2dcontour": [
           {
            "colorbar": {
             "outlinewidth": 0,
             "ticks": ""
            },
            "colorscale": [
             [
              0,
              "#0d0887"
             ],
             [
              0.1111111111111111,
              "#46039f"
             ],
             [
              0.2222222222222222,
              "#7201a8"
             ],
             [
              0.3333333333333333,
              "#9c179e"
             ],
             [
              0.4444444444444444,
              "#bd3786"
             ],
             [
              0.5555555555555556,
              "#d8576b"
             ],
             [
              0.6666666666666666,
              "#ed7953"
             ],
             [
              0.7777777777777778,
              "#fb9f3a"
             ],
             [
              0.8888888888888888,
              "#fdca26"
             ],
             [
              1,
              "#f0f921"
             ]
            ],
            "type": "histogram2dcontour"
           }
          ],
          "mesh3d": [
           {
            "colorbar": {
             "outlinewidth": 0,
             "ticks": ""
            },
            "type": "mesh3d"
           }
          ],
          "parcoords": [
           {
            "line": {
             "colorbar": {
              "outlinewidth": 0,
              "ticks": ""
             }
            },
            "type": "parcoords"
           }
          ],
          "pie": [
           {
            "automargin": true,
            "type": "pie"
           }
          ],
          "scatter": [
           {
            "fillpattern": {
             "fillmode": "overlay",
             "size": 10,
             "solidity": 0.2
            },
            "type": "scatter"
           }
          ],
          "scatter3d": [
           {
            "line": {
             "colorbar": {
              "outlinewidth": 0,
              "ticks": ""
             }
            },
            "marker": {
             "colorbar": {
              "outlinewidth": 0,
              "ticks": ""
             }
            },
            "type": "scatter3d"
           }
          ],
          "scattercarpet": [
           {
            "marker": {
             "colorbar": {
              "outlinewidth": 0,
              "ticks": ""
             }
            },
            "type": "scattercarpet"
           }
          ],
          "scattergeo": [
           {
            "marker": {
             "colorbar": {
              "outlinewidth": 0,
              "ticks": ""
             }
            },
            "type": "scattergeo"
           }
          ],
          "scattergl": [
           {
            "marker": {
             "colorbar": {
              "outlinewidth": 0,
              "ticks": ""
             }
            },
            "type": "scattergl"
           }
          ],
          "scattermapbox": [
           {
            "marker": {
             "colorbar": {
              "outlinewidth": 0,
              "ticks": ""
             }
            },
            "type": "scattermapbox"
           }
          ],
          "scatterpolar": [
           {
            "marker": {
             "colorbar": {
              "outlinewidth": 0,
              "ticks": ""
             }
            },
            "type": "scatterpolar"
           }
          ],
          "scatterpolargl": [
           {
            "marker": {
             "colorbar": {
              "outlinewidth": 0,
              "ticks": ""
             }
            },
            "type": "scatterpolargl"
           }
          ],
          "scatterternary": [
           {
            "marker": {
             "colorbar": {
              "outlinewidth": 0,
              "ticks": ""
             }
            },
            "type": "scatterternary"
           }
          ],
          "surface": [
           {
            "colorbar": {
             "outlinewidth": 0,
             "ticks": ""
            },
            "colorscale": [
             [
              0,
              "#0d0887"
             ],
             [
              0.1111111111111111,
              "#46039f"
             ],
             [
              0.2222222222222222,
              "#7201a8"
             ],
             [
              0.3333333333333333,
              "#9c179e"
             ],
             [
              0.4444444444444444,
              "#bd3786"
             ],
             [
              0.5555555555555556,
              "#d8576b"
             ],
             [
              0.6666666666666666,
              "#ed7953"
             ],
             [
              0.7777777777777778,
              "#fb9f3a"
             ],
             [
              0.8888888888888888,
              "#fdca26"
             ],
             [
              1,
              "#f0f921"
             ]
            ],
            "type": "surface"
           }
          ],
          "table": [
           {
            "cells": {
             "fill": {
              "color": "#EBF0F8"
             },
             "line": {
              "color": "white"
             }
            },
            "header": {
             "fill": {
              "color": "#C8D4E3"
             },
             "line": {
              "color": "white"
             }
            },
            "type": "table"
           }
          ]
         },
         "layout": {
          "annotationdefaults": {
           "arrowcolor": "#2a3f5f",
           "arrowhead": 0,
           "arrowwidth": 1
          },
          "autotypenumbers": "strict",
          "coloraxis": {
           "colorbar": {
            "outlinewidth": 0,
            "ticks": ""
           }
          },
          "colorscale": {
           "diverging": [
            [
             0,
             "#8e0152"
            ],
            [
             0.1,
             "#c51b7d"
            ],
            [
             0.2,
             "#de77ae"
            ],
            [
             0.3,
             "#f1b6da"
            ],
            [
             0.4,
             "#fde0ef"
            ],
            [
             0.5,
             "#f7f7f7"
            ],
            [
             0.6,
             "#e6f5d0"
            ],
            [
             0.7,
             "#b8e186"
            ],
            [
             0.8,
             "#7fbc41"
            ],
            [
             0.9,
             "#4d9221"
            ],
            [
             1,
             "#276419"
            ]
           ],
           "sequential": [
            [
             0,
             "#0d0887"
            ],
            [
             0.1111111111111111,
             "#46039f"
            ],
            [
             0.2222222222222222,
             "#7201a8"
            ],
            [
             0.3333333333333333,
             "#9c179e"
            ],
            [
             0.4444444444444444,
             "#bd3786"
            ],
            [
             0.5555555555555556,
             "#d8576b"
            ],
            [
             0.6666666666666666,
             "#ed7953"
            ],
            [
             0.7777777777777778,
             "#fb9f3a"
            ],
            [
             0.8888888888888888,
             "#fdca26"
            ],
            [
             1,
             "#f0f921"
            ]
           ],
           "sequentialminus": [
            [
             0,
             "#0d0887"
            ],
            [
             0.1111111111111111,
             "#46039f"
            ],
            [
             0.2222222222222222,
             "#7201a8"
            ],
            [
             0.3333333333333333,
             "#9c179e"
            ],
            [
             0.4444444444444444,
             "#bd3786"
            ],
            [
             0.5555555555555556,
             "#d8576b"
            ],
            [
             0.6666666666666666,
             "#ed7953"
            ],
            [
             0.7777777777777778,
             "#fb9f3a"
            ],
            [
             0.8888888888888888,
             "#fdca26"
            ],
            [
             1,
             "#f0f921"
            ]
           ]
          },
          "colorway": [
           "#636efa",
           "#EF553B",
           "#00cc96",
           "#ab63fa",
           "#FFA15A",
           "#19d3f3",
           "#FF6692",
           "#B6E880",
           "#FF97FF",
           "#FECB52"
          ],
          "font": {
           "color": "#2a3f5f"
          },
          "geo": {
           "bgcolor": "white",
           "lakecolor": "white",
           "landcolor": "#E5ECF6",
           "showlakes": true,
           "showland": true,
           "subunitcolor": "white"
          },
          "hoverlabel": {
           "align": "left"
          },
          "hovermode": "closest",
          "mapbox": {
           "style": "light"
          },
          "paper_bgcolor": "white",
          "plot_bgcolor": "#E5ECF6",
          "polar": {
           "angularaxis": {
            "gridcolor": "white",
            "linecolor": "white",
            "ticks": ""
           },
           "bgcolor": "#E5ECF6",
           "radialaxis": {
            "gridcolor": "white",
            "linecolor": "white",
            "ticks": ""
           }
          },
          "scene": {
           "xaxis": {
            "backgroundcolor": "#E5ECF6",
            "gridcolor": "white",
            "gridwidth": 2,
            "linecolor": "white",
            "showbackground": true,
            "ticks": "",
            "zerolinecolor": "white"
           },
           "yaxis": {
            "backgroundcolor": "#E5ECF6",
            "gridcolor": "white",
            "gridwidth": 2,
            "linecolor": "white",
            "showbackground": true,
            "ticks": "",
            "zerolinecolor": "white"
           },
           "zaxis": {
            "backgroundcolor": "#E5ECF6",
            "gridcolor": "white",
            "gridwidth": 2,
            "linecolor": "white",
            "showbackground": true,
            "ticks": "",
            "zerolinecolor": "white"
           }
          },
          "shapedefaults": {
           "line": {
            "color": "#2a3f5f"
           }
          },
          "ternary": {
           "aaxis": {
            "gridcolor": "white",
            "linecolor": "white",
            "ticks": ""
           },
           "baxis": {
            "gridcolor": "white",
            "linecolor": "white",
            "ticks": ""
           },
           "bgcolor": "#E5ECF6",
           "caxis": {
            "gridcolor": "white",
            "linecolor": "white",
            "ticks": ""
           }
          },
          "title": {
           "x": 0.05
          },
          "xaxis": {
           "automargin": true,
           "gridcolor": "white",
           "linecolor": "white",
           "ticks": "",
           "title": {
            "standoff": 15
           },
           "zerolinecolor": "white",
           "zerolinewidth": 2
          },
          "yaxis": {
           "automargin": true,
           "gridcolor": "white",
           "linecolor": "white",
           "ticks": "",
           "title": {
            "standoff": 15
           },
           "zerolinecolor": "white",
           "zerolinewidth": 2
          }
         }
        },
        "width": 1000,
        "xaxis": {
         "anchor": "y",
         "domain": [
          0,
          1
         ],
         "gridcolor": "LightGrey",
         "showgrid": false,
         "showline": true,
         "tickfont": {
          "family": "Josefin Sans Bold",
          "size": 20
         },
         "title": {
          "text": ""
         }
        },
        "yaxis": {
         "anchor": "x",
         "domain": [
          0,
          1
         ],
         "gridcolor": "LightGrey",
         "nticks": 20,
         "showgrid": true,
         "showline": true,
         "tickfont": {
          "family": "Josefin Sans Bold",
          "size": 20
         },
         "title": {
          "text": "Prazo Médio de Estoques (dias)"
         }
        }
       }
      }
     },
     "metadata": {},
     "output_type": "display_data"
    }
   ],
   "source": [
    "empresas = [\n",
    "    \"Lojas Renner\",\n",
    "    \"Riachuelo\",\n",
    "    \"Marisa\",\n",
    "    \"C&A\",\n",
    "    \"Arezzo\",\n",
    "    \"Grupo SOMA\",\n",
    "    \"Le Lis Blanc\",\n",
    "]\n",
    "\n",
    "estoques = financas.loc[\n",
    "    (financas[\"consolidado\"] >= \"2010-01-01\") & financas[\"empresa\"].isin(empresas)\n",
    "]\n",
    "\n",
    "fig = px.line(\n",
    "    estoques,\n",
    "    x=\"consolidado\",\n",
    "    y=\"prazo med estoques(dias)\",\n",
    "    color=\"empresa\",\n",
    "    height=800,\n",
    "    width=1000,\n",
    "    markers=False,\n",
    ")\n",
    "\n",
    "xaxis_attribs = dict(\n",
    "    showline=True,\n",
    "    showgrid=False,\n",
    "    tickfont=dict(family=\"Josefin Sans Bold\", size=20),\n",
    "    gridcolor=\"LightGrey\",\n",
    ")\n",
    "\n",
    "yaxis_attribs = dict(\n",
    "    showline=True,\n",
    "    showgrid=True,\n",
    "    tickfont=dict(family=\"Josefin Sans Bold\", size=20),\n",
    "    nticks=20,\n",
    "    gridcolor=\"LightGrey\",\n",
    ")\n",
    "\n",
    "legend_attribs = dict(\n",
    "    yanchor=\"top\",\n",
    "    xanchor=\"left\",\n",
    "    y=0.99,\n",
    "    x=0.01,\n",
    "    title_font_family=\"Josefin Sans Bold\",\n",
    "    font=dict(family=\"Josefin Sans Bold\", size=20),\n",
    ")\n",
    "\n",
    "fig.update_layout(\n",
    "    xaxis_title=\"\",\n",
    "    yaxis_title=\"Prazo Médio de Estoques (dias)\",\n",
    "    plot_bgcolor=\"white\",\n",
    "    legend_title_text=\"Empresa\",\n",
    "    xaxis=xaxis_attribs,\n",
    "    yaxis=yaxis_attribs,\n",
    "    legend=legend_attribs,\n",
    ")\n",
    "fig.update_traces(line=dict(width=3))\n",
    "\n",
    "fig.show()"
   ]
  },
  {
   "cell_type": "markdown",
   "metadata": {},
   "source": [
    "#### Pesquisa Mensal do Comércio - Receita\n",
    "***"
   ]
  },
  {
   "cell_type": "code",
   "execution_count": 51,
   "metadata": {},
   "outputs": [
    {
     "data": {
      "application/vnd.plotly.v1+json": {
       "config": {
        "plotlyServerURL": "https://plot.ly"
       },
       "data": [
        {
         "hovertemplate": "variable=Receita - PMC - Total<br>periodo=%{x}<br>value=%{y}<extra></extra>",
         "legendgroup": "Receita - PMC - Total",
         "line": {
          "color": "#636efa",
          "dash": "solid",
          "width": 3
         },
         "marker": {
          "symbol": "circle"
         },
         "mode": "lines",
         "name": "Receita - PMC - Total",
         "orientation": "v",
         "showlegend": true,
         "type": "scatter",
         "x": [
          "2017-01-01T00:00:00",
          "2017-02-01T00:00:00",
          "2017-03-01T00:00:00",
          "2017-04-01T00:00:00",
          "2017-05-01T00:00:00",
          "2017-06-01T00:00:00",
          "2017-07-01T00:00:00",
          "2017-08-01T00:00:00",
          "2017-09-01T00:00:00",
          "2017-10-01T00:00:00",
          "2017-11-01T00:00:00",
          "2017-12-01T00:00:00",
          "2018-01-01T00:00:00",
          "2018-02-01T00:00:00",
          "2018-03-01T00:00:00",
          "2018-04-01T00:00:00",
          "2018-05-01T00:00:00",
          "2018-06-01T00:00:00",
          "2018-07-01T00:00:00",
          "2018-08-01T00:00:00",
          "2018-09-01T00:00:00",
          "2018-10-01T00:00:00",
          "2018-11-01T00:00:00",
          "2018-12-01T00:00:00",
          "2019-01-01T00:00:00",
          "2019-02-01T00:00:00",
          "2019-03-01T00:00:00",
          "2019-04-01T00:00:00",
          "2019-05-01T00:00:00",
          "2019-06-01T00:00:00",
          "2019-07-01T00:00:00",
          "2019-08-01T00:00:00",
          "2019-09-01T00:00:00",
          "2019-10-01T00:00:00",
          "2019-11-01T00:00:00",
          "2019-12-01T00:00:00",
          "2020-01-01T00:00:00",
          "2020-02-01T00:00:00",
          "2020-03-01T00:00:00",
          "2020-04-01T00:00:00",
          "2020-05-01T00:00:00",
          "2020-06-01T00:00:00",
          "2020-07-01T00:00:00",
          "2020-08-01T00:00:00",
          "2020-09-01T00:00:00",
          "2020-10-01T00:00:00",
          "2020-11-01T00:00:00",
          "2020-12-01T00:00:00",
          "2021-01-01T00:00:00",
          "2021-02-01T00:00:00",
          "2021-03-01T00:00:00",
          "2021-04-01T00:00:00",
          "2021-05-01T00:00:00",
          "2021-06-01T00:00:00",
          "2021-07-01T00:00:00",
          "2021-08-01T00:00:00",
          "2021-09-01T00:00:00",
          "2021-10-01T00:00:00",
          "2021-11-01T00:00:00",
          "2021-12-01T00:00:00"
         ],
         "xaxis": "x",
         "y": [
          107.01073,
          98.41732,
          105.73195,
          105.93691,
          108.06802,
          106.02057,
          107.7428,
          108.3626,
          107.25094,
          109.30736,
          116.44954,
          143.44428,
          110.50323,
          100.14933,
          114.87633,
          107.35201,
          112.46754,
          111.83906,
          110.88363,
          116.56207,
          111.74955,
          116.73098,
          126.38708,
          149.08368,
          115.74179,
          107.71242,
          115.12002,
          115.11722,
          118.98231,
          114.94754,
          118.23086,
          121.1352,
          115.81244,
          122.76759,
          132.90489,
          158.91247,
          122.32249,
          117.08203,
          118.23607,
          98.97325,
          112.67989,
          118.04032,
          128.60868,
          133.36869,
          131.3344,
          142.46685,
          148.40204,
          173.62821,
          132.90823,
          124.08321,
          134.36255,
          134.63493,
          146.21732,
          141.93141,
          153.94509,
          146.62695,
          142.67922,
          151.69203,
          161.49762,
          189.0386
         ],
         "yaxis": "y"
        },
        {
         "hovertemplate": "variable=Receita - Tecidos, Vestuário e Calçados<br>periodo=%{x}<br>value=%{y}<extra></extra>",
         "legendgroup": "Receita - Tecidos, Vestuário e Calçados",
         "line": {
          "color": "#EF553B",
          "dash": "solid",
          "width": 3
         },
         "marker": {
          "symbol": "circle"
         },
         "mode": "lines",
         "name": "Receita - Tecidos, Vestuário e Calçados",
         "orientation": "v",
         "showlegend": true,
         "type": "scatter",
         "x": [
          "2017-01-01T00:00:00",
          "2017-02-01T00:00:00",
          "2017-03-01T00:00:00",
          "2017-04-01T00:00:00",
          "2017-05-01T00:00:00",
          "2017-06-01T00:00:00",
          "2017-07-01T00:00:00",
          "2017-08-01T00:00:00",
          "2017-09-01T00:00:00",
          "2017-10-01T00:00:00",
          "2017-11-01T00:00:00",
          "2017-12-01T00:00:00",
          "2018-01-01T00:00:00",
          "2018-02-01T00:00:00",
          "2018-03-01T00:00:00",
          "2018-04-01T00:00:00",
          "2018-05-01T00:00:00",
          "2018-06-01T00:00:00",
          "2018-07-01T00:00:00",
          "2018-08-01T00:00:00",
          "2018-09-01T00:00:00",
          "2018-10-01T00:00:00",
          "2018-11-01T00:00:00",
          "2018-12-01T00:00:00",
          "2019-01-01T00:00:00",
          "2019-02-01T00:00:00",
          "2019-03-01T00:00:00",
          "2019-04-01T00:00:00",
          "2019-05-01T00:00:00",
          "2019-06-01T00:00:00",
          "2019-07-01T00:00:00",
          "2019-08-01T00:00:00",
          "2019-09-01T00:00:00",
          "2019-10-01T00:00:00",
          "2019-11-01T00:00:00",
          "2019-12-01T00:00:00",
          "2020-01-01T00:00:00",
          "2020-02-01T00:00:00",
          "2020-03-01T00:00:00",
          "2020-04-01T00:00:00",
          "2020-05-01T00:00:00",
          "2020-06-01T00:00:00",
          "2020-07-01T00:00:00",
          "2020-08-01T00:00:00",
          "2020-09-01T00:00:00",
          "2020-10-01T00:00:00",
          "2020-11-01T00:00:00",
          "2020-12-01T00:00:00",
          "2021-01-01T00:00:00",
          "2021-02-01T00:00:00",
          "2021-03-01T00:00:00",
          "2021-04-01T00:00:00",
          "2021-05-01T00:00:00",
          "2021-06-01T00:00:00",
          "2021-07-01T00:00:00",
          "2021-08-01T00:00:00",
          "2021-09-01T00:00:00",
          "2021-10-01T00:00:00",
          "2021-11-01T00:00:00",
          "2021-12-01T00:00:00"
         ],
         "xaxis": "x",
         "y": [
          79.61679,
          70.02227,
          83.69133,
          88.70448,
          101.53309,
          103.98842,
          100.05318,
          92.29195,
          85.6315,
          87.74168,
          99.68047,
          185.44439,
          81.91771,
          68.32155,
          85.40353,
          84.82244,
          100.31392,
          102.84152,
          93.3489,
          96.56944,
          87.88161,
          92.36115,
          105.39662,
          184.77562,
          81.26514,
          76.20117,
          81.98069,
          82.39841,
          98.96109,
          101.86534,
          100.35274,
          94.31048,
          87.55883,
          95.84775,
          109.58899,
          185.96418,
          84.55141,
          77.47375,
          49.8309,
          15.88983,
          36.7997,
          57.09852,
          68.76088,
          86.76154,
          80.06862,
          92.14781,
          103.94065,
          166.83299,
          66.3371,
          63.35191,
          42.74539,
          64.46607,
          99.93598,
          95.49541,
          102.32044,
          93.54638,
          85.59436,
          97.14768,
          107.64123,
          181.7624
         ],
         "yaxis": "y"
        }
       ],
       "layout": {
        "font": {
         "family": "Josefin Sans Bold",
         "size": 20
        },
        "height": 800,
        "legend": {
         "font": {
          "family": "Josefin Sans Bold",
          "size": 20
         },
         "title": {
          "font": {
           "family": "Josefin Sans Bold"
          },
          "text": ""
         },
         "tracegroupgap": 0,
         "x": 0.01,
         "xanchor": "left",
         "y": 0.05,
         "yanchor": "bottom"
        },
        "margin": {
         "t": 60
        },
        "plot_bgcolor": "white",
        "template": {
         "data": {
          "bar": [
           {
            "error_x": {
             "color": "#2a3f5f"
            },
            "error_y": {
             "color": "#2a3f5f"
            },
            "marker": {
             "line": {
              "color": "#E5ECF6",
              "width": 0.5
             },
             "pattern": {
              "fillmode": "overlay",
              "size": 10,
              "solidity": 0.2
             }
            },
            "type": "bar"
           }
          ],
          "barpolar": [
           {
            "marker": {
             "line": {
              "color": "#E5ECF6",
              "width": 0.5
             },
             "pattern": {
              "fillmode": "overlay",
              "size": 10,
              "solidity": 0.2
             }
            },
            "type": "barpolar"
           }
          ],
          "carpet": [
           {
            "aaxis": {
             "endlinecolor": "#2a3f5f",
             "gridcolor": "white",
             "linecolor": "white",
             "minorgridcolor": "white",
             "startlinecolor": "#2a3f5f"
            },
            "baxis": {
             "endlinecolor": "#2a3f5f",
             "gridcolor": "white",
             "linecolor": "white",
             "minorgridcolor": "white",
             "startlinecolor": "#2a3f5f"
            },
            "type": "carpet"
           }
          ],
          "choropleth": [
           {
            "colorbar": {
             "outlinewidth": 0,
             "ticks": ""
            },
            "type": "choropleth"
           }
          ],
          "contour": [
           {
            "colorbar": {
             "outlinewidth": 0,
             "ticks": ""
            },
            "colorscale": [
             [
              0,
              "#0d0887"
             ],
             [
              0.1111111111111111,
              "#46039f"
             ],
             [
              0.2222222222222222,
              "#7201a8"
             ],
             [
              0.3333333333333333,
              "#9c179e"
             ],
             [
              0.4444444444444444,
              "#bd3786"
             ],
             [
              0.5555555555555556,
              "#d8576b"
             ],
             [
              0.6666666666666666,
              "#ed7953"
             ],
             [
              0.7777777777777778,
              "#fb9f3a"
             ],
             [
              0.8888888888888888,
              "#fdca26"
             ],
             [
              1,
              "#f0f921"
             ]
            ],
            "type": "contour"
           }
          ],
          "contourcarpet": [
           {
            "colorbar": {
             "outlinewidth": 0,
             "ticks": ""
            },
            "type": "contourcarpet"
           }
          ],
          "heatmap": [
           {
            "colorbar": {
             "outlinewidth": 0,
             "ticks": ""
            },
            "colorscale": [
             [
              0,
              "#0d0887"
             ],
             [
              0.1111111111111111,
              "#46039f"
             ],
             [
              0.2222222222222222,
              "#7201a8"
             ],
             [
              0.3333333333333333,
              "#9c179e"
             ],
             [
              0.4444444444444444,
              "#bd3786"
             ],
             [
              0.5555555555555556,
              "#d8576b"
             ],
             [
              0.6666666666666666,
              "#ed7953"
             ],
             [
              0.7777777777777778,
              "#fb9f3a"
             ],
             [
              0.8888888888888888,
              "#fdca26"
             ],
             [
              1,
              "#f0f921"
             ]
            ],
            "type": "heatmap"
           }
          ],
          "heatmapgl": [
           {
            "colorbar": {
             "outlinewidth": 0,
             "ticks": ""
            },
            "colorscale": [
             [
              0,
              "#0d0887"
             ],
             [
              0.1111111111111111,
              "#46039f"
             ],
             [
              0.2222222222222222,
              "#7201a8"
             ],
             [
              0.3333333333333333,
              "#9c179e"
             ],
             [
              0.4444444444444444,
              "#bd3786"
             ],
             [
              0.5555555555555556,
              "#d8576b"
             ],
             [
              0.6666666666666666,
              "#ed7953"
             ],
             [
              0.7777777777777778,
              "#fb9f3a"
             ],
             [
              0.8888888888888888,
              "#fdca26"
             ],
             [
              1,
              "#f0f921"
             ]
            ],
            "type": "heatmapgl"
           }
          ],
          "histogram": [
           {
            "marker": {
             "pattern": {
              "fillmode": "overlay",
              "size": 10,
              "solidity": 0.2
             }
            },
            "type": "histogram"
           }
          ],
          "histogram2d": [
           {
            "colorbar": {
             "outlinewidth": 0,
             "ticks": ""
            },
            "colorscale": [
             [
              0,
              "#0d0887"
             ],
             [
              0.1111111111111111,
              "#46039f"
             ],
             [
              0.2222222222222222,
              "#7201a8"
             ],
             [
              0.3333333333333333,
              "#9c179e"
             ],
             [
              0.4444444444444444,
              "#bd3786"
             ],
             [
              0.5555555555555556,
              "#d8576b"
             ],
             [
              0.6666666666666666,
              "#ed7953"
             ],
             [
              0.7777777777777778,
              "#fb9f3a"
             ],
             [
              0.8888888888888888,
              "#fdca26"
             ],
             [
              1,
              "#f0f921"
             ]
            ],
            "type": "histogram2d"
           }
          ],
          "histogram2dcontour": [
           {
            "colorbar": {
             "outlinewidth": 0,
             "ticks": ""
            },
            "colorscale": [
             [
              0,
              "#0d0887"
             ],
             [
              0.1111111111111111,
              "#46039f"
             ],
             [
              0.2222222222222222,
              "#7201a8"
             ],
             [
              0.3333333333333333,
              "#9c179e"
             ],
             [
              0.4444444444444444,
              "#bd3786"
             ],
             [
              0.5555555555555556,
              "#d8576b"
             ],
             [
              0.6666666666666666,
              "#ed7953"
             ],
             [
              0.7777777777777778,
              "#fb9f3a"
             ],
             [
              0.8888888888888888,
              "#fdca26"
             ],
             [
              1,
              "#f0f921"
             ]
            ],
            "type": "histogram2dcontour"
           }
          ],
          "mesh3d": [
           {
            "colorbar": {
             "outlinewidth": 0,
             "ticks": ""
            },
            "type": "mesh3d"
           }
          ],
          "parcoords": [
           {
            "line": {
             "colorbar": {
              "outlinewidth": 0,
              "ticks": ""
             }
            },
            "type": "parcoords"
           }
          ],
          "pie": [
           {
            "automargin": true,
            "type": "pie"
           }
          ],
          "scatter": [
           {
            "fillpattern": {
             "fillmode": "overlay",
             "size": 10,
             "solidity": 0.2
            },
            "type": "scatter"
           }
          ],
          "scatter3d": [
           {
            "line": {
             "colorbar": {
              "outlinewidth": 0,
              "ticks": ""
             }
            },
            "marker": {
             "colorbar": {
              "outlinewidth": 0,
              "ticks": ""
             }
            },
            "type": "scatter3d"
           }
          ],
          "scattercarpet": [
           {
            "marker": {
             "colorbar": {
              "outlinewidth": 0,
              "ticks": ""
             }
            },
            "type": "scattercarpet"
           }
          ],
          "scattergeo": [
           {
            "marker": {
             "colorbar": {
              "outlinewidth": 0,
              "ticks": ""
             }
            },
            "type": "scattergeo"
           }
          ],
          "scattergl": [
           {
            "marker": {
             "colorbar": {
              "outlinewidth": 0,
              "ticks": ""
             }
            },
            "type": "scattergl"
           }
          ],
          "scattermapbox": [
           {
            "marker": {
             "colorbar": {
              "outlinewidth": 0,
              "ticks": ""
             }
            },
            "type": "scattermapbox"
           }
          ],
          "scatterpolar": [
           {
            "marker": {
             "colorbar": {
              "outlinewidth": 0,
              "ticks": ""
             }
            },
            "type": "scatterpolar"
           }
          ],
          "scatterpolargl": [
           {
            "marker": {
             "colorbar": {
              "outlinewidth": 0,
              "ticks": ""
             }
            },
            "type": "scatterpolargl"
           }
          ],
          "scatterternary": [
           {
            "marker": {
             "colorbar": {
              "outlinewidth": 0,
              "ticks": ""
             }
            },
            "type": "scatterternary"
           }
          ],
          "surface": [
           {
            "colorbar": {
             "outlinewidth": 0,
             "ticks": ""
            },
            "colorscale": [
             [
              0,
              "#0d0887"
             ],
             [
              0.1111111111111111,
              "#46039f"
             ],
             [
              0.2222222222222222,
              "#7201a8"
             ],
             [
              0.3333333333333333,
              "#9c179e"
             ],
             [
              0.4444444444444444,
              "#bd3786"
             ],
             [
              0.5555555555555556,
              "#d8576b"
             ],
             [
              0.6666666666666666,
              "#ed7953"
             ],
             [
              0.7777777777777778,
              "#fb9f3a"
             ],
             [
              0.8888888888888888,
              "#fdca26"
             ],
             [
              1,
              "#f0f921"
             ]
            ],
            "type": "surface"
           }
          ],
          "table": [
           {
            "cells": {
             "fill": {
              "color": "#EBF0F8"
             },
             "line": {
              "color": "white"
             }
            },
            "header": {
             "fill": {
              "color": "#C8D4E3"
             },
             "line": {
              "color": "white"
             }
            },
            "type": "table"
           }
          ]
         },
         "layout": {
          "annotationdefaults": {
           "arrowcolor": "#2a3f5f",
           "arrowhead": 0,
           "arrowwidth": 1
          },
          "autotypenumbers": "strict",
          "coloraxis": {
           "colorbar": {
            "outlinewidth": 0,
            "ticks": ""
           }
          },
          "colorscale": {
           "diverging": [
            [
             0,
             "#8e0152"
            ],
            [
             0.1,
             "#c51b7d"
            ],
            [
             0.2,
             "#de77ae"
            ],
            [
             0.3,
             "#f1b6da"
            ],
            [
             0.4,
             "#fde0ef"
            ],
            [
             0.5,
             "#f7f7f7"
            ],
            [
             0.6,
             "#e6f5d0"
            ],
            [
             0.7,
             "#b8e186"
            ],
            [
             0.8,
             "#7fbc41"
            ],
            [
             0.9,
             "#4d9221"
            ],
            [
             1,
             "#276419"
            ]
           ],
           "sequential": [
            [
             0,
             "#0d0887"
            ],
            [
             0.1111111111111111,
             "#46039f"
            ],
            [
             0.2222222222222222,
             "#7201a8"
            ],
            [
             0.3333333333333333,
             "#9c179e"
            ],
            [
             0.4444444444444444,
             "#bd3786"
            ],
            [
             0.5555555555555556,
             "#d8576b"
            ],
            [
             0.6666666666666666,
             "#ed7953"
            ],
            [
             0.7777777777777778,
             "#fb9f3a"
            ],
            [
             0.8888888888888888,
             "#fdca26"
            ],
            [
             1,
             "#f0f921"
            ]
           ],
           "sequentialminus": [
            [
             0,
             "#0d0887"
            ],
            [
             0.1111111111111111,
             "#46039f"
            ],
            [
             0.2222222222222222,
             "#7201a8"
            ],
            [
             0.3333333333333333,
             "#9c179e"
            ],
            [
             0.4444444444444444,
             "#bd3786"
            ],
            [
             0.5555555555555556,
             "#d8576b"
            ],
            [
             0.6666666666666666,
             "#ed7953"
            ],
            [
             0.7777777777777778,
             "#fb9f3a"
            ],
            [
             0.8888888888888888,
             "#fdca26"
            ],
            [
             1,
             "#f0f921"
            ]
           ]
          },
          "colorway": [
           "#636efa",
           "#EF553B",
           "#00cc96",
           "#ab63fa",
           "#FFA15A",
           "#19d3f3",
           "#FF6692",
           "#B6E880",
           "#FF97FF",
           "#FECB52"
          ],
          "font": {
           "color": "#2a3f5f"
          },
          "geo": {
           "bgcolor": "white",
           "lakecolor": "white",
           "landcolor": "#E5ECF6",
           "showlakes": true,
           "showland": true,
           "subunitcolor": "white"
          },
          "hoverlabel": {
           "align": "left"
          },
          "hovermode": "closest",
          "mapbox": {
           "style": "light"
          },
          "paper_bgcolor": "white",
          "plot_bgcolor": "#E5ECF6",
          "polar": {
           "angularaxis": {
            "gridcolor": "white",
            "linecolor": "white",
            "ticks": ""
           },
           "bgcolor": "#E5ECF6",
           "radialaxis": {
            "gridcolor": "white",
            "linecolor": "white",
            "ticks": ""
           }
          },
          "scene": {
           "xaxis": {
            "backgroundcolor": "#E5ECF6",
            "gridcolor": "white",
            "gridwidth": 2,
            "linecolor": "white",
            "showbackground": true,
            "ticks": "",
            "zerolinecolor": "white"
           },
           "yaxis": {
            "backgroundcolor": "#E5ECF6",
            "gridcolor": "white",
            "gridwidth": 2,
            "linecolor": "white",
            "showbackground": true,
            "ticks": "",
            "zerolinecolor": "white"
           },
           "zaxis": {
            "backgroundcolor": "#E5ECF6",
            "gridcolor": "white",
            "gridwidth": 2,
            "linecolor": "white",
            "showbackground": true,
            "ticks": "",
            "zerolinecolor": "white"
           }
          },
          "shapedefaults": {
           "line": {
            "color": "#2a3f5f"
           }
          },
          "ternary": {
           "aaxis": {
            "gridcolor": "white",
            "linecolor": "white",
            "ticks": ""
           },
           "baxis": {
            "gridcolor": "white",
            "linecolor": "white",
            "ticks": ""
           },
           "bgcolor": "#E5ECF6",
           "caxis": {
            "gridcolor": "white",
            "linecolor": "white",
            "ticks": ""
           }
          },
          "title": {
           "x": 0.05
          },
          "xaxis": {
           "automargin": true,
           "gridcolor": "white",
           "linecolor": "white",
           "ticks": "",
           "title": {
            "standoff": 15
           },
           "zerolinecolor": "white",
           "zerolinewidth": 2
          },
          "yaxis": {
           "automargin": true,
           "gridcolor": "white",
           "linecolor": "white",
           "ticks": "",
           "title": {
            "standoff": 15
           },
           "zerolinecolor": "white",
           "zerolinewidth": 2
          }
         }
        },
        "width": 1500,
        "xaxis": {
         "anchor": "y",
         "domain": [
          0,
          1
         ],
         "gridcolor": "LightGrey",
         "showgrid": false,
         "showline": true,
         "tickfont": {
          "family": "Josefin Sans Bold",
          "size": 20
         },
         "title": {
          "text": ""
         }
        },
        "yaxis": {
         "anchor": "x",
         "domain": [
          0,
          1
         ],
         "gridcolor": "LightGrey",
         "nticks": 15,
         "showgrid": true,
         "showline": true,
         "tickfont": {
          "family": "Josefin Sans Bold",
          "size": 20
         },
         "title": {
          "text": "Receita Dessazonalizada"
         }
        }
       }
      }
     },
     "metadata": {},
     "output_type": "display_data"
    }
   ],
   "source": [
    "empresas = [\n",
    "    \"Lojas Renner\",\n",
    "    \"Riachuelo\",\n",
    "    \"Marisa\",\n",
    "    \"C&A\",\n",
    "    \"Arezzo\",\n",
    "    \"Grupo SOMA\",\n",
    "    \"Le Lis Blanc\",\n",
    "]\n",
    "\n",
    "tempo_relevante_comercio = comercio.loc[(comercio[\"periodo\"] >= \"2017-01-01\")]\n",
    "\n",
    "fig = px.line(\n",
    "    tempo_relevante_comercio,\n",
    "    x=\"periodo\",\n",
    "    y=[\"Receita - PMC - Total\", \"Receita - Tecidos, Vestuário e Calçados\"],\n",
    "    height=800,\n",
    "    width=1500,\n",
    "    markers=False,\n",
    ")\n",
    "\n",
    "\n",
    "xaxis_attribs = dict(\n",
    "    showline=True,\n",
    "    showgrid=False,\n",
    "    tickfont=dict(family=\"Josefin Sans Bold\", size=20),\n",
    "    gridcolor=\"LightGrey\",\n",
    ")\n",
    "yaxis_attribs = dict(\n",
    "    showline=True,\n",
    "    showgrid=True,\n",
    "    tickfont=dict(family=\"Josefin Sans Bold\", size=20),\n",
    "    nticks=15,\n",
    "    gridcolor=\"LightGrey\",\n",
    ")\n",
    "legend_attribs = dict(\n",
    "    yanchor=\"bottom\",\n",
    "    xanchor=\"left\",\n",
    "    y=0.05,\n",
    "    x=0.01,\n",
    "    title_font_family=\"Josefin Sans Bold\",\n",
    "    font=dict(family=\"Josefin Sans Bold\", size=20),\n",
    ")\n",
    "\n",
    "fig.update_layout(\n",
    "    xaxis_title=\"\",\n",
    "    yaxis_title=\"Receita Dessazonalizada\",\n",
    "    plot_bgcolor=\"white\",\n",
    "    legend_title_text=\"\",\n",
    "    xaxis=xaxis_attribs,\n",
    "    yaxis=yaxis_attribs,\n",
    "    legend=legend_attribs,\n",
    "    font=dict(family=\"Josefin Sans Bold\", size=20),\n",
    ")\n",
    "fig.update_traces(line=dict(width=3))\n",
    "\n",
    "fig.show()"
   ]
  },
  {
   "cell_type": "markdown",
   "metadata": {},
   "source": [
    "#### Preço das Ações\n",
    "***"
   ]
  },
  {
   "cell_type": "code",
   "execution_count": 52,
   "metadata": {},
   "outputs": [
    {
     "data": {
      "application/vnd.plotly.v1+json": {
       "config": {
        "plotlyServerURL": "https://plot.ly"
       },
       "data": [
        {
         "hovertemplate": "variable=Lojas Renner<br>periodo=%{x}<br>value=%{y}<extra></extra>",
         "legendgroup": "Lojas Renner",
         "line": {
          "color": "#636efa",
          "dash": "solid",
          "width": 3
         },
         "marker": {
          "symbol": "circle"
         },
         "mode": "lines",
         "name": "Lojas Renner",
         "orientation": "v",
         "showlegend": true,
         "type": "scatter",
         "x": [
          "2017-01-01T00:00:00",
          "2017-02-01T00:00:00",
          "2017-03-01T00:00:00",
          "2017-04-01T00:00:00",
          "2017-05-01T00:00:00",
          "2017-06-01T00:00:00",
          "2017-07-01T00:00:00",
          "2017-08-01T00:00:00",
          "2017-09-01T00:00:00",
          "2017-10-01T00:00:00",
          "2017-11-01T00:00:00",
          "2017-12-01T00:00:00",
          "2018-01-01T00:00:00",
          "2018-02-01T00:00:00",
          "2018-03-01T00:00:00",
          "2018-04-01T00:00:00",
          "2018-05-01T00:00:00",
          "2018-06-01T00:00:00",
          "2018-07-01T00:00:00",
          "2018-08-01T00:00:00",
          "2018-09-01T00:00:00",
          "2018-10-01T00:00:00",
          "2018-11-01T00:00:00",
          "2018-12-01T00:00:00",
          "2019-01-01T00:00:00",
          "2019-02-01T00:00:00",
          "2019-03-01T00:00:00",
          "2019-04-01T00:00:00",
          "2019-05-01T00:00:00",
          "2019-06-01T00:00:00",
          "2019-07-01T00:00:00",
          "2019-08-01T00:00:00",
          "2019-09-01T00:00:00",
          "2019-10-01T00:00:00",
          "2019-11-01T00:00:00",
          "2019-12-01T00:00:00",
          "2020-01-01T00:00:00",
          "2020-02-01T00:00:00",
          "2020-03-01T00:00:00",
          "2020-04-01T00:00:00",
          "2020-05-01T00:00:00",
          "2020-06-01T00:00:00",
          "2020-07-01T00:00:00",
          "2020-08-01T00:00:00",
          "2020-09-01T00:00:00",
          "2020-10-01T00:00:00",
          "2020-11-01T00:00:00",
          "2020-12-01T00:00:00",
          "2021-01-01T00:00:00",
          "2021-02-01T00:00:00",
          "2021-03-01T00:00:00",
          "2021-04-01T00:00:00",
          "2021-05-01T00:00:00",
          "2021-06-01T00:00:00",
          "2021-07-01T00:00:00",
          "2021-08-01T00:00:00",
          "2021-09-01T00:00:00",
          "2021-10-01T00:00:00",
          "2021-11-01T00:00:00",
          "2021-12-01T00:00:00"
         ],
         "xaxis": "x",
         "y": [
          20.94,
          22.79,
          24.25,
          23.78,
          24.69,
          26.42,
          27.59,
          32.52,
          31.09,
          30.6,
          32,
          34.14,
          31.13,
          30.98,
          29.41,
          26.75,
          26.48,
          27.85,
          25.5,
          27.95,
          33.91,
          35.26,
          38.24,
          41.03,
          39.03,
          39.5,
          42.28,
          43.69,
          46.78,
          47.08,
          50.15,
          50.07,
          50.34,
          51.39,
          55.74,
          56.99,
          52.87,
          33.29,
          38.08,
          38.24,
          41.46,
          40.8,
          43.12,
          39.33,
          37.15,
          44.32,
          43.19,
          37.4,
          33.06,
          38.41,
          36.72,
          42.54,
          40.2,
          37.54,
          34.59,
          31.29,
          29.29,
          28.45,
          24.54,
          28.12
         ],
         "yaxis": "y"
        },
        {
         "hovertemplate": "variable=Riachuelo<br>periodo=%{x}<br>value=%{y}<extra></extra>",
         "legendgroup": "Riachuelo",
         "line": {
          "color": "#EF553B",
          "dash": "solid",
          "width": 3
         },
         "marker": {
          "symbol": "circle"
         },
         "mode": "lines",
         "name": "Riachuelo",
         "orientation": "v",
         "showlegend": true,
         "type": "scatter",
         "x": [
          "2017-01-01T00:00:00",
          "2017-02-01T00:00:00",
          "2017-03-01T00:00:00",
          "2017-04-01T00:00:00",
          "2017-05-01T00:00:00",
          "2017-06-01T00:00:00",
          "2017-07-01T00:00:00",
          "2017-08-01T00:00:00",
          "2017-09-01T00:00:00",
          "2017-10-01T00:00:00",
          "2017-11-01T00:00:00",
          "2017-12-01T00:00:00",
          "2018-01-01T00:00:00",
          "2018-02-01T00:00:00",
          "2018-03-01T00:00:00",
          "2018-04-01T00:00:00",
          "2018-05-01T00:00:00",
          "2018-06-01T00:00:00",
          "2018-07-01T00:00:00",
          "2018-08-01T00:00:00",
          "2018-09-01T00:00:00",
          "2018-10-01T00:00:00",
          "2018-11-01T00:00:00",
          "2018-12-01T00:00:00",
          "2019-01-01T00:00:00",
          "2019-02-01T00:00:00",
          "2019-03-01T00:00:00",
          "2019-04-01T00:00:00",
          "2019-05-01T00:00:00",
          "2019-06-01T00:00:00",
          "2019-07-01T00:00:00",
          "2019-08-01T00:00:00",
          "2019-09-01T00:00:00",
          "2019-10-01T00:00:00",
          "2019-11-01T00:00:00",
          "2019-12-01T00:00:00",
          "2020-01-01T00:00:00",
          "2020-02-01T00:00:00",
          "2020-03-01T00:00:00",
          "2020-04-01T00:00:00",
          "2020-05-01T00:00:00",
          "2020-06-01T00:00:00",
          "2020-07-01T00:00:00",
          "2020-08-01T00:00:00",
          "2020-09-01T00:00:00",
          "2020-10-01T00:00:00",
          "2020-11-01T00:00:00",
          "2020-12-01T00:00:00",
          "2021-01-01T00:00:00",
          "2021-02-01T00:00:00",
          "2021-03-01T00:00:00",
          "2021-04-01T00:00:00",
          "2021-05-01T00:00:00",
          "2021-06-01T00:00:00",
          "2021-07-01T00:00:00",
          "2021-08-01T00:00:00",
          "2021-09-01T00:00:00",
          "2021-10-01T00:00:00",
          "2021-11-01T00:00:00",
          "2021-12-01T00:00:00"
         ],
         "xaxis": "x",
         "y": [
          9.5,
          9.275,
          11.188,
          11.881,
          11.832,
          13.111,
          15.797,
          18.75,
          19.562,
          18.282,
          18.754,
          19.736,
          19.687,
          18.815,
          17.125,
          13.588,
          11.801,
          11.968,
          13.131,
          13,
          16.625,
          20.733,
          20.322,
          19.628,
          18.267,
          18,
          18.011,
          15.6,
          16.18,
          19.49,
          21.1,
          20.389,
          19.94,
          20.28,
          24.2,
          29.02,
          27.5,
          10.91,
          12.75,
          13.31,
          17.66,
          17.85,
          17.5,
          13.94,
          13.62,
          16.42,
          14.91,
          14.95,
          12.3,
          13.71,
          16.78,
          19.79,
          20.83,
          17.62,
          15.41,
          13.53,
          10.95,
          10.2,
          9.94,
          12.74
         ],
         "yaxis": "y"
        },
        {
         "hovertemplate": "variable=Marisa<br>periodo=%{x}<br>value=%{y}<extra></extra>",
         "legendgroup": "Marisa",
         "line": {
          "color": "#00cc96",
          "dash": "solid",
          "width": 3
         },
         "marker": {
          "symbol": "circle"
         },
         "mode": "lines",
         "name": "Marisa",
         "orientation": "v",
         "showlegend": true,
         "type": "scatter",
         "x": [
          "2017-01-01T00:00:00",
          "2017-02-01T00:00:00",
          "2017-03-01T00:00:00",
          "2017-04-01T00:00:00",
          "2017-05-01T00:00:00",
          "2017-06-01T00:00:00",
          "2017-07-01T00:00:00",
          "2017-08-01T00:00:00",
          "2017-09-01T00:00:00",
          "2017-10-01T00:00:00",
          "2017-11-01T00:00:00",
          "2017-12-01T00:00:00",
          "2018-01-01T00:00:00",
          "2018-02-01T00:00:00",
          "2018-03-01T00:00:00",
          "2018-04-01T00:00:00",
          "2018-05-01T00:00:00",
          "2018-06-01T00:00:00",
          "2018-07-01T00:00:00",
          "2018-08-01T00:00:00",
          "2018-09-01T00:00:00",
          "2018-10-01T00:00:00",
          "2018-11-01T00:00:00",
          "2018-12-01T00:00:00",
          "2019-01-01T00:00:00",
          "2019-02-01T00:00:00",
          "2019-03-01T00:00:00",
          "2019-04-01T00:00:00",
          "2019-05-01T00:00:00",
          "2019-06-01T00:00:00",
          "2019-07-01T00:00:00",
          "2019-08-01T00:00:00",
          "2019-09-01T00:00:00",
          "2019-10-01T00:00:00",
          "2019-11-01T00:00:00",
          "2019-12-01T00:00:00",
          "2020-01-01T00:00:00",
          "2020-02-01T00:00:00",
          "2020-03-01T00:00:00",
          "2020-04-01T00:00:00",
          "2020-05-01T00:00:00",
          "2020-06-01T00:00:00",
          "2020-07-01T00:00:00",
          "2020-08-01T00:00:00",
          "2020-09-01T00:00:00",
          "2020-10-01T00:00:00",
          "2020-11-01T00:00:00",
          "2020-12-01T00:00:00",
          "2021-01-01T00:00:00",
          "2021-02-01T00:00:00",
          "2021-03-01T00:00:00",
          "2021-04-01T00:00:00",
          "2021-05-01T00:00:00",
          "2021-06-01T00:00:00",
          "2021-07-01T00:00:00",
          "2021-08-01T00:00:00",
          "2021-09-01T00:00:00",
          "2021-10-01T00:00:00",
          "2021-11-01T00:00:00",
          "2021-12-01T00:00:00"
         ],
         "xaxis": "x",
         "y": [
          6.91,
          7.48,
          8.35,
          6.53,
          5.13,
          5.9,
          7.13,
          9.38,
          7.85,
          7.1,
          7.25,
          8,
          7.09,
          6.6,
          5.89,
          4.72,
          3.84,
          4.43,
          4.08,
          4,
          5.2,
          5.65,
          5.19,
          6.25,
          6.16,
          6.43,
          8.05,
          6.01,
          7.85,
          8.46,
          8.71,
          9.5,
          10.71,
          11.45,
          13.28,
          13.41,
          13.72,
          4.6,
          6.57,
          7.59,
          8.35,
          8.16,
          8.44,
          6.95,
          6.17,
          6.71,
          6.81,
          6.26,
          5.07,
          5.4,
          5.36,
          7.72,
          9.26,
          7.73,
          6.65,
          5.21,
          4.11,
          3.3756,
          3.81,
          3.56
         ],
         "yaxis": "y"
        },
        {
         "hovertemplate": "variable=C&A<br>periodo=%{x}<br>value=%{y}<extra></extra>",
         "legendgroup": "C&A",
         "line": {
          "color": "#ab63fa",
          "dash": "solid",
          "width": 3
         },
         "marker": {
          "symbol": "circle"
         },
         "mode": "lines",
         "name": "C&A",
         "orientation": "v",
         "showlegend": true,
         "type": "scatter",
         "x": [
          "2017-01-01T00:00:00",
          "2017-02-01T00:00:00",
          "2017-03-01T00:00:00",
          "2017-04-01T00:00:00",
          "2017-05-01T00:00:00",
          "2017-06-01T00:00:00",
          "2017-07-01T00:00:00",
          "2017-08-01T00:00:00",
          "2017-09-01T00:00:00",
          "2017-10-01T00:00:00",
          "2017-11-01T00:00:00",
          "2017-12-01T00:00:00",
          "2018-01-01T00:00:00",
          "2018-02-01T00:00:00",
          "2018-03-01T00:00:00",
          "2018-04-01T00:00:00",
          "2018-05-01T00:00:00",
          "2018-06-01T00:00:00",
          "2018-07-01T00:00:00",
          "2018-08-01T00:00:00",
          "2018-09-01T00:00:00",
          "2018-10-01T00:00:00",
          "2018-11-01T00:00:00",
          "2018-12-01T00:00:00",
          "2019-01-01T00:00:00",
          "2019-02-01T00:00:00",
          "2019-03-01T00:00:00",
          "2019-04-01T00:00:00",
          "2019-05-01T00:00:00",
          "2019-06-01T00:00:00",
          "2019-07-01T00:00:00",
          "2019-08-01T00:00:00",
          "2019-09-01T00:00:00",
          "2019-10-01T00:00:00",
          "2019-11-01T00:00:00",
          "2019-12-01T00:00:00",
          "2020-01-01T00:00:00",
          "2020-02-01T00:00:00",
          "2020-03-01T00:00:00",
          "2020-04-01T00:00:00",
          "2020-05-01T00:00:00",
          "2020-06-01T00:00:00",
          "2020-07-01T00:00:00",
          "2020-08-01T00:00:00",
          "2020-09-01T00:00:00",
          "2020-10-01T00:00:00",
          "2020-11-01T00:00:00",
          "2020-12-01T00:00:00",
          "2021-01-01T00:00:00",
          "2021-02-01T00:00:00",
          "2021-03-01T00:00:00",
          "2021-04-01T00:00:00",
          "2021-05-01T00:00:00",
          "2021-06-01T00:00:00",
          "2021-07-01T00:00:00",
          "2021-08-01T00:00:00",
          "2021-09-01T00:00:00",
          "2021-10-01T00:00:00",
          "2021-11-01T00:00:00",
          "2021-12-01T00:00:00"
         ],
         "xaxis": "x",
         "y": [
          null,
          null,
          null,
          null,
          null,
          null,
          null,
          null,
          null,
          null,
          null,
          null,
          null,
          null,
          null,
          null,
          null,
          null,
          null,
          null,
          null,
          null,
          null,
          null,
          null,
          null,
          null,
          null,
          null,
          null,
          null,
          null,
          null,
          null,
          17.94,
          16,
          15.25,
          6.7,
          9.45,
          9.47,
          10.31,
          10.13,
          12.06,
          11.52,
          11.8,
          13.32,
          12.89,
          12.5,
          11.02,
          11.78,
          12.31,
          14.05,
          14.36,
          11.85,
          8.89,
          7.21,
          6.06,
          6.46,
          6.2,
          6.58
         ],
         "yaxis": "y"
        },
        {
         "hovertemplate": "variable=Arezzo<br>periodo=%{x}<br>value=%{y}<extra></extra>",
         "legendgroup": "Arezzo",
         "line": {
          "color": "#FFA15A",
          "dash": "solid",
          "width": 3
         },
         "marker": {
          "symbol": "circle"
         },
         "mode": "lines",
         "name": "Arezzo",
         "orientation": "v",
         "showlegend": true,
         "type": "scatter",
         "x": [
          "2017-01-01T00:00:00",
          "2017-02-01T00:00:00",
          "2017-03-01T00:00:00",
          "2017-04-01T00:00:00",
          "2017-05-01T00:00:00",
          "2017-06-01T00:00:00",
          "2017-07-01T00:00:00",
          "2017-08-01T00:00:00",
          "2017-09-01T00:00:00",
          "2017-10-01T00:00:00",
          "2017-11-01T00:00:00",
          "2017-12-01T00:00:00",
          "2018-01-01T00:00:00",
          "2018-02-01T00:00:00",
          "2018-03-01T00:00:00",
          "2018-04-01T00:00:00",
          "2018-05-01T00:00:00",
          "2018-06-01T00:00:00",
          "2018-07-01T00:00:00",
          "2018-08-01T00:00:00",
          "2018-09-01T00:00:00",
          "2018-10-01T00:00:00",
          "2018-11-01T00:00:00",
          "2018-12-01T00:00:00",
          "2019-01-01T00:00:00",
          "2019-02-01T00:00:00",
          "2019-03-01T00:00:00",
          "2019-04-01T00:00:00",
          "2019-05-01T00:00:00",
          "2019-06-01T00:00:00",
          "2019-07-01T00:00:00",
          "2019-08-01T00:00:00",
          "2019-09-01T00:00:00",
          "2019-10-01T00:00:00",
          "2019-11-01T00:00:00",
          "2019-12-01T00:00:00",
          "2020-01-01T00:00:00",
          "2020-02-01T00:00:00",
          "2020-03-01T00:00:00",
          "2020-04-01T00:00:00",
          "2020-05-01T00:00:00",
          "2020-06-01T00:00:00",
          "2020-07-01T00:00:00",
          "2020-08-01T00:00:00",
          "2020-09-01T00:00:00",
          "2020-10-01T00:00:00",
          "2020-11-01T00:00:00",
          "2020-12-01T00:00:00",
          "2021-01-01T00:00:00",
          "2021-02-01T00:00:00",
          "2021-03-01T00:00:00",
          "2021-04-01T00:00:00",
          "2021-05-01T00:00:00",
          "2021-06-01T00:00:00",
          "2021-07-01T00:00:00",
          "2021-08-01T00:00:00",
          "2021-09-01T00:00:00",
          "2021-10-01T00:00:00",
          "2021-11-01T00:00:00",
          "2021-12-01T00:00:00"
         ],
         "xaxis": "x",
         "y": [
          31.49,
          31.379,
          33.7,
          32.09,
          32.709,
          37,
          45.779,
          50,
          50.549,
          46.209,
          54.7,
          59.77,
          56.099,
          50.549,
          52.98,
          42.75,
          44.599,
          42.65,
          39.57,
          42.86,
          47.4,
          49.939,
          55.06,
          55,
          53.97,
          49.98,
          51,
          50.5,
          50.2,
          50.389,
          49.48,
          49.52,
          59.099,
          62.5,
          64,
          60.299,
          60.099,
          36.869,
          42.5,
          42.099,
          47.9,
          52.759,
          56.119,
          54.34,
          60.299,
          69.449,
          68.18,
          70.57,
          71.32,
          70.349,
          75.65,
          88.629,
          94.5,
          90.519,
          89.419,
          82.87,
          73.9,
          67.16,
          76.18,
          81.79
         ],
         "yaxis": "y"
        },
        {
         "hovertemplate": "variable=Grupo SOMA<br>periodo=%{x}<br>value=%{y}<extra></extra>",
         "legendgroup": "Grupo SOMA",
         "line": {
          "color": "#19d3f3",
          "dash": "solid",
          "width": 3
         },
         "marker": {
          "symbol": "circle"
         },
         "mode": "lines",
         "name": "Grupo SOMA",
         "orientation": "v",
         "showlegend": true,
         "type": "scatter",
         "x": [
          "2017-01-01T00:00:00",
          "2017-02-01T00:00:00",
          "2017-03-01T00:00:00",
          "2017-04-01T00:00:00",
          "2017-05-01T00:00:00",
          "2017-06-01T00:00:00",
          "2017-07-01T00:00:00",
          "2017-08-01T00:00:00",
          "2017-09-01T00:00:00",
          "2017-10-01T00:00:00",
          "2017-11-01T00:00:00",
          "2017-12-01T00:00:00",
          "2018-01-01T00:00:00",
          "2018-02-01T00:00:00",
          "2018-03-01T00:00:00",
          "2018-04-01T00:00:00",
          "2018-05-01T00:00:00",
          "2018-06-01T00:00:00",
          "2018-07-01T00:00:00",
          "2018-08-01T00:00:00",
          "2018-09-01T00:00:00",
          "2018-10-01T00:00:00",
          "2018-11-01T00:00:00",
          "2018-12-01T00:00:00",
          "2019-01-01T00:00:00",
          "2019-02-01T00:00:00",
          "2019-03-01T00:00:00",
          "2019-04-01T00:00:00",
          "2019-05-01T00:00:00",
          "2019-06-01T00:00:00",
          "2019-07-01T00:00:00",
          "2019-08-01T00:00:00",
          "2019-09-01T00:00:00",
          "2019-10-01T00:00:00",
          "2019-11-01T00:00:00",
          "2019-12-01T00:00:00",
          "2020-01-01T00:00:00",
          "2020-02-01T00:00:00",
          "2020-03-01T00:00:00",
          "2020-04-01T00:00:00",
          "2020-05-01T00:00:00",
          "2020-06-01T00:00:00",
          "2020-07-01T00:00:00",
          "2020-08-01T00:00:00",
          "2020-09-01T00:00:00",
          "2020-10-01T00:00:00",
          "2020-11-01T00:00:00",
          "2020-12-01T00:00:00",
          "2021-01-01T00:00:00",
          "2021-02-01T00:00:00",
          "2021-03-01T00:00:00",
          "2021-04-01T00:00:00",
          "2021-05-01T00:00:00",
          "2021-06-01T00:00:00",
          "2021-07-01T00:00:00",
          "2021-08-01T00:00:00",
          "2021-09-01T00:00:00",
          "2021-10-01T00:00:00",
          "2021-11-01T00:00:00",
          "2021-12-01T00:00:00"
         ],
         "xaxis": "x",
         "y": [
          null,
          null,
          null,
          null,
          null,
          null,
          null,
          null,
          null,
          null,
          null,
          null,
          null,
          null,
          null,
          null,
          null,
          null,
          null,
          null,
          null,
          null,
          null,
          null,
          null,
          null,
          null,
          null,
          null,
          null,
          null,
          null,
          null,
          null,
          null,
          null,
          null,
          null,
          null,
          null,
          null,
          null,
          10.62,
          9.75,
          9.71,
          12.91,
          13.39,
          14.97,
          13.41,
          14.69,
          12.12,
          15.19,
          15.94,
          17.549,
          17.61,
          16.95,
          13.12,
          13.02,
          12.67,
          14.5
         ],
         "yaxis": "y"
        },
        {
         "hovertemplate": "variable=Le Lis Blanc<br>periodo=%{x}<br>value=%{y}<extra></extra>",
         "legendgroup": "Le Lis Blanc",
         "line": {
          "color": "#FF6692",
          "dash": "solid",
          "width": 3
         },
         "marker": {
          "symbol": "circle"
         },
         "mode": "lines",
         "name": "Le Lis Blanc",
         "orientation": "v",
         "showlegend": true,
         "type": "scatter",
         "x": [
          "2017-01-01T00:00:00",
          "2017-02-01T00:00:00",
          "2017-03-01T00:00:00",
          "2017-04-01T00:00:00",
          "2017-05-01T00:00:00",
          "2017-06-01T00:00:00",
          "2017-07-01T00:00:00",
          "2017-08-01T00:00:00",
          "2017-09-01T00:00:00",
          "2017-10-01T00:00:00",
          "2017-11-01T00:00:00",
          "2017-12-01T00:00:00",
          "2018-01-01T00:00:00",
          "2018-02-01T00:00:00",
          "2018-03-01T00:00:00",
          "2018-04-01T00:00:00",
          "2018-05-01T00:00:00",
          "2018-06-01T00:00:00",
          "2018-07-01T00:00:00",
          "2018-08-01T00:00:00",
          "2018-09-01T00:00:00",
          "2018-10-01T00:00:00",
          "2018-11-01T00:00:00",
          "2018-12-01T00:00:00",
          "2019-01-01T00:00:00",
          "2019-02-01T00:00:00",
          "2019-03-01T00:00:00",
          "2019-04-01T00:00:00",
          "2019-05-01T00:00:00",
          "2019-06-01T00:00:00",
          "2019-07-01T00:00:00",
          "2019-08-01T00:00:00",
          "2019-09-01T00:00:00",
          "2019-10-01T00:00:00",
          "2019-11-01T00:00:00",
          "2019-12-01T00:00:00",
          "2020-01-01T00:00:00",
          "2020-02-01T00:00:00",
          "2020-03-01T00:00:00",
          "2020-04-01T00:00:00",
          "2020-05-01T00:00:00",
          "2020-06-01T00:00:00",
          "2020-07-01T00:00:00",
          "2020-08-01T00:00:00",
          "2020-09-01T00:00:00",
          "2020-10-01T00:00:00",
          "2020-11-01T00:00:00",
          "2020-12-01T00:00:00",
          "2021-01-01T00:00:00",
          "2021-02-01T00:00:00",
          "2021-03-01T00:00:00",
          "2021-04-01T00:00:00",
          "2021-05-01T00:00:00",
          "2021-06-01T00:00:00",
          "2021-07-01T00:00:00",
          "2021-08-01T00:00:00",
          "2021-09-01T00:00:00",
          "2021-10-01T00:00:00",
          "2021-11-01T00:00:00",
          "2021-12-01T00:00:00"
         ],
         "xaxis": "x",
         "y": [
          32.69,
          31.15,
          32.2,
          30.52,
          33.7,
          37,
          40.259,
          40.599,
          43.84,
          39.9,
          32.5,
          31,
          30.4,
          31.299,
          30.48,
          24,
          23.84,
          26.15,
          26.6,
          25.799,
          29.549,
          27.799,
          26.799,
          35.25,
          33.009,
          32,
          29.51,
          24.5,
          24.5,
          20.6,
          22,
          21.1,
          20.48,
          15.85,
          17,
          17,
          15.18,
          5.91,
          6.09,
          5.75,
          6.9,
          5.57,
          5.25,
          4.92,
          4.05,
          4.8,
          4.95,
          4.44,
          4.16,
          4.11,
          4.35,
          3.95,
          4.24,
          3.88,
          2.77,
          2.14,
          1.9,
          1.27,
          1.32,
          1.72
         ],
         "yaxis": "y"
        }
       ],
       "layout": {
        "font": {
         "family": "Josefin Sans Bold",
         "size": 20
        },
        "height": 800,
        "legend": {
         "font": {
          "family": "Josefin Sans Bold",
          "size": 20
         },
         "title": {
          "font": {
           "family": "Josefin Sans Bold"
          },
          "text": ""
         },
         "tracegroupgap": 0,
         "x": 0.01,
         "xanchor": "left",
         "y": 0.99,
         "yanchor": "top"
        },
        "margin": {
         "t": 60
        },
        "plot_bgcolor": "white",
        "template": {
         "data": {
          "bar": [
           {
            "error_x": {
             "color": "#2a3f5f"
            },
            "error_y": {
             "color": "#2a3f5f"
            },
            "marker": {
             "line": {
              "color": "#E5ECF6",
              "width": 0.5
             },
             "pattern": {
              "fillmode": "overlay",
              "size": 10,
              "solidity": 0.2
             }
            },
            "type": "bar"
           }
          ],
          "barpolar": [
           {
            "marker": {
             "line": {
              "color": "#E5ECF6",
              "width": 0.5
             },
             "pattern": {
              "fillmode": "overlay",
              "size": 10,
              "solidity": 0.2
             }
            },
            "type": "barpolar"
           }
          ],
          "carpet": [
           {
            "aaxis": {
             "endlinecolor": "#2a3f5f",
             "gridcolor": "white",
             "linecolor": "white",
             "minorgridcolor": "white",
             "startlinecolor": "#2a3f5f"
            },
            "baxis": {
             "endlinecolor": "#2a3f5f",
             "gridcolor": "white",
             "linecolor": "white",
             "minorgridcolor": "white",
             "startlinecolor": "#2a3f5f"
            },
            "type": "carpet"
           }
          ],
          "choropleth": [
           {
            "colorbar": {
             "outlinewidth": 0,
             "ticks": ""
            },
            "type": "choropleth"
           }
          ],
          "contour": [
           {
            "colorbar": {
             "outlinewidth": 0,
             "ticks": ""
            },
            "colorscale": [
             [
              0,
              "#0d0887"
             ],
             [
              0.1111111111111111,
              "#46039f"
             ],
             [
              0.2222222222222222,
              "#7201a8"
             ],
             [
              0.3333333333333333,
              "#9c179e"
             ],
             [
              0.4444444444444444,
              "#bd3786"
             ],
             [
              0.5555555555555556,
              "#d8576b"
             ],
             [
              0.6666666666666666,
              "#ed7953"
             ],
             [
              0.7777777777777778,
              "#fb9f3a"
             ],
             [
              0.8888888888888888,
              "#fdca26"
             ],
             [
              1,
              "#f0f921"
             ]
            ],
            "type": "contour"
           }
          ],
          "contourcarpet": [
           {
            "colorbar": {
             "outlinewidth": 0,
             "ticks": ""
            },
            "type": "contourcarpet"
           }
          ],
          "heatmap": [
           {
            "colorbar": {
             "outlinewidth": 0,
             "ticks": ""
            },
            "colorscale": [
             [
              0,
              "#0d0887"
             ],
             [
              0.1111111111111111,
              "#46039f"
             ],
             [
              0.2222222222222222,
              "#7201a8"
             ],
             [
              0.3333333333333333,
              "#9c179e"
             ],
             [
              0.4444444444444444,
              "#bd3786"
             ],
             [
              0.5555555555555556,
              "#d8576b"
             ],
             [
              0.6666666666666666,
              "#ed7953"
             ],
             [
              0.7777777777777778,
              "#fb9f3a"
             ],
             [
              0.8888888888888888,
              "#fdca26"
             ],
             [
              1,
              "#f0f921"
             ]
            ],
            "type": "heatmap"
           }
          ],
          "heatmapgl": [
           {
            "colorbar": {
             "outlinewidth": 0,
             "ticks": ""
            },
            "colorscale": [
             [
              0,
              "#0d0887"
             ],
             [
              0.1111111111111111,
              "#46039f"
             ],
             [
              0.2222222222222222,
              "#7201a8"
             ],
             [
              0.3333333333333333,
              "#9c179e"
             ],
             [
              0.4444444444444444,
              "#bd3786"
             ],
             [
              0.5555555555555556,
              "#d8576b"
             ],
             [
              0.6666666666666666,
              "#ed7953"
             ],
             [
              0.7777777777777778,
              "#fb9f3a"
             ],
             [
              0.8888888888888888,
              "#fdca26"
             ],
             [
              1,
              "#f0f921"
             ]
            ],
            "type": "heatmapgl"
           }
          ],
          "histogram": [
           {
            "marker": {
             "pattern": {
              "fillmode": "overlay",
              "size": 10,
              "solidity": 0.2
             }
            },
            "type": "histogram"
           }
          ],
          "histogram2d": [
           {
            "colorbar": {
             "outlinewidth": 0,
             "ticks": ""
            },
            "colorscale": [
             [
              0,
              "#0d0887"
             ],
             [
              0.1111111111111111,
              "#46039f"
             ],
             [
              0.2222222222222222,
              "#7201a8"
             ],
             [
              0.3333333333333333,
              "#9c179e"
             ],
             [
              0.4444444444444444,
              "#bd3786"
             ],
             [
              0.5555555555555556,
              "#d8576b"
             ],
             [
              0.6666666666666666,
              "#ed7953"
             ],
             [
              0.7777777777777778,
              "#fb9f3a"
             ],
             [
              0.8888888888888888,
              "#fdca26"
             ],
             [
              1,
              "#f0f921"
             ]
            ],
            "type": "histogram2d"
           }
          ],
          "histogram2dcontour": [
           {
            "colorbar": {
             "outlinewidth": 0,
             "ticks": ""
            },
            "colorscale": [
             [
              0,
              "#0d0887"
             ],
             [
              0.1111111111111111,
              "#46039f"
             ],
             [
              0.2222222222222222,
              "#7201a8"
             ],
             [
              0.3333333333333333,
              "#9c179e"
             ],
             [
              0.4444444444444444,
              "#bd3786"
             ],
             [
              0.5555555555555556,
              "#d8576b"
             ],
             [
              0.6666666666666666,
              "#ed7953"
             ],
             [
              0.7777777777777778,
              "#fb9f3a"
             ],
             [
              0.8888888888888888,
              "#fdca26"
             ],
             [
              1,
              "#f0f921"
             ]
            ],
            "type": "histogram2dcontour"
           }
          ],
          "mesh3d": [
           {
            "colorbar": {
             "outlinewidth": 0,
             "ticks": ""
            },
            "type": "mesh3d"
           }
          ],
          "parcoords": [
           {
            "line": {
             "colorbar": {
              "outlinewidth": 0,
              "ticks": ""
             }
            },
            "type": "parcoords"
           }
          ],
          "pie": [
           {
            "automargin": true,
            "type": "pie"
           }
          ],
          "scatter": [
           {
            "fillpattern": {
             "fillmode": "overlay",
             "size": 10,
             "solidity": 0.2
            },
            "type": "scatter"
           }
          ],
          "scatter3d": [
           {
            "line": {
             "colorbar": {
              "outlinewidth": 0,
              "ticks": ""
             }
            },
            "marker": {
             "colorbar": {
              "outlinewidth": 0,
              "ticks": ""
             }
            },
            "type": "scatter3d"
           }
          ],
          "scattercarpet": [
           {
            "marker": {
             "colorbar": {
              "outlinewidth": 0,
              "ticks": ""
             }
            },
            "type": "scattercarpet"
           }
          ],
          "scattergeo": [
           {
            "marker": {
             "colorbar": {
              "outlinewidth": 0,
              "ticks": ""
             }
            },
            "type": "scattergeo"
           }
          ],
          "scattergl": [
           {
            "marker": {
             "colorbar": {
              "outlinewidth": 0,
              "ticks": ""
             }
            },
            "type": "scattergl"
           }
          ],
          "scattermapbox": [
           {
            "marker": {
             "colorbar": {
              "outlinewidth": 0,
              "ticks": ""
             }
            },
            "type": "scattermapbox"
           }
          ],
          "scatterpolar": [
           {
            "marker": {
             "colorbar": {
              "outlinewidth": 0,
              "ticks": ""
             }
            },
            "type": "scatterpolar"
           }
          ],
          "scatterpolargl": [
           {
            "marker": {
             "colorbar": {
              "outlinewidth": 0,
              "ticks": ""
             }
            },
            "type": "scatterpolargl"
           }
          ],
          "scatterternary": [
           {
            "marker": {
             "colorbar": {
              "outlinewidth": 0,
              "ticks": ""
             }
            },
            "type": "scatterternary"
           }
          ],
          "surface": [
           {
            "colorbar": {
             "outlinewidth": 0,
             "ticks": ""
            },
            "colorscale": [
             [
              0,
              "#0d0887"
             ],
             [
              0.1111111111111111,
              "#46039f"
             ],
             [
              0.2222222222222222,
              "#7201a8"
             ],
             [
              0.3333333333333333,
              "#9c179e"
             ],
             [
              0.4444444444444444,
              "#bd3786"
             ],
             [
              0.5555555555555556,
              "#d8576b"
             ],
             [
              0.6666666666666666,
              "#ed7953"
             ],
             [
              0.7777777777777778,
              "#fb9f3a"
             ],
             [
              0.8888888888888888,
              "#fdca26"
             ],
             [
              1,
              "#f0f921"
             ]
            ],
            "type": "surface"
           }
          ],
          "table": [
           {
            "cells": {
             "fill": {
              "color": "#EBF0F8"
             },
             "line": {
              "color": "white"
             }
            },
            "header": {
             "fill": {
              "color": "#C8D4E3"
             },
             "line": {
              "color": "white"
             }
            },
            "type": "table"
           }
          ]
         },
         "layout": {
          "annotationdefaults": {
           "arrowcolor": "#2a3f5f",
           "arrowhead": 0,
           "arrowwidth": 1
          },
          "autotypenumbers": "strict",
          "coloraxis": {
           "colorbar": {
            "outlinewidth": 0,
            "ticks": ""
           }
          },
          "colorscale": {
           "diverging": [
            [
             0,
             "#8e0152"
            ],
            [
             0.1,
             "#c51b7d"
            ],
            [
             0.2,
             "#de77ae"
            ],
            [
             0.3,
             "#f1b6da"
            ],
            [
             0.4,
             "#fde0ef"
            ],
            [
             0.5,
             "#f7f7f7"
            ],
            [
             0.6,
             "#e6f5d0"
            ],
            [
             0.7,
             "#b8e186"
            ],
            [
             0.8,
             "#7fbc41"
            ],
            [
             0.9,
             "#4d9221"
            ],
            [
             1,
             "#276419"
            ]
           ],
           "sequential": [
            [
             0,
             "#0d0887"
            ],
            [
             0.1111111111111111,
             "#46039f"
            ],
            [
             0.2222222222222222,
             "#7201a8"
            ],
            [
             0.3333333333333333,
             "#9c179e"
            ],
            [
             0.4444444444444444,
             "#bd3786"
            ],
            [
             0.5555555555555556,
             "#d8576b"
            ],
            [
             0.6666666666666666,
             "#ed7953"
            ],
            [
             0.7777777777777778,
             "#fb9f3a"
            ],
            [
             0.8888888888888888,
             "#fdca26"
            ],
            [
             1,
             "#f0f921"
            ]
           ],
           "sequentialminus": [
            [
             0,
             "#0d0887"
            ],
            [
             0.1111111111111111,
             "#46039f"
            ],
            [
             0.2222222222222222,
             "#7201a8"
            ],
            [
             0.3333333333333333,
             "#9c179e"
            ],
            [
             0.4444444444444444,
             "#bd3786"
            ],
            [
             0.5555555555555556,
             "#d8576b"
            ],
            [
             0.6666666666666666,
             "#ed7953"
            ],
            [
             0.7777777777777778,
             "#fb9f3a"
            ],
            [
             0.8888888888888888,
             "#fdca26"
            ],
            [
             1,
             "#f0f921"
            ]
           ]
          },
          "colorway": [
           "#636efa",
           "#EF553B",
           "#00cc96",
           "#ab63fa",
           "#FFA15A",
           "#19d3f3",
           "#FF6692",
           "#B6E880",
           "#FF97FF",
           "#FECB52"
          ],
          "font": {
           "color": "#2a3f5f"
          },
          "geo": {
           "bgcolor": "white",
           "lakecolor": "white",
           "landcolor": "#E5ECF6",
           "showlakes": true,
           "showland": true,
           "subunitcolor": "white"
          },
          "hoverlabel": {
           "align": "left"
          },
          "hovermode": "closest",
          "mapbox": {
           "style": "light"
          },
          "paper_bgcolor": "white",
          "plot_bgcolor": "#E5ECF6",
          "polar": {
           "angularaxis": {
            "gridcolor": "white",
            "linecolor": "white",
            "ticks": ""
           },
           "bgcolor": "#E5ECF6",
           "radialaxis": {
            "gridcolor": "white",
            "linecolor": "white",
            "ticks": ""
           }
          },
          "scene": {
           "xaxis": {
            "backgroundcolor": "#E5ECF6",
            "gridcolor": "white",
            "gridwidth": 2,
            "linecolor": "white",
            "showbackground": true,
            "ticks": "",
            "zerolinecolor": "white"
           },
           "yaxis": {
            "backgroundcolor": "#E5ECF6",
            "gridcolor": "white",
            "gridwidth": 2,
            "linecolor": "white",
            "showbackground": true,
            "ticks": "",
            "zerolinecolor": "white"
           },
           "zaxis": {
            "backgroundcolor": "#E5ECF6",
            "gridcolor": "white",
            "gridwidth": 2,
            "linecolor": "white",
            "showbackground": true,
            "ticks": "",
            "zerolinecolor": "white"
           }
          },
          "shapedefaults": {
           "line": {
            "color": "#2a3f5f"
           }
          },
          "ternary": {
           "aaxis": {
            "gridcolor": "white",
            "linecolor": "white",
            "ticks": ""
           },
           "baxis": {
            "gridcolor": "white",
            "linecolor": "white",
            "ticks": ""
           },
           "bgcolor": "#E5ECF6",
           "caxis": {
            "gridcolor": "white",
            "linecolor": "white",
            "ticks": ""
           }
          },
          "title": {
           "x": 0.05
          },
          "xaxis": {
           "automargin": true,
           "gridcolor": "white",
           "linecolor": "white",
           "ticks": "",
           "title": {
            "standoff": 15
           },
           "zerolinecolor": "white",
           "zerolinewidth": 2
          },
          "yaxis": {
           "automargin": true,
           "gridcolor": "white",
           "linecolor": "white",
           "ticks": "",
           "title": {
            "standoff": 15
           },
           "zerolinecolor": "white",
           "zerolinewidth": 2
          }
         }
        },
        "width": 1500,
        "xaxis": {
         "anchor": "y",
         "domain": [
          0,
          1
         ],
         "gridcolor": "LightGrey",
         "showgrid": false,
         "showline": true,
         "tickfont": {
          "family": "Josefin Sans Bold",
          "size": 20
         },
         "title": {
          "text": ""
         }
        },
        "yaxis": {
         "anchor": "x",
         "domain": [
          0,
          1
         ],
         "gridcolor": "LightGrey",
         "nticks": 15,
         "showgrid": true,
         "showline": true,
         "tickfont": {
          "family": "Josefin Sans Bold",
          "size": 20
         },
         "title": {
          "text": "Preço de Fechamento"
         }
        }
       }
      }
     },
     "metadata": {},
     "output_type": "display_data"
    }
   ],
   "source": [
    "empresas = [\n",
    "    \"Lojas Renner\",\n",
    "    \"Riachuelo\",\n",
    "    \"Marisa\",\n",
    "    \"C&A\",\n",
    "    \"Arezzo\",\n",
    "    \"Grupo SOMA\",\n",
    "    \"Le Lis Blanc\",\n",
    "]\n",
    "\n",
    "preco_acoes = acoes.loc[(acoes[\"periodo\"] >= \"2017-01-01\")]\n",
    "\n",
    "fig = px.line(\n",
    "    preco_acoes, x=\"periodo\", y=empresas, height=800, width=1500, markers=False\n",
    ")\n",
    "\n",
    "\n",
    "xaxis_attribs = dict(\n",
    "    showline=True,\n",
    "    showgrid=False,\n",
    "    tickfont=dict(family=\"Josefin Sans Bold\", size=20),\n",
    "    gridcolor=\"LightGrey\",\n",
    ")\n",
    "yaxis_attribs = dict(\n",
    "    showline=True,\n",
    "    showgrid=True,\n",
    "    tickfont=dict(family=\"Josefin Sans Bold\", size=20),\n",
    "    nticks=15,\n",
    "    gridcolor=\"LightGrey\",\n",
    ")\n",
    "legend_attribs = dict(\n",
    "    yanchor=\"top\",\n",
    "    xanchor=\"left\",\n",
    "    y=0.99,\n",
    "    x=0.01,\n",
    "    title_font_family=\"Josefin Sans Bold\",\n",
    "    font=dict(family=\"Josefin Sans Bold\", size=20),\n",
    ")\n",
    "\n",
    "fig.update_layout(\n",
    "    xaxis_title=\"\",\n",
    "    yaxis_title=\"Preço de Fechamento\",\n",
    "    plot_bgcolor=\"white\",\n",
    "    legend_title_text=\"\",\n",
    "    xaxis=xaxis_attribs,\n",
    "    yaxis=yaxis_attribs,\n",
    "    legend=legend_attribs,\n",
    "    font=dict(family=\"Josefin Sans Bold\", size=20),\n",
    ")\n",
    "fig.update_traces(line=dict(width=3))\n",
    "\n",
    "fig.show()"
   ]
  },
  {
   "cell_type": "markdown",
   "metadata": {},
   "source": [
    "#### Pesquisa Mensal do Comércio - Volume de Vendas\n",
    "***"
   ]
  },
  {
   "cell_type": "code",
   "execution_count": 73,
   "metadata": {},
   "outputs": [
    {
     "data": {
      "application/vnd.plotly.v1+json": {
       "config": {
        "plotlyServerURL": "https://plot.ly"
       },
       "data": [
        {
         "hovertemplate": "variable=Volume - PMC - Total<br>periodo=%{x}<br>value=%{y}<extra></extra>",
         "legendgroup": "Volume - PMC - Total",
         "line": {
          "color": "#636efa",
          "dash": "solid",
          "width": 3
         },
         "marker": {
          "symbol": "circle"
         },
         "mode": "lines",
         "name": "Volume - PMC - Total",
         "orientation": "v",
         "showlegend": true,
         "type": "scatter",
         "x": [
          "2017-01-01T00:00:00",
          "2017-02-01T00:00:00",
          "2017-03-01T00:00:00",
          "2017-04-01T00:00:00",
          "2017-05-01T00:00:00",
          "2017-06-01T00:00:00",
          "2017-07-01T00:00:00",
          "2017-08-01T00:00:00",
          "2017-09-01T00:00:00",
          "2017-10-01T00:00:00",
          "2017-11-01T00:00:00",
          "2017-12-01T00:00:00",
          "2018-01-01T00:00:00",
          "2018-02-01T00:00:00",
          "2018-03-01T00:00:00",
          "2018-04-01T00:00:00",
          "2018-05-01T00:00:00",
          "2018-06-01T00:00:00",
          "2018-07-01T00:00:00",
          "2018-08-01T00:00:00",
          "2018-09-01T00:00:00",
          "2018-10-01T00:00:00",
          "2018-11-01T00:00:00",
          "2018-12-01T00:00:00",
          "2019-01-01T00:00:00",
          "2019-02-01T00:00:00",
          "2019-03-01T00:00:00",
          "2019-04-01T00:00:00",
          "2019-05-01T00:00:00",
          "2019-06-01T00:00:00",
          "2019-07-01T00:00:00",
          "2019-08-01T00:00:00",
          "2019-09-01T00:00:00",
          "2019-10-01T00:00:00",
          "2019-11-01T00:00:00",
          "2019-12-01T00:00:00",
          "2020-01-01T00:00:00",
          "2020-02-01T00:00:00",
          "2020-03-01T00:00:00",
          "2020-04-01T00:00:00",
          "2020-05-01T00:00:00",
          "2020-06-01T00:00:00",
          "2020-07-01T00:00:00",
          "2020-08-01T00:00:00",
          "2020-09-01T00:00:00",
          "2020-10-01T00:00:00",
          "2020-11-01T00:00:00",
          "2020-12-01T00:00:00",
          "2021-01-01T00:00:00",
          "2021-02-01T00:00:00",
          "2021-03-01T00:00:00",
          "2021-04-01T00:00:00",
          "2021-05-01T00:00:00",
          "2021-06-01T00:00:00",
          "2021-07-01T00:00:00",
          "2021-08-01T00:00:00",
          "2021-09-01T00:00:00",
          "2021-10-01T00:00:00",
          "2021-11-01T00:00:00",
          "2021-12-01T00:00:00"
         ],
         "xaxis": "x",
         "y": [
          88.11551,
          81.07053,
          87.50107,
          87.29068,
          89.38902,
          88.21176,
          89.89755,
          90.22924,
          89.24948,
          90.88486,
          97.30095,
          119.53737,
          90.89878,
          82.29588,
          94.53571,
          87.92588,
          91.83388,
          89.61328,
          89.03219,
          93.90546,
          89.40063,
          92.6599,
          101.69601,
          120.34426,
          92.6109,
          85.57359,
          90.33794,
          89.49337,
          92.74392,
          89.72341,
          92.82612,
          95.20323,
          91.38233,
          96.6,
          104.85713,
          123.4918,
          93.92583,
          89.57254,
          89.30392,
          74.15438,
          85.89734,
          90.16065,
          97.92533,
          101.07764,
          98.03824,
          104.67262,
          108.58743,
          125.05778,
          93.5506,
          86.09025,
          91.29534,
          91.74785,
          99.58965,
          95.87829,
          103.55395,
          96.9722,
          92.96358,
          97.52042,
          104.02254,
          121.37463
         ],
         "yaxis": "y"
        },
        {
         "hovertemplate": "variable=Volume - Tecidos, Vestuário e Calçados<br>periodo=%{x}<br>value=%{y}<extra></extra>",
         "legendgroup": "Volume - Tecidos, Vestuário e Calçados",
         "line": {
          "color": "#EF553B",
          "dash": "solid",
          "width": 3
         },
         "marker": {
          "symbol": "circle"
         },
         "mode": "lines",
         "name": "Volume - Tecidos, Vestuário e Calçados",
         "orientation": "v",
         "showlegend": true,
         "type": "scatter",
         "x": [
          "2017-01-01T00:00:00",
          "2017-02-01T00:00:00",
          "2017-03-01T00:00:00",
          "2017-04-01T00:00:00",
          "2017-05-01T00:00:00",
          "2017-06-01T00:00:00",
          "2017-07-01T00:00:00",
          "2017-08-01T00:00:00",
          "2017-09-01T00:00:00",
          "2017-10-01T00:00:00",
          "2017-11-01T00:00:00",
          "2017-12-01T00:00:00",
          "2018-01-01T00:00:00",
          "2018-02-01T00:00:00",
          "2018-03-01T00:00:00",
          "2018-04-01T00:00:00",
          "2018-05-01T00:00:00",
          "2018-06-01T00:00:00",
          "2018-07-01T00:00:00",
          "2018-08-01T00:00:00",
          "2018-09-01T00:00:00",
          "2018-10-01T00:00:00",
          "2018-11-01T00:00:00",
          "2018-12-01T00:00:00",
          "2019-01-01T00:00:00",
          "2019-02-01T00:00:00",
          "2019-03-01T00:00:00",
          "2019-04-01T00:00:00",
          "2019-05-01T00:00:00",
          "2019-06-01T00:00:00",
          "2019-07-01T00:00:00",
          "2019-08-01T00:00:00",
          "2019-09-01T00:00:00",
          "2019-10-01T00:00:00",
          "2019-11-01T00:00:00",
          "2019-12-01T00:00:00",
          "2020-01-01T00:00:00",
          "2020-02-01T00:00:00",
          "2020-03-01T00:00:00",
          "2020-04-01T00:00:00",
          "2020-05-01T00:00:00",
          "2020-06-01T00:00:00",
          "2020-07-01T00:00:00",
          "2020-08-01T00:00:00",
          "2020-09-01T00:00:00",
          "2020-10-01T00:00:00",
          "2020-11-01T00:00:00",
          "2020-12-01T00:00:00",
          "2021-01-01T00:00:00",
          "2021-02-01T00:00:00",
          "2021-03-01T00:00:00",
          "2021-04-01T00:00:00",
          "2021-05-01T00:00:00",
          "2021-06-01T00:00:00",
          "2021-07-01T00:00:00",
          "2021-08-01T00:00:00",
          "2021-09-01T00:00:00",
          "2021-10-01T00:00:00",
          "2021-11-01T00:00:00",
          "2021-12-01T00:00:00"
         ],
         "xaxis": "x",
         "y": [
          72.01356,
          63.41854,
          76.00017,
          80.06831,
          90.72302,
          92.71389,
          89.60085,
          82.4294,
          76.29347,
          77.56784,
          88.10432,
          162.54053,
          72.41952,
          60.66575,
          75.6981,
          74.55515,
          87.72862,
          90.11592,
          82.45653,
          85.13685,
          77.48282,
          81.02837,
          92.95993,
          160.91203,
          71.40525,
          67.20689,
          72.07544,
          72.16065,
          86.64453,
          88.72012,
          87.83826,
          82.2665,
          76.2728,
          82.88565,
          94.46159,
          160.74441,
          73.2791,
          67.7296,
          43.49043,
          13.87688,
          32.32109,
          50.01304,
          60.49294,
          77.23029,
          71.02676,
          80.96649,
          91.18842,
          146.12371,
          57.74643,
          54.97609,
          37.13396,
          55.68184,
          85.72252,
          80.71698,
          85.90898,
          78.07314,
          71.25253,
          79.35732,
          87.18422,
          144.61773
         ],
         "yaxis": "y"
        }
       ],
       "layout": {
        "font": {
         "family": "Josefin Sans Bold",
         "size": 20
        },
        "height": 800,
        "legend": {
         "font": {
          "family": "Josefin Sans Bold",
          "size": 20
         },
         "title": {
          "font": {
           "family": "Josefin Sans Bold"
          },
          "text": ""
         },
         "tracegroupgap": 0,
         "x": 0.01,
         "xanchor": "left",
         "y": 0.05,
         "yanchor": "bottom"
        },
        "margin": {
         "t": 60
        },
        "plot_bgcolor": "white",
        "template": {
         "data": {
          "bar": [
           {
            "error_x": {
             "color": "#2a3f5f"
            },
            "error_y": {
             "color": "#2a3f5f"
            },
            "marker": {
             "line": {
              "color": "#E5ECF6",
              "width": 0.5
             },
             "pattern": {
              "fillmode": "overlay",
              "size": 10,
              "solidity": 0.2
             }
            },
            "type": "bar"
           }
          ],
          "barpolar": [
           {
            "marker": {
             "line": {
              "color": "#E5ECF6",
              "width": 0.5
             },
             "pattern": {
              "fillmode": "overlay",
              "size": 10,
              "solidity": 0.2
             }
            },
            "type": "barpolar"
           }
          ],
          "carpet": [
           {
            "aaxis": {
             "endlinecolor": "#2a3f5f",
             "gridcolor": "white",
             "linecolor": "white",
             "minorgridcolor": "white",
             "startlinecolor": "#2a3f5f"
            },
            "baxis": {
             "endlinecolor": "#2a3f5f",
             "gridcolor": "white",
             "linecolor": "white",
             "minorgridcolor": "white",
             "startlinecolor": "#2a3f5f"
            },
            "type": "carpet"
           }
          ],
          "choropleth": [
           {
            "colorbar": {
             "outlinewidth": 0,
             "ticks": ""
            },
            "type": "choropleth"
           }
          ],
          "contour": [
           {
            "colorbar": {
             "outlinewidth": 0,
             "ticks": ""
            },
            "colorscale": [
             [
              0,
              "#0d0887"
             ],
             [
              0.1111111111111111,
              "#46039f"
             ],
             [
              0.2222222222222222,
              "#7201a8"
             ],
             [
              0.3333333333333333,
              "#9c179e"
             ],
             [
              0.4444444444444444,
              "#bd3786"
             ],
             [
              0.5555555555555556,
              "#d8576b"
             ],
             [
              0.6666666666666666,
              "#ed7953"
             ],
             [
              0.7777777777777778,
              "#fb9f3a"
             ],
             [
              0.8888888888888888,
              "#fdca26"
             ],
             [
              1,
              "#f0f921"
             ]
            ],
            "type": "contour"
           }
          ],
          "contourcarpet": [
           {
            "colorbar": {
             "outlinewidth": 0,
             "ticks": ""
            },
            "type": "contourcarpet"
           }
          ],
          "heatmap": [
           {
            "colorbar": {
             "outlinewidth": 0,
             "ticks": ""
            },
            "colorscale": [
             [
              0,
              "#0d0887"
             ],
             [
              0.1111111111111111,
              "#46039f"
             ],
             [
              0.2222222222222222,
              "#7201a8"
             ],
             [
              0.3333333333333333,
              "#9c179e"
             ],
             [
              0.4444444444444444,
              "#bd3786"
             ],
             [
              0.5555555555555556,
              "#d8576b"
             ],
             [
              0.6666666666666666,
              "#ed7953"
             ],
             [
              0.7777777777777778,
              "#fb9f3a"
             ],
             [
              0.8888888888888888,
              "#fdca26"
             ],
             [
              1,
              "#f0f921"
             ]
            ],
            "type": "heatmap"
           }
          ],
          "heatmapgl": [
           {
            "colorbar": {
             "outlinewidth": 0,
             "ticks": ""
            },
            "colorscale": [
             [
              0,
              "#0d0887"
             ],
             [
              0.1111111111111111,
              "#46039f"
             ],
             [
              0.2222222222222222,
              "#7201a8"
             ],
             [
              0.3333333333333333,
              "#9c179e"
             ],
             [
              0.4444444444444444,
              "#bd3786"
             ],
             [
              0.5555555555555556,
              "#d8576b"
             ],
             [
              0.6666666666666666,
              "#ed7953"
             ],
             [
              0.7777777777777778,
              "#fb9f3a"
             ],
             [
              0.8888888888888888,
              "#fdca26"
             ],
             [
              1,
              "#f0f921"
             ]
            ],
            "type": "heatmapgl"
           }
          ],
          "histogram": [
           {
            "marker": {
             "pattern": {
              "fillmode": "overlay",
              "size": 10,
              "solidity": 0.2
             }
            },
            "type": "histogram"
           }
          ],
          "histogram2d": [
           {
            "colorbar": {
             "outlinewidth": 0,
             "ticks": ""
            },
            "colorscale": [
             [
              0,
              "#0d0887"
             ],
             [
              0.1111111111111111,
              "#46039f"
             ],
             [
              0.2222222222222222,
              "#7201a8"
             ],
             [
              0.3333333333333333,
              "#9c179e"
             ],
             [
              0.4444444444444444,
              "#bd3786"
             ],
             [
              0.5555555555555556,
              "#d8576b"
             ],
             [
              0.6666666666666666,
              "#ed7953"
             ],
             [
              0.7777777777777778,
              "#fb9f3a"
             ],
             [
              0.8888888888888888,
              "#fdca26"
             ],
             [
              1,
              "#f0f921"
             ]
            ],
            "type": "histogram2d"
           }
          ],
          "histogram2dcontour": [
           {
            "colorbar": {
             "outlinewidth": 0,
             "ticks": ""
            },
            "colorscale": [
             [
              0,
              "#0d0887"
             ],
             [
              0.1111111111111111,
              "#46039f"
             ],
             [
              0.2222222222222222,
              "#7201a8"
             ],
             [
              0.3333333333333333,
              "#9c179e"
             ],
             [
              0.4444444444444444,
              "#bd3786"
             ],
             [
              0.5555555555555556,
              "#d8576b"
             ],
             [
              0.6666666666666666,
              "#ed7953"
             ],
             [
              0.7777777777777778,
              "#fb9f3a"
             ],
             [
              0.8888888888888888,
              "#fdca26"
             ],
             [
              1,
              "#f0f921"
             ]
            ],
            "type": "histogram2dcontour"
           }
          ],
          "mesh3d": [
           {
            "colorbar": {
             "outlinewidth": 0,
             "ticks": ""
            },
            "type": "mesh3d"
           }
          ],
          "parcoords": [
           {
            "line": {
             "colorbar": {
              "outlinewidth": 0,
              "ticks": ""
             }
            },
            "type": "parcoords"
           }
          ],
          "pie": [
           {
            "automargin": true,
            "type": "pie"
           }
          ],
          "scatter": [
           {
            "fillpattern": {
             "fillmode": "overlay",
             "size": 10,
             "solidity": 0.2
            },
            "type": "scatter"
           }
          ],
          "scatter3d": [
           {
            "line": {
             "colorbar": {
              "outlinewidth": 0,
              "ticks": ""
             }
            },
            "marker": {
             "colorbar": {
              "outlinewidth": 0,
              "ticks": ""
             }
            },
            "type": "scatter3d"
           }
          ],
          "scattercarpet": [
           {
            "marker": {
             "colorbar": {
              "outlinewidth": 0,
              "ticks": ""
             }
            },
            "type": "scattercarpet"
           }
          ],
          "scattergeo": [
           {
            "marker": {
             "colorbar": {
              "outlinewidth": 0,
              "ticks": ""
             }
            },
            "type": "scattergeo"
           }
          ],
          "scattergl": [
           {
            "marker": {
             "colorbar": {
              "outlinewidth": 0,
              "ticks": ""
             }
            },
            "type": "scattergl"
           }
          ],
          "scattermapbox": [
           {
            "marker": {
             "colorbar": {
              "outlinewidth": 0,
              "ticks": ""
             }
            },
            "type": "scattermapbox"
           }
          ],
          "scatterpolar": [
           {
            "marker": {
             "colorbar": {
              "outlinewidth": 0,
              "ticks": ""
             }
            },
            "type": "scatterpolar"
           }
          ],
          "scatterpolargl": [
           {
            "marker": {
             "colorbar": {
              "outlinewidth": 0,
              "ticks": ""
             }
            },
            "type": "scatterpolargl"
           }
          ],
          "scatterternary": [
           {
            "marker": {
             "colorbar": {
              "outlinewidth": 0,
              "ticks": ""
             }
            },
            "type": "scatterternary"
           }
          ],
          "surface": [
           {
            "colorbar": {
             "outlinewidth": 0,
             "ticks": ""
            },
            "colorscale": [
             [
              0,
              "#0d0887"
             ],
             [
              0.1111111111111111,
              "#46039f"
             ],
             [
              0.2222222222222222,
              "#7201a8"
             ],
             [
              0.3333333333333333,
              "#9c179e"
             ],
             [
              0.4444444444444444,
              "#bd3786"
             ],
             [
              0.5555555555555556,
              "#d8576b"
             ],
             [
              0.6666666666666666,
              "#ed7953"
             ],
             [
              0.7777777777777778,
              "#fb9f3a"
             ],
             [
              0.8888888888888888,
              "#fdca26"
             ],
             [
              1,
              "#f0f921"
             ]
            ],
            "type": "surface"
           }
          ],
          "table": [
           {
            "cells": {
             "fill": {
              "color": "#EBF0F8"
             },
             "line": {
              "color": "white"
             }
            },
            "header": {
             "fill": {
              "color": "#C8D4E3"
             },
             "line": {
              "color": "white"
             }
            },
            "type": "table"
           }
          ]
         },
         "layout": {
          "annotationdefaults": {
           "arrowcolor": "#2a3f5f",
           "arrowhead": 0,
           "arrowwidth": 1
          },
          "autotypenumbers": "strict",
          "coloraxis": {
           "colorbar": {
            "outlinewidth": 0,
            "ticks": ""
           }
          },
          "colorscale": {
           "diverging": [
            [
             0,
             "#8e0152"
            ],
            [
             0.1,
             "#c51b7d"
            ],
            [
             0.2,
             "#de77ae"
            ],
            [
             0.3,
             "#f1b6da"
            ],
            [
             0.4,
             "#fde0ef"
            ],
            [
             0.5,
             "#f7f7f7"
            ],
            [
             0.6,
             "#e6f5d0"
            ],
            [
             0.7,
             "#b8e186"
            ],
            [
             0.8,
             "#7fbc41"
            ],
            [
             0.9,
             "#4d9221"
            ],
            [
             1,
             "#276419"
            ]
           ],
           "sequential": [
            [
             0,
             "#0d0887"
            ],
            [
             0.1111111111111111,
             "#46039f"
            ],
            [
             0.2222222222222222,
             "#7201a8"
            ],
            [
             0.3333333333333333,
             "#9c179e"
            ],
            [
             0.4444444444444444,
             "#bd3786"
            ],
            [
             0.5555555555555556,
             "#d8576b"
            ],
            [
             0.6666666666666666,
             "#ed7953"
            ],
            [
             0.7777777777777778,
             "#fb9f3a"
            ],
            [
             0.8888888888888888,
             "#fdca26"
            ],
            [
             1,
             "#f0f921"
            ]
           ],
           "sequentialminus": [
            [
             0,
             "#0d0887"
            ],
            [
             0.1111111111111111,
             "#46039f"
            ],
            [
             0.2222222222222222,
             "#7201a8"
            ],
            [
             0.3333333333333333,
             "#9c179e"
            ],
            [
             0.4444444444444444,
             "#bd3786"
            ],
            [
             0.5555555555555556,
             "#d8576b"
            ],
            [
             0.6666666666666666,
             "#ed7953"
            ],
            [
             0.7777777777777778,
             "#fb9f3a"
            ],
            [
             0.8888888888888888,
             "#fdca26"
            ],
            [
             1,
             "#f0f921"
            ]
           ]
          },
          "colorway": [
           "#636efa",
           "#EF553B",
           "#00cc96",
           "#ab63fa",
           "#FFA15A",
           "#19d3f3",
           "#FF6692",
           "#B6E880",
           "#FF97FF",
           "#FECB52"
          ],
          "font": {
           "color": "#2a3f5f"
          },
          "geo": {
           "bgcolor": "white",
           "lakecolor": "white",
           "landcolor": "#E5ECF6",
           "showlakes": true,
           "showland": true,
           "subunitcolor": "white"
          },
          "hoverlabel": {
           "align": "left"
          },
          "hovermode": "closest",
          "mapbox": {
           "style": "light"
          },
          "paper_bgcolor": "white",
          "plot_bgcolor": "#E5ECF6",
          "polar": {
           "angularaxis": {
            "gridcolor": "white",
            "linecolor": "white",
            "ticks": ""
           },
           "bgcolor": "#E5ECF6",
           "radialaxis": {
            "gridcolor": "white",
            "linecolor": "white",
            "ticks": ""
           }
          },
          "scene": {
           "xaxis": {
            "backgroundcolor": "#E5ECF6",
            "gridcolor": "white",
            "gridwidth": 2,
            "linecolor": "white",
            "showbackground": true,
            "ticks": "",
            "zerolinecolor": "white"
           },
           "yaxis": {
            "backgroundcolor": "#E5ECF6",
            "gridcolor": "white",
            "gridwidth": 2,
            "linecolor": "white",
            "showbackground": true,
            "ticks": "",
            "zerolinecolor": "white"
           },
           "zaxis": {
            "backgroundcolor": "#E5ECF6",
            "gridcolor": "white",
            "gridwidth": 2,
            "linecolor": "white",
            "showbackground": true,
            "ticks": "",
            "zerolinecolor": "white"
           }
          },
          "shapedefaults": {
           "line": {
            "color": "#2a3f5f"
           }
          },
          "ternary": {
           "aaxis": {
            "gridcolor": "white",
            "linecolor": "white",
            "ticks": ""
           },
           "baxis": {
            "gridcolor": "white",
            "linecolor": "white",
            "ticks": ""
           },
           "bgcolor": "#E5ECF6",
           "caxis": {
            "gridcolor": "white",
            "linecolor": "white",
            "ticks": ""
           }
          },
          "title": {
           "x": 0.05
          },
          "xaxis": {
           "automargin": true,
           "gridcolor": "white",
           "linecolor": "white",
           "ticks": "",
           "title": {
            "standoff": 15
           },
           "zerolinecolor": "white",
           "zerolinewidth": 2
          },
          "yaxis": {
           "automargin": true,
           "gridcolor": "white",
           "linecolor": "white",
           "ticks": "",
           "title": {
            "standoff": 15
           },
           "zerolinecolor": "white",
           "zerolinewidth": 2
          }
         }
        },
        "width": 1500,
        "xaxis": {
         "anchor": "y",
         "domain": [
          0,
          1
         ],
         "gridcolor": "LightGrey",
         "showgrid": false,
         "showline": true,
         "tickfont": {
          "family": "Josefin Sans Bold",
          "size": 20
         },
         "title": {
          "text": ""
         }
        },
        "yaxis": {
         "anchor": "x",
         "domain": [
          0,
          1
         ],
         "gridcolor": "LightGrey",
         "nticks": 15,
         "showgrid": true,
         "showline": true,
         "tickfont": {
          "family": "Josefin Sans Bold",
          "size": 20
         },
         "title": {
          "text": "Volume de Vendas Dessazonalizado"
         }
        }
       }
      }
     },
     "metadata": {},
     "output_type": "display_data"
    }
   ],
   "source": [
    "empresas = [\n",
    "    \"Lojas Renner\",\n",
    "    \"Riachuelo\",\n",
    "    \"Marisa\",\n",
    "    \"C&A\",\n",
    "    \"Arezzo\",\n",
    "    \"Grupo SOMA\",\n",
    "    \"Le Lis Blanc\",\n",
    "]\n",
    "\n",
    "tempo_relevante_comercio = comercio.loc[(comercio[\"periodo\"] >= \"2017-01-01\")]\n",
    "\n",
    "fig = px.line(\n",
    "    tempo_relevante_comercio,\n",
    "    x=\"periodo\",\n",
    "    y=[\"Volume - PMC - Total\", \"Volume - Tecidos, Vestuário e Calçados\"],\n",
    "    height=800,\n",
    "    width=1500,\n",
    "    markers=False,\n",
    ")\n",
    "xaxis_attribs = dict(\n",
    "    showline=True,\n",
    "    showgrid=False,\n",
    "    tickfont=dict(family=\"Josefin Sans Bold\", size=20),\n",
    "    gridcolor=\"LightGrey\",\n",
    ")\n",
    "yaxis_attribs = dict(\n",
    "    showline=True,\n",
    "    showgrid=True,\n",
    "    tickfont=dict(family=\"Josefin Sans Bold\", size=20),\n",
    "    nticks=15,\n",
    "    gridcolor=\"LightGrey\",\n",
    ")\n",
    "legend_attribs = dict(\n",
    "    yanchor=\"bottom\",\n",
    "    xanchor=\"left\",\n",
    "    y=0.05,\n",
    "    x=0.01,\n",
    "    title_font_family=\"Josefin Sans Bold\",\n",
    "    font=dict(family=\"Josefin Sans Bold\", size=20),\n",
    ")\n",
    "\n",
    "fig.update_layout(\n",
    "    xaxis_title=\"\",\n",
    "    yaxis_title=\"Volume de Vendas Dessazonalizado\",\n",
    "    plot_bgcolor=\"white\",\n",
    "    legend_title_text=\"\",\n",
    "    xaxis=xaxis_attribs,\n",
    "    yaxis=yaxis_attribs,\n",
    "    legend=legend_attribs,\n",
    "    font=dict(family=\"Josefin Sans Bold\", size=20),\n",
    ")\n",
    "fig.update_traces(line=dict(width=3))\n",
    "\n",
    "fig.show()"
   ]
  },
  {
   "cell_type": "code",
   "execution_count": null,
   "metadata": {},
   "outputs": [],
   "source": []
  }
 ],
 "metadata": {
  "kernelspec": {
   "display_name": "Python 3.10.7 64-bit",
   "language": "python",
   "name": "python3"
  },
  "language_info": {
   "codemirror_mode": {
    "name": "ipython",
    "version": 3
   },
   "file_extension": ".py",
   "mimetype": "text/x-python",
   "name": "python",
   "nbconvert_exporter": "python",
   "pygments_lexer": "ipython3",
   "version": "3.10.7"
  },
  "orig_nbformat": 4,
  "vscode": {
   "interpreter": {
    "hash": "5fe3e6f0cdaab8afdc61c52912fda83f7c0a71baaea1897dd7498e2df01e69ec"
   }
  }
 },
 "nbformat": 4,
 "nbformat_minor": 2
}
